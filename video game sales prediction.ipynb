{
 "cells": [
  {
   "cell_type": "code",
   "execution_count": 2,
   "id": "6f0dee27",
   "metadata": {},
   "outputs": [],
   "source": [
    "import pandas as pd"
   ]
  },
  {
   "cell_type": "code",
   "execution_count": 3,
   "id": "e3945a22",
   "metadata": {},
   "outputs": [],
   "source": [
    "import numpy as np"
   ]
  },
  {
   "cell_type": "code",
   "execution_count": 4,
   "id": "3fed4fb9",
   "metadata": {},
   "outputs": [],
   "source": [
    "import seaborn as sns"
   ]
  },
  {
   "cell_type": "code",
   "execution_count": 5,
   "id": "1bcc6eba",
   "metadata": {},
   "outputs": [],
   "source": [
    "import matplotlib.pyplot as plt"
   ]
  },
  {
   "cell_type": "code",
   "execution_count": 6,
   "id": "79118186",
   "metadata": {},
   "outputs": [],
   "source": [
    "from sklearn.preprocessing import LabelEncoder"
   ]
  },
  {
   "cell_type": "code",
   "execution_count": 7,
   "id": "ab481c70",
   "metadata": {},
   "outputs": [],
   "source": [
    "from sklearn.preprocessing import StandardScaler"
   ]
  },
  {
   "cell_type": "code",
   "execution_count": 8,
   "id": "c3d45bf8",
   "metadata": {},
   "outputs": [],
   "source": [
    "from sklearn.ensemble import RandomForestRegressor"
   ]
  },
  {
   "cell_type": "code",
   "execution_count": 9,
   "id": "e67cba5f",
   "metadata": {},
   "outputs": [],
   "source": [
    "from sklearn.neighbors import KNeighborsRegressor"
   ]
  },
  {
   "cell_type": "code",
   "execution_count": 10,
   "id": "59821339",
   "metadata": {},
   "outputs": [],
   "source": [
    "from sklearn.linear_model import LinearRegression"
   ]
  },
  {
   "cell_type": "code",
   "execution_count": 11,
   "id": "942a6eda",
   "metadata": {},
   "outputs": [],
   "source": [
    "from sklearn.model_selection import train_test_split,KFold,cross_val_score"
   ]
  },
  {
   "cell_type": "code",
   "execution_count": 12,
   "id": "d3fcb938",
   "metadata": {},
   "outputs": [],
   "source": [
    "from sklearn.metrics import r2_score,confusion_matrix,classification_report"
   ]
  },
  {
   "cell_type": "code",
   "execution_count": 13,
   "id": "9494f310",
   "metadata": {},
   "outputs": [],
   "source": [
    "import xgboost as xgb"
   ]
  },
  {
   "cell_type": "code",
   "execution_count": 14,
   "id": "163329cc",
   "metadata": {},
   "outputs": [],
   "source": [
    "import tensorflow as tf"
   ]
  },
  {
   "cell_type": "code",
   "execution_count": 15,
   "id": "dd7ce674",
   "metadata": {},
   "outputs": [],
   "source": [
    "from tensorflow import keras"
   ]
  },
  {
   "cell_type": "code",
   "execution_count": 16,
   "id": "55e97a60",
   "metadata": {},
   "outputs": [],
   "source": [
    "df=pd.read_csv(\"vgsales.csv\")\n"
   ]
  },
  {
   "cell_type": "code",
   "execution_count": 17,
   "id": "ce4290b3",
   "metadata": {},
   "outputs": [
    {
     "data": {
      "text/html": [
       "<div>\n",
       "<style scoped>\n",
       "    .dataframe tbody tr th:only-of-type {\n",
       "        vertical-align: middle;\n",
       "    }\n",
       "\n",
       "    .dataframe tbody tr th {\n",
       "        vertical-align: top;\n",
       "    }\n",
       "\n",
       "    .dataframe thead th {\n",
       "        text-align: right;\n",
       "    }\n",
       "</style>\n",
       "<table border=\"1\" class=\"dataframe\">\n",
       "  <thead>\n",
       "    <tr style=\"text-align: right;\">\n",
       "      <th></th>\n",
       "      <th>Rank</th>\n",
       "      <th>Name</th>\n",
       "      <th>Platform</th>\n",
       "      <th>Year</th>\n",
       "      <th>Genre</th>\n",
       "      <th>Publisher</th>\n",
       "      <th>NA_Sales</th>\n",
       "      <th>EU_Sales</th>\n",
       "      <th>JP_Sales</th>\n",
       "      <th>Other_Sales</th>\n",
       "      <th>Global_Sales</th>\n",
       "    </tr>\n",
       "  </thead>\n",
       "  <tbody>\n",
       "    <tr>\n",
       "      <th>0</th>\n",
       "      <td>1</td>\n",
       "      <td>Wii Sports</td>\n",
       "      <td>Wii</td>\n",
       "      <td>2006.0</td>\n",
       "      <td>Sports</td>\n",
       "      <td>Nintendo</td>\n",
       "      <td>41.49</td>\n",
       "      <td>29.02</td>\n",
       "      <td>3.77</td>\n",
       "      <td>8.46</td>\n",
       "      <td>82.74</td>\n",
       "    </tr>\n",
       "    <tr>\n",
       "      <th>1</th>\n",
       "      <td>2</td>\n",
       "      <td>Super Mario Bros.</td>\n",
       "      <td>NES</td>\n",
       "      <td>1985.0</td>\n",
       "      <td>Platform</td>\n",
       "      <td>Nintendo</td>\n",
       "      <td>29.08</td>\n",
       "      <td>3.58</td>\n",
       "      <td>6.81</td>\n",
       "      <td>0.77</td>\n",
       "      <td>40.24</td>\n",
       "    </tr>\n",
       "    <tr>\n",
       "      <th>2</th>\n",
       "      <td>3</td>\n",
       "      <td>Mario Kart Wii</td>\n",
       "      <td>Wii</td>\n",
       "      <td>2008.0</td>\n",
       "      <td>Racing</td>\n",
       "      <td>Nintendo</td>\n",
       "      <td>15.85</td>\n",
       "      <td>12.88</td>\n",
       "      <td>3.79</td>\n",
       "      <td>3.31</td>\n",
       "      <td>35.82</td>\n",
       "    </tr>\n",
       "    <tr>\n",
       "      <th>3</th>\n",
       "      <td>4</td>\n",
       "      <td>Wii Sports Resort</td>\n",
       "      <td>Wii</td>\n",
       "      <td>2009.0</td>\n",
       "      <td>Sports</td>\n",
       "      <td>Nintendo</td>\n",
       "      <td>15.75</td>\n",
       "      <td>11.01</td>\n",
       "      <td>3.28</td>\n",
       "      <td>2.96</td>\n",
       "      <td>33.00</td>\n",
       "    </tr>\n",
       "    <tr>\n",
       "      <th>4</th>\n",
       "      <td>5</td>\n",
       "      <td>Pokemon Red/Pokemon Blue</td>\n",
       "      <td>GB</td>\n",
       "      <td>1996.0</td>\n",
       "      <td>Role-Playing</td>\n",
       "      <td>Nintendo</td>\n",
       "      <td>11.27</td>\n",
       "      <td>8.89</td>\n",
       "      <td>10.22</td>\n",
       "      <td>1.00</td>\n",
       "      <td>31.37</td>\n",
       "    </tr>\n",
       "    <tr>\n",
       "      <th>...</th>\n",
       "      <td>...</td>\n",
       "      <td>...</td>\n",
       "      <td>...</td>\n",
       "      <td>...</td>\n",
       "      <td>...</td>\n",
       "      <td>...</td>\n",
       "      <td>...</td>\n",
       "      <td>...</td>\n",
       "      <td>...</td>\n",
       "      <td>...</td>\n",
       "      <td>...</td>\n",
       "    </tr>\n",
       "    <tr>\n",
       "      <th>16593</th>\n",
       "      <td>16596</td>\n",
       "      <td>Woody Woodpecker in Crazy Castle 5</td>\n",
       "      <td>GBA</td>\n",
       "      <td>2002.0</td>\n",
       "      <td>Platform</td>\n",
       "      <td>Kemco</td>\n",
       "      <td>0.01</td>\n",
       "      <td>0.00</td>\n",
       "      <td>0.00</td>\n",
       "      <td>0.00</td>\n",
       "      <td>0.01</td>\n",
       "    </tr>\n",
       "    <tr>\n",
       "      <th>16594</th>\n",
       "      <td>16597</td>\n",
       "      <td>Men in Black II: Alien Escape</td>\n",
       "      <td>GC</td>\n",
       "      <td>2003.0</td>\n",
       "      <td>Shooter</td>\n",
       "      <td>Infogrames</td>\n",
       "      <td>0.01</td>\n",
       "      <td>0.00</td>\n",
       "      <td>0.00</td>\n",
       "      <td>0.00</td>\n",
       "      <td>0.01</td>\n",
       "    </tr>\n",
       "    <tr>\n",
       "      <th>16595</th>\n",
       "      <td>16598</td>\n",
       "      <td>SCORE International Baja 1000: The Official Game</td>\n",
       "      <td>PS2</td>\n",
       "      <td>2008.0</td>\n",
       "      <td>Racing</td>\n",
       "      <td>Activision</td>\n",
       "      <td>0.00</td>\n",
       "      <td>0.00</td>\n",
       "      <td>0.00</td>\n",
       "      <td>0.00</td>\n",
       "      <td>0.01</td>\n",
       "    </tr>\n",
       "    <tr>\n",
       "      <th>16596</th>\n",
       "      <td>16599</td>\n",
       "      <td>Know How 2</td>\n",
       "      <td>DS</td>\n",
       "      <td>2010.0</td>\n",
       "      <td>Puzzle</td>\n",
       "      <td>7G//AMES</td>\n",
       "      <td>0.00</td>\n",
       "      <td>0.01</td>\n",
       "      <td>0.00</td>\n",
       "      <td>0.00</td>\n",
       "      <td>0.01</td>\n",
       "    </tr>\n",
       "    <tr>\n",
       "      <th>16597</th>\n",
       "      <td>16600</td>\n",
       "      <td>Spirits &amp; Spells</td>\n",
       "      <td>GBA</td>\n",
       "      <td>2003.0</td>\n",
       "      <td>Platform</td>\n",
       "      <td>Wanadoo</td>\n",
       "      <td>0.01</td>\n",
       "      <td>0.00</td>\n",
       "      <td>0.00</td>\n",
       "      <td>0.00</td>\n",
       "      <td>0.01</td>\n",
       "    </tr>\n",
       "  </tbody>\n",
       "</table>\n",
       "<p>16598 rows × 11 columns</p>\n",
       "</div>"
      ],
      "text/plain": [
       "        Rank                                              Name Platform  \\\n",
       "0          1                                        Wii Sports      Wii   \n",
       "1          2                                 Super Mario Bros.      NES   \n",
       "2          3                                    Mario Kart Wii      Wii   \n",
       "3          4                                 Wii Sports Resort      Wii   \n",
       "4          5                          Pokemon Red/Pokemon Blue       GB   \n",
       "...      ...                                               ...      ...   \n",
       "16593  16596                Woody Woodpecker in Crazy Castle 5      GBA   \n",
       "16594  16597                     Men in Black II: Alien Escape       GC   \n",
       "16595  16598  SCORE International Baja 1000: The Official Game      PS2   \n",
       "16596  16599                                        Know How 2       DS   \n",
       "16597  16600                                  Spirits & Spells      GBA   \n",
       "\n",
       "         Year         Genre   Publisher  NA_Sales  EU_Sales  JP_Sales  \\\n",
       "0      2006.0        Sports    Nintendo     41.49     29.02      3.77   \n",
       "1      1985.0      Platform    Nintendo     29.08      3.58      6.81   \n",
       "2      2008.0        Racing    Nintendo     15.85     12.88      3.79   \n",
       "3      2009.0        Sports    Nintendo     15.75     11.01      3.28   \n",
       "4      1996.0  Role-Playing    Nintendo     11.27      8.89     10.22   \n",
       "...       ...           ...         ...       ...       ...       ...   \n",
       "16593  2002.0      Platform       Kemco      0.01      0.00      0.00   \n",
       "16594  2003.0       Shooter  Infogrames      0.01      0.00      0.00   \n",
       "16595  2008.0        Racing  Activision      0.00      0.00      0.00   \n",
       "16596  2010.0        Puzzle    7G//AMES      0.00      0.01      0.00   \n",
       "16597  2003.0      Platform     Wanadoo      0.01      0.00      0.00   \n",
       "\n",
       "       Other_Sales  Global_Sales  \n",
       "0             8.46         82.74  \n",
       "1             0.77         40.24  \n",
       "2             3.31         35.82  \n",
       "3             2.96         33.00  \n",
       "4             1.00         31.37  \n",
       "...            ...           ...  \n",
       "16593         0.00          0.01  \n",
       "16594         0.00          0.01  \n",
       "16595         0.00          0.01  \n",
       "16596         0.00          0.01  \n",
       "16597         0.00          0.01  \n",
       "\n",
       "[16598 rows x 11 columns]"
      ]
     },
     "execution_count": 17,
     "metadata": {},
     "output_type": "execute_result"
    }
   ],
   "source": [
    "df"
   ]
  },
  {
   "cell_type": "code",
   "execution_count": 18,
   "id": "ef016151",
   "metadata": {},
   "outputs": [
    {
     "data": {
      "text/plain": [
       "Rank              0\n",
       "Name              0\n",
       "Platform          0\n",
       "Year            271\n",
       "Genre             0\n",
       "Publisher        58\n",
       "NA_Sales          0\n",
       "EU_Sales          0\n",
       "JP_Sales          0\n",
       "Other_Sales       0\n",
       "Global_Sales      0\n",
       "dtype: int64"
      ]
     },
     "execution_count": 18,
     "metadata": {},
     "output_type": "execute_result"
    }
   ],
   "source": [
    "df.isnull().sum()"
   ]
  },
  {
   "cell_type": "code",
   "execution_count": 19,
   "id": "89e49b37",
   "metadata": {},
   "outputs": [],
   "source": [
    "pub_val=df['Publisher'].mode()[0]\n"
   ]
  },
  {
   "cell_type": "code",
   "execution_count": 20,
   "id": "c7fa9626",
   "metadata": {},
   "outputs": [],
   "source": [
    "df['Publisher']=df['Publisher'].fillna(pub_val)"
   ]
  },
  {
   "cell_type": "code",
   "execution_count": 21,
   "id": "79bcb06d",
   "metadata": {},
   "outputs": [],
   "source": [
    "year_val=df['Year'].mode()[0]\n"
   ]
  },
  {
   "cell_type": "code",
   "execution_count": 22,
   "id": "a06ba5e9",
   "metadata": {},
   "outputs": [
    {
     "data": {
      "text/plain": [
       "2009.0"
      ]
     },
     "execution_count": 22,
     "metadata": {},
     "output_type": "execute_result"
    }
   ],
   "source": [
    "year_val"
   ]
  },
  {
   "cell_type": "code",
   "execution_count": 23,
   "id": "652eb961",
   "metadata": {},
   "outputs": [],
   "source": [
    "df['Year']=df['Year'].fillna(year_val)\n"
   ]
  },
  {
   "cell_type": "code",
   "execution_count": 24,
   "id": "9f6073a2",
   "metadata": {},
   "outputs": [
    {
     "data": {
      "text/plain": [
       "Rank            0\n",
       "Name            0\n",
       "Platform        0\n",
       "Year            0\n",
       "Genre           0\n",
       "Publisher       0\n",
       "NA_Sales        0\n",
       "EU_Sales        0\n",
       "JP_Sales        0\n",
       "Other_Sales     0\n",
       "Global_Sales    0\n",
       "dtype: int64"
      ]
     },
     "execution_count": 24,
     "metadata": {},
     "output_type": "execute_result"
    }
   ],
   "source": [
    "df.isnull().sum()"
   ]
  },
  {
   "cell_type": "code",
   "execution_count": 25,
   "id": "5f738efd",
   "metadata": {},
   "outputs": [
    {
     "data": {
      "text/html": [
       "<div>\n",
       "<style scoped>\n",
       "    .dataframe tbody tr th:only-of-type {\n",
       "        vertical-align: middle;\n",
       "    }\n",
       "\n",
       "    .dataframe tbody tr th {\n",
       "        vertical-align: top;\n",
       "    }\n",
       "\n",
       "    .dataframe thead th {\n",
       "        text-align: right;\n",
       "    }\n",
       "</style>\n",
       "<table border=\"1\" class=\"dataframe\">\n",
       "  <thead>\n",
       "    <tr style=\"text-align: right;\">\n",
       "      <th></th>\n",
       "      <th>Rank</th>\n",
       "      <th>Name</th>\n",
       "      <th>Platform</th>\n",
       "      <th>Year</th>\n",
       "      <th>Genre</th>\n",
       "      <th>Publisher</th>\n",
       "      <th>NA_Sales</th>\n",
       "      <th>EU_Sales</th>\n",
       "      <th>JP_Sales</th>\n",
       "      <th>Other_Sales</th>\n",
       "      <th>Global_Sales</th>\n",
       "    </tr>\n",
       "  </thead>\n",
       "  <tbody>\n",
       "    <tr>\n",
       "      <th>0</th>\n",
       "      <td>1</td>\n",
       "      <td>Wii Sports</td>\n",
       "      <td>Wii</td>\n",
       "      <td>2006.0</td>\n",
       "      <td>Sports</td>\n",
       "      <td>Nintendo</td>\n",
       "      <td>41.49</td>\n",
       "      <td>29.02</td>\n",
       "      <td>3.77</td>\n",
       "      <td>8.46</td>\n",
       "      <td>82.74</td>\n",
       "    </tr>\n",
       "    <tr>\n",
       "      <th>1</th>\n",
       "      <td>2</td>\n",
       "      <td>Super Mario Bros.</td>\n",
       "      <td>NES</td>\n",
       "      <td>1985.0</td>\n",
       "      <td>Platform</td>\n",
       "      <td>Nintendo</td>\n",
       "      <td>29.08</td>\n",
       "      <td>3.58</td>\n",
       "      <td>6.81</td>\n",
       "      <td>0.77</td>\n",
       "      <td>40.24</td>\n",
       "    </tr>\n",
       "    <tr>\n",
       "      <th>2</th>\n",
       "      <td>3</td>\n",
       "      <td>Mario Kart Wii</td>\n",
       "      <td>Wii</td>\n",
       "      <td>2008.0</td>\n",
       "      <td>Racing</td>\n",
       "      <td>Nintendo</td>\n",
       "      <td>15.85</td>\n",
       "      <td>12.88</td>\n",
       "      <td>3.79</td>\n",
       "      <td>3.31</td>\n",
       "      <td>35.82</td>\n",
       "    </tr>\n",
       "    <tr>\n",
       "      <th>3</th>\n",
       "      <td>4</td>\n",
       "      <td>Wii Sports Resort</td>\n",
       "      <td>Wii</td>\n",
       "      <td>2009.0</td>\n",
       "      <td>Sports</td>\n",
       "      <td>Nintendo</td>\n",
       "      <td>15.75</td>\n",
       "      <td>11.01</td>\n",
       "      <td>3.28</td>\n",
       "      <td>2.96</td>\n",
       "      <td>33.00</td>\n",
       "    </tr>\n",
       "    <tr>\n",
       "      <th>4</th>\n",
       "      <td>5</td>\n",
       "      <td>Pokemon Red/Pokemon Blue</td>\n",
       "      <td>GB</td>\n",
       "      <td>1996.0</td>\n",
       "      <td>Role-Playing</td>\n",
       "      <td>Nintendo</td>\n",
       "      <td>11.27</td>\n",
       "      <td>8.89</td>\n",
       "      <td>10.22</td>\n",
       "      <td>1.00</td>\n",
       "      <td>31.37</td>\n",
       "    </tr>\n",
       "    <tr>\n",
       "      <th>...</th>\n",
       "      <td>...</td>\n",
       "      <td>...</td>\n",
       "      <td>...</td>\n",
       "      <td>...</td>\n",
       "      <td>...</td>\n",
       "      <td>...</td>\n",
       "      <td>...</td>\n",
       "      <td>...</td>\n",
       "      <td>...</td>\n",
       "      <td>...</td>\n",
       "      <td>...</td>\n",
       "    </tr>\n",
       "    <tr>\n",
       "      <th>16593</th>\n",
       "      <td>16596</td>\n",
       "      <td>Woody Woodpecker in Crazy Castle 5</td>\n",
       "      <td>GBA</td>\n",
       "      <td>2002.0</td>\n",
       "      <td>Platform</td>\n",
       "      <td>Kemco</td>\n",
       "      <td>0.01</td>\n",
       "      <td>0.00</td>\n",
       "      <td>0.00</td>\n",
       "      <td>0.00</td>\n",
       "      <td>0.01</td>\n",
       "    </tr>\n",
       "    <tr>\n",
       "      <th>16594</th>\n",
       "      <td>16597</td>\n",
       "      <td>Men in Black II: Alien Escape</td>\n",
       "      <td>GC</td>\n",
       "      <td>2003.0</td>\n",
       "      <td>Shooter</td>\n",
       "      <td>Infogrames</td>\n",
       "      <td>0.01</td>\n",
       "      <td>0.00</td>\n",
       "      <td>0.00</td>\n",
       "      <td>0.00</td>\n",
       "      <td>0.01</td>\n",
       "    </tr>\n",
       "    <tr>\n",
       "      <th>16595</th>\n",
       "      <td>16598</td>\n",
       "      <td>SCORE International Baja 1000: The Official Game</td>\n",
       "      <td>PS2</td>\n",
       "      <td>2008.0</td>\n",
       "      <td>Racing</td>\n",
       "      <td>Activision</td>\n",
       "      <td>0.00</td>\n",
       "      <td>0.00</td>\n",
       "      <td>0.00</td>\n",
       "      <td>0.00</td>\n",
       "      <td>0.01</td>\n",
       "    </tr>\n",
       "    <tr>\n",
       "      <th>16596</th>\n",
       "      <td>16599</td>\n",
       "      <td>Know How 2</td>\n",
       "      <td>DS</td>\n",
       "      <td>2010.0</td>\n",
       "      <td>Puzzle</td>\n",
       "      <td>7G//AMES</td>\n",
       "      <td>0.00</td>\n",
       "      <td>0.01</td>\n",
       "      <td>0.00</td>\n",
       "      <td>0.00</td>\n",
       "      <td>0.01</td>\n",
       "    </tr>\n",
       "    <tr>\n",
       "      <th>16597</th>\n",
       "      <td>16600</td>\n",
       "      <td>Spirits &amp; Spells</td>\n",
       "      <td>GBA</td>\n",
       "      <td>2003.0</td>\n",
       "      <td>Platform</td>\n",
       "      <td>Wanadoo</td>\n",
       "      <td>0.01</td>\n",
       "      <td>0.00</td>\n",
       "      <td>0.00</td>\n",
       "      <td>0.00</td>\n",
       "      <td>0.01</td>\n",
       "    </tr>\n",
       "  </tbody>\n",
       "</table>\n",
       "<p>16598 rows × 11 columns</p>\n",
       "</div>"
      ],
      "text/plain": [
       "        Rank                                              Name Platform  \\\n",
       "0          1                                        Wii Sports      Wii   \n",
       "1          2                                 Super Mario Bros.      NES   \n",
       "2          3                                    Mario Kart Wii      Wii   \n",
       "3          4                                 Wii Sports Resort      Wii   \n",
       "4          5                          Pokemon Red/Pokemon Blue       GB   \n",
       "...      ...                                               ...      ...   \n",
       "16593  16596                Woody Woodpecker in Crazy Castle 5      GBA   \n",
       "16594  16597                     Men in Black II: Alien Escape       GC   \n",
       "16595  16598  SCORE International Baja 1000: The Official Game      PS2   \n",
       "16596  16599                                        Know How 2       DS   \n",
       "16597  16600                                  Spirits & Spells      GBA   \n",
       "\n",
       "         Year         Genre   Publisher  NA_Sales  EU_Sales  JP_Sales  \\\n",
       "0      2006.0        Sports    Nintendo     41.49     29.02      3.77   \n",
       "1      1985.0      Platform    Nintendo     29.08      3.58      6.81   \n",
       "2      2008.0        Racing    Nintendo     15.85     12.88      3.79   \n",
       "3      2009.0        Sports    Nintendo     15.75     11.01      3.28   \n",
       "4      1996.0  Role-Playing    Nintendo     11.27      8.89     10.22   \n",
       "...       ...           ...         ...       ...       ...       ...   \n",
       "16593  2002.0      Platform       Kemco      0.01      0.00      0.00   \n",
       "16594  2003.0       Shooter  Infogrames      0.01      0.00      0.00   \n",
       "16595  2008.0        Racing  Activision      0.00      0.00      0.00   \n",
       "16596  2010.0        Puzzle    7G//AMES      0.00      0.01      0.00   \n",
       "16597  2003.0      Platform     Wanadoo      0.01      0.00      0.00   \n",
       "\n",
       "       Other_Sales  Global_Sales  \n",
       "0             8.46         82.74  \n",
       "1             0.77         40.24  \n",
       "2             3.31         35.82  \n",
       "3             2.96         33.00  \n",
       "4             1.00         31.37  \n",
       "...            ...           ...  \n",
       "16593         0.00          0.01  \n",
       "16594         0.00          0.01  \n",
       "16595         0.00          0.01  \n",
       "16596         0.00          0.01  \n",
       "16597         0.00          0.01  \n",
       "\n",
       "[16598 rows x 11 columns]"
      ]
     },
     "execution_count": 25,
     "metadata": {},
     "output_type": "execute_result"
    }
   ],
   "source": [
    "df"
   ]
  },
  {
   "cell_type": "code",
   "execution_count": 26,
   "id": "d907fda0",
   "metadata": {},
   "outputs": [
    {
     "data": {
      "text/html": [
       "<div>\n",
       "<style scoped>\n",
       "    .dataframe tbody tr th:only-of-type {\n",
       "        vertical-align: middle;\n",
       "    }\n",
       "\n",
       "    .dataframe tbody tr th {\n",
       "        vertical-align: top;\n",
       "    }\n",
       "\n",
       "    .dataframe thead th {\n",
       "        text-align: right;\n",
       "    }\n",
       "</style>\n",
       "<table border=\"1\" class=\"dataframe\">\n",
       "  <thead>\n",
       "    <tr style=\"text-align: right;\">\n",
       "      <th></th>\n",
       "      <th>Rank</th>\n",
       "      <th>Year</th>\n",
       "      <th>NA_Sales</th>\n",
       "      <th>EU_Sales</th>\n",
       "      <th>JP_Sales</th>\n",
       "      <th>Other_Sales</th>\n",
       "      <th>Global_Sales</th>\n",
       "    </tr>\n",
       "  </thead>\n",
       "  <tbody>\n",
       "    <tr>\n",
       "      <th>count</th>\n",
       "      <td>16598.000000</td>\n",
       "      <td>16598.000000</td>\n",
       "      <td>16598.000000</td>\n",
       "      <td>16598.000000</td>\n",
       "      <td>16598.000000</td>\n",
       "      <td>16598.000000</td>\n",
       "      <td>16598.000000</td>\n",
       "    </tr>\n",
       "    <tr>\n",
       "      <th>mean</th>\n",
       "      <td>8300.605254</td>\n",
       "      <td>2006.448789</td>\n",
       "      <td>0.264667</td>\n",
       "      <td>0.146652</td>\n",
       "      <td>0.077782</td>\n",
       "      <td>0.048063</td>\n",
       "      <td>0.537441</td>\n",
       "    </tr>\n",
       "    <tr>\n",
       "      <th>std</th>\n",
       "      <td>4791.853933</td>\n",
       "      <td>5.790533</td>\n",
       "      <td>0.816683</td>\n",
       "      <td>0.505351</td>\n",
       "      <td>0.309291</td>\n",
       "      <td>0.188588</td>\n",
       "      <td>1.555028</td>\n",
       "    </tr>\n",
       "    <tr>\n",
       "      <th>min</th>\n",
       "      <td>1.000000</td>\n",
       "      <td>1980.000000</td>\n",
       "      <td>0.000000</td>\n",
       "      <td>0.000000</td>\n",
       "      <td>0.000000</td>\n",
       "      <td>0.000000</td>\n",
       "      <td>0.010000</td>\n",
       "    </tr>\n",
       "    <tr>\n",
       "      <th>25%</th>\n",
       "      <td>4151.250000</td>\n",
       "      <td>2003.000000</td>\n",
       "      <td>0.000000</td>\n",
       "      <td>0.000000</td>\n",
       "      <td>0.000000</td>\n",
       "      <td>0.000000</td>\n",
       "      <td>0.060000</td>\n",
       "    </tr>\n",
       "    <tr>\n",
       "      <th>50%</th>\n",
       "      <td>8300.500000</td>\n",
       "      <td>2007.000000</td>\n",
       "      <td>0.080000</td>\n",
       "      <td>0.020000</td>\n",
       "      <td>0.000000</td>\n",
       "      <td>0.010000</td>\n",
       "      <td>0.170000</td>\n",
       "    </tr>\n",
       "    <tr>\n",
       "      <th>75%</th>\n",
       "      <td>12449.750000</td>\n",
       "      <td>2010.000000</td>\n",
       "      <td>0.240000</td>\n",
       "      <td>0.110000</td>\n",
       "      <td>0.040000</td>\n",
       "      <td>0.040000</td>\n",
       "      <td>0.470000</td>\n",
       "    </tr>\n",
       "    <tr>\n",
       "      <th>max</th>\n",
       "      <td>16600.000000</td>\n",
       "      <td>2020.000000</td>\n",
       "      <td>41.490000</td>\n",
       "      <td>29.020000</td>\n",
       "      <td>10.220000</td>\n",
       "      <td>10.570000</td>\n",
       "      <td>82.740000</td>\n",
       "    </tr>\n",
       "  </tbody>\n",
       "</table>\n",
       "</div>"
      ],
      "text/plain": [
       "               Rank          Year      NA_Sales      EU_Sales      JP_Sales  \\\n",
       "count  16598.000000  16598.000000  16598.000000  16598.000000  16598.000000   \n",
       "mean    8300.605254   2006.448789      0.264667      0.146652      0.077782   \n",
       "std     4791.853933      5.790533      0.816683      0.505351      0.309291   \n",
       "min        1.000000   1980.000000      0.000000      0.000000      0.000000   \n",
       "25%     4151.250000   2003.000000      0.000000      0.000000      0.000000   \n",
       "50%     8300.500000   2007.000000      0.080000      0.020000      0.000000   \n",
       "75%    12449.750000   2010.000000      0.240000      0.110000      0.040000   \n",
       "max    16600.000000   2020.000000     41.490000     29.020000     10.220000   \n",
       "\n",
       "        Other_Sales  Global_Sales  \n",
       "count  16598.000000  16598.000000  \n",
       "mean       0.048063      0.537441  \n",
       "std        0.188588      1.555028  \n",
       "min        0.000000      0.010000  \n",
       "25%        0.000000      0.060000  \n",
       "50%        0.010000      0.170000  \n",
       "75%        0.040000      0.470000  \n",
       "max       10.570000     82.740000  "
      ]
     },
     "execution_count": 26,
     "metadata": {},
     "output_type": "execute_result"
    }
   ],
   "source": [
    "df.describe()"
   ]
  },
  {
   "cell_type": "code",
   "execution_count": 27,
   "id": "dd8aaaae",
   "metadata": {},
   "outputs": [
    {
     "name": "stdout",
     "output_type": "stream",
     "text": [
      "<class 'pandas.core.frame.DataFrame'>\n",
      "RangeIndex: 16598 entries, 0 to 16597\n",
      "Data columns (total 11 columns):\n",
      " #   Column        Non-Null Count  Dtype  \n",
      "---  ------        --------------  -----  \n",
      " 0   Rank          16598 non-null  int64  \n",
      " 1   Name          16598 non-null  object \n",
      " 2   Platform      16598 non-null  object \n",
      " 3   Year          16598 non-null  float64\n",
      " 4   Genre         16598 non-null  object \n",
      " 5   Publisher     16598 non-null  object \n",
      " 6   NA_Sales      16598 non-null  float64\n",
      " 7   EU_Sales      16598 non-null  float64\n",
      " 8   JP_Sales      16598 non-null  float64\n",
      " 9   Other_Sales   16598 non-null  float64\n",
      " 10  Global_Sales  16598 non-null  float64\n",
      "dtypes: float64(6), int64(1), object(4)\n",
      "memory usage: 1.4+ MB\n"
     ]
    }
   ],
   "source": [
    "df.info()"
   ]
  },
  {
   "cell_type": "code",
   "execution_count": 28,
   "id": "c8c6143e",
   "metadata": {},
   "outputs": [
    {
     "data": {
      "text/plain": [
       "Index(['Rank', 'Name', 'Platform', 'Year', 'Genre', 'Publisher', 'NA_Sales',\n",
       "       'EU_Sales', 'JP_Sales', 'Other_Sales', 'Global_Sales'],\n",
       "      dtype='object')"
      ]
     },
     "execution_count": 28,
     "metadata": {},
     "output_type": "execute_result"
    }
   ],
   "source": [
    "df.columns"
   ]
  },
  {
   "cell_type": "code",
   "execution_count": 29,
   "id": "3c036347",
   "metadata": {},
   "outputs": [
    {
     "data": {
      "text/plain": [
       "(16598, 11)"
      ]
     },
     "execution_count": 29,
     "metadata": {},
     "output_type": "execute_result"
    }
   ],
   "source": [
    "df.shape"
   ]
  },
  {
   "cell_type": "code",
   "execution_count": 30,
   "id": "510a7d46",
   "metadata": {},
   "outputs": [
    {
     "name": "stderr",
     "output_type": "stream",
     "text": [
      "C:\\Users\\himanshu\\anaconda3\\lib\\site-packages\\seaborn\\_decorators.py:36: FutureWarning: Pass the following variable as a keyword arg: x. From version 0.12, the only valid positional argument will be `data`, and passing other arguments without an explicit keyword will result in an error or misinterpretation.\n",
      "  warnings.warn(\n"
     ]
    },
    {
     "data": {
      "text/plain": [
       "<AxesSubplot:xlabel='Year'>"
      ]
     },
     "execution_count": 30,
     "metadata": {},
     "output_type": "execute_result"
    },
    {
     "data": {
      "image/png": "[encoded data removed]",
      "text/plain": [
       "<Figure size 432x288 with 1 Axes>"
      ]
     },
     "metadata": {
      "needs_background": "light"
     },
     "output_type": "display_data"
    }
   ],
   "source": [
    "sns.boxplot(df['Year'])"
   ]
  },
  {
   "cell_type": "code",
   "execution_count": 31,
   "id": "ec95ca24",
   "metadata": {},
   "outputs": [],
   "source": [
    "q1=df['Year'].quantile(0.25)"
   ]
  },
  {
   "cell_type": "code",
   "execution_count": 32,
   "id": "202fd4a0",
   "metadata": {},
   "outputs": [],
   "source": [
    "q3=df['Year'].quantile(0.75)"
   ]
  },
  {
   "cell_type": "code",
   "execution_count": 33,
   "id": "96f740ea",
   "metadata": {},
   "outputs": [],
   "source": [
    "IQR=q3-q1"
   ]
  },
  {
   "cell_type": "code",
   "execution_count": 34,
   "id": "0ae58bd8",
   "metadata": {},
   "outputs": [],
   "source": [
    "lower=q1-1.5*IQR"
   ]
  },
  {
   "cell_type": "code",
   "execution_count": 35,
   "id": "167c87ad",
   "metadata": {},
   "outputs": [],
   "source": [
    "upper=q3+1.5*IQR"
   ]
  },
  {
   "cell_type": "code",
   "execution_count": 36,
   "id": "36908612",
   "metadata": {},
   "outputs": [],
   "source": [
    "df=df[(df['Year']>lower) & (df['Year']<upper)]"
   ]
  },
  {
   "cell_type": "code",
   "execution_count": 37,
   "id": "91dc762b",
   "metadata": {},
   "outputs": [
    {
     "data": {
      "text/html": [
       "<div>\n",
       "<style scoped>\n",
       "    .dataframe tbody tr th:only-of-type {\n",
       "        vertical-align: middle;\n",
       "    }\n",
       "\n",
       "    .dataframe tbody tr th {\n",
       "        vertical-align: top;\n",
       "    }\n",
       "\n",
       "    .dataframe thead th {\n",
       "        text-align: right;\n",
       "    }\n",
       "</style>\n",
       "<table border=\"1\" class=\"dataframe\">\n",
       "  <thead>\n",
       "    <tr style=\"text-align: right;\">\n",
       "      <th></th>\n",
       "      <th>Rank</th>\n",
       "      <th>Name</th>\n",
       "      <th>Platform</th>\n",
       "      <th>Year</th>\n",
       "      <th>Genre</th>\n",
       "      <th>Publisher</th>\n",
       "      <th>NA_Sales</th>\n",
       "      <th>EU_Sales</th>\n",
       "      <th>JP_Sales</th>\n",
       "      <th>Other_Sales</th>\n",
       "      <th>Global_Sales</th>\n",
       "    </tr>\n",
       "  </thead>\n",
       "  <tbody>\n",
       "    <tr>\n",
       "      <th>0</th>\n",
       "      <td>1</td>\n",
       "      <td>Wii Sports</td>\n",
       "      <td>Wii</td>\n",
       "      <td>2006.0</td>\n",
       "      <td>Sports</td>\n",
       "      <td>Nintendo</td>\n",
       "      <td>41.49</td>\n",
       "      <td>29.02</td>\n",
       "      <td>3.77</td>\n",
       "      <td>8.46</td>\n",
       "      <td>82.74</td>\n",
       "    </tr>\n",
       "    <tr>\n",
       "      <th>2</th>\n",
       "      <td>3</td>\n",
       "      <td>Mario Kart Wii</td>\n",
       "      <td>Wii</td>\n",
       "      <td>2008.0</td>\n",
       "      <td>Racing</td>\n",
       "      <td>Nintendo</td>\n",
       "      <td>15.85</td>\n",
       "      <td>12.88</td>\n",
       "      <td>3.79</td>\n",
       "      <td>3.31</td>\n",
       "      <td>35.82</td>\n",
       "    </tr>\n",
       "    <tr>\n",
       "      <th>3</th>\n",
       "      <td>4</td>\n",
       "      <td>Wii Sports Resort</td>\n",
       "      <td>Wii</td>\n",
       "      <td>2009.0</td>\n",
       "      <td>Sports</td>\n",
       "      <td>Nintendo</td>\n",
       "      <td>15.75</td>\n",
       "      <td>11.01</td>\n",
       "      <td>3.28</td>\n",
       "      <td>2.96</td>\n",
       "      <td>33.00</td>\n",
       "    </tr>\n",
       "    <tr>\n",
       "      <th>4</th>\n",
       "      <td>5</td>\n",
       "      <td>Pokemon Red/Pokemon Blue</td>\n",
       "      <td>GB</td>\n",
       "      <td>1996.0</td>\n",
       "      <td>Role-Playing</td>\n",
       "      <td>Nintendo</td>\n",
       "      <td>11.27</td>\n",
       "      <td>8.89</td>\n",
       "      <td>10.22</td>\n",
       "      <td>1.00</td>\n",
       "      <td>31.37</td>\n",
       "    </tr>\n",
       "    <tr>\n",
       "      <th>6</th>\n",
       "      <td>7</td>\n",
       "      <td>New Super Mario Bros.</td>\n",
       "      <td>DS</td>\n",
       "      <td>2006.0</td>\n",
       "      <td>Platform</td>\n",
       "      <td>Nintendo</td>\n",
       "      <td>11.38</td>\n",
       "      <td>9.23</td>\n",
       "      <td>6.50</td>\n",
       "      <td>2.90</td>\n",
       "      <td>30.01</td>\n",
       "    </tr>\n",
       "    <tr>\n",
       "      <th>...</th>\n",
       "      <td>...</td>\n",
       "      <td>...</td>\n",
       "      <td>...</td>\n",
       "      <td>...</td>\n",
       "      <td>...</td>\n",
       "      <td>...</td>\n",
       "      <td>...</td>\n",
       "      <td>...</td>\n",
       "      <td>...</td>\n",
       "      <td>...</td>\n",
       "      <td>...</td>\n",
       "    </tr>\n",
       "    <tr>\n",
       "      <th>16593</th>\n",
       "      <td>16596</td>\n",
       "      <td>Woody Woodpecker in Crazy Castle 5</td>\n",
       "      <td>GBA</td>\n",
       "      <td>2002.0</td>\n",
       "      <td>Platform</td>\n",
       "      <td>Kemco</td>\n",
       "      <td>0.01</td>\n",
       "      <td>0.00</td>\n",
       "      <td>0.00</td>\n",
       "      <td>0.00</td>\n",
       "      <td>0.01</td>\n",
       "    </tr>\n",
       "    <tr>\n",
       "      <th>16594</th>\n",
       "      <td>16597</td>\n",
       "      <td>Men in Black II: Alien Escape</td>\n",
       "      <td>GC</td>\n",
       "      <td>2003.0</td>\n",
       "      <td>Shooter</td>\n",
       "      <td>Infogrames</td>\n",
       "      <td>0.01</td>\n",
       "      <td>0.00</td>\n",
       "      <td>0.00</td>\n",
       "      <td>0.00</td>\n",
       "      <td>0.01</td>\n",
       "    </tr>\n",
       "    <tr>\n",
       "      <th>16595</th>\n",
       "      <td>16598</td>\n",
       "      <td>SCORE International Baja 1000: The Official Game</td>\n",
       "      <td>PS2</td>\n",
       "      <td>2008.0</td>\n",
       "      <td>Racing</td>\n",
       "      <td>Activision</td>\n",
       "      <td>0.00</td>\n",
       "      <td>0.00</td>\n",
       "      <td>0.00</td>\n",
       "      <td>0.00</td>\n",
       "      <td>0.01</td>\n",
       "    </tr>\n",
       "    <tr>\n",
       "      <th>16596</th>\n",
       "      <td>16599</td>\n",
       "      <td>Know How 2</td>\n",
       "      <td>DS</td>\n",
       "      <td>2010.0</td>\n",
       "      <td>Puzzle</td>\n",
       "      <td>7G//AMES</td>\n",
       "      <td>0.00</td>\n",
       "      <td>0.01</td>\n",
       "      <td>0.00</td>\n",
       "      <td>0.00</td>\n",
       "      <td>0.01</td>\n",
       "    </tr>\n",
       "    <tr>\n",
       "      <th>16597</th>\n",
       "      <td>16600</td>\n",
       "      <td>Spirits &amp; Spells</td>\n",
       "      <td>GBA</td>\n",
       "      <td>2003.0</td>\n",
       "      <td>Platform</td>\n",
       "      <td>Wanadoo</td>\n",
       "      <td>0.01</td>\n",
       "      <td>0.00</td>\n",
       "      <td>0.00</td>\n",
       "      <td>0.00</td>\n",
       "      <td>0.01</td>\n",
       "    </tr>\n",
       "  </tbody>\n",
       "</table>\n",
       "<p>16293 rows × 11 columns</p>\n",
       "</div>"
      ],
      "text/plain": [
       "        Rank                                              Name Platform  \\\n",
       "0          1                                        Wii Sports      Wii   \n",
       "2          3                                    Mario Kart Wii      Wii   \n",
       "3          4                                 Wii Sports Resort      Wii   \n",
       "4          5                          Pokemon Red/Pokemon Blue       GB   \n",
       "6          7                             New Super Mario Bros.       DS   \n",
       "...      ...                                               ...      ...   \n",
       "16593  16596                Woody Woodpecker in Crazy Castle 5      GBA   \n",
       "16594  16597                     Men in Black II: Alien Escape       GC   \n",
       "16595  16598  SCORE International Baja 1000: The Official Game      PS2   \n",
       "16596  16599                                        Know How 2       DS   \n",
       "16597  16600                                  Spirits & Spells      GBA   \n",
       "\n",
       "         Year         Genre   Publisher  NA_Sales  EU_Sales  JP_Sales  \\\n",
       "0      2006.0        Sports    Nintendo     41.49     29.02      3.77   \n",
       "2      2008.0        Racing    Nintendo     15.85     12.88      3.79   \n",
       "3      2009.0        Sports    Nintendo     15.75     11.01      3.28   \n",
       "4      1996.0  Role-Playing    Nintendo     11.27      8.89     10.22   \n",
       "6      2006.0      Platform    Nintendo     11.38      9.23      6.50   \n",
       "...       ...           ...         ...       ...       ...       ...   \n",
       "16593  2002.0      Platform       Kemco      0.01      0.00      0.00   \n",
       "16594  2003.0       Shooter  Infogrames      0.01      0.00      0.00   \n",
       "16595  2008.0        Racing  Activision      0.00      0.00      0.00   \n",
       "16596  2010.0        Puzzle    7G//AMES      0.00      0.01      0.00   \n",
       "16597  2003.0      Platform     Wanadoo      0.01      0.00      0.00   \n",
       "\n",
       "       Other_Sales  Global_Sales  \n",
       "0             8.46         82.74  \n",
       "2             3.31         35.82  \n",
       "3             2.96         33.00  \n",
       "4             1.00         31.37  \n",
       "6             2.90         30.01  \n",
       "...            ...           ...  \n",
       "16593         0.00          0.01  \n",
       "16594         0.00          0.01  \n",
       "16595         0.00          0.01  \n",
       "16596         0.00          0.01  \n",
       "16597         0.00          0.01  \n",
       "\n",
       "[16293 rows x 11 columns]"
      ]
     },
     "execution_count": 37,
     "metadata": {},
     "output_type": "execute_result"
    }
   ],
   "source": [
    "df"
   ]
  },
  {
   "cell_type": "code",
   "execution_count": 38,
   "id": "f6049ada",
   "metadata": {},
   "outputs": [
    {
     "name": "stderr",
     "output_type": "stream",
     "text": [
      "C:\\Users\\himanshu\\anaconda3\\lib\\site-packages\\seaborn\\_decorators.py:36: FutureWarning: Pass the following variable as a keyword arg: x. From version 0.12, the only valid positional argument will be `data`, and passing other arguments without an explicit keyword will result in an error or misinterpretation.\n",
      "  warnings.warn(\n"
     ]
    },
    {
     "data": {
      "text/plain": [
       "<AxesSubplot:xlabel='NA_Sales'>"
      ]
     },
     "execution_count": 38,
     "metadata": {},
     "output_type": "execute_result"
    },
    {
     "data": {
      "image/png": "[encoded data removed]",
      "text/plain": [
       "<Figure size 432x288 with 1 Axes>"
      ]
     },
     "metadata": {
      "needs_background": "light"
     },
     "output_type": "display_data"
    }
   ],
   "source": [
    "sns.boxplot(df['NA_Sales'])"
   ]
  },
  {
   "cell_type": "code",
   "execution_count": 39,
   "id": "fa10c4d1",
   "metadata": {},
   "outputs": [],
   "source": [
    "q1=df['NA_Sales'].quantile(0.25)"
   ]
  },
  {
   "cell_type": "code",
   "execution_count": 40,
   "id": "7024be6f",
   "metadata": {},
   "outputs": [],
   "source": [
    "q3=df['NA_Sales'].quantile(0.75)"
   ]
  },
  {
   "cell_type": "code",
   "execution_count": 41,
   "id": "0323612d",
   "metadata": {},
   "outputs": [],
   "source": [
    "IQR=q3-q1"
   ]
  },
  {
   "cell_type": "code",
   "execution_count": 42,
   "id": "ad5775f5",
   "metadata": {},
   "outputs": [],
   "source": [
    "lower=q1-1.5*IQR"
   ]
  },
  {
   "cell_type": "code",
   "execution_count": 43,
   "id": "c7808165",
   "metadata": {},
   "outputs": [],
   "source": [
    "upper=q3+1.5*IQR"
   ]
  },
  {
   "cell_type": "code",
   "execution_count": 44,
   "id": "ec261f01",
   "metadata": {},
   "outputs": [],
   "source": [
    "df=df[(df['NA_Sales']>lower) & (df['NA_Sales']<upper)]"
   ]
  },
  {
   "cell_type": "code",
   "execution_count": 45,
   "id": "e34e2d4e",
   "metadata": {},
   "outputs": [
    {
     "data": {
      "text/html": [
       "<div>\n",
       "<style scoped>\n",
       "    .dataframe tbody tr th:only-of-type {\n",
       "        vertical-align: middle;\n",
       "    }\n",
       "\n",
       "    .dataframe tbody tr th {\n",
       "        vertical-align: top;\n",
       "    }\n",
       "\n",
       "    .dataframe thead th {\n",
       "        text-align: right;\n",
       "    }\n",
       "</style>\n",
       "<table border=\"1\" class=\"dataframe\">\n",
       "  <thead>\n",
       "    <tr style=\"text-align: right;\">\n",
       "      <th></th>\n",
       "      <th>Rank</th>\n",
       "      <th>Name</th>\n",
       "      <th>Platform</th>\n",
       "      <th>Year</th>\n",
       "      <th>Genre</th>\n",
       "      <th>Publisher</th>\n",
       "      <th>NA_Sales</th>\n",
       "      <th>EU_Sales</th>\n",
       "      <th>JP_Sales</th>\n",
       "      <th>Other_Sales</th>\n",
       "      <th>Global_Sales</th>\n",
       "    </tr>\n",
       "  </thead>\n",
       "  <tbody>\n",
       "    <tr>\n",
       "      <th>137</th>\n",
       "      <td>138</td>\n",
       "      <td>World of Warcraft</td>\n",
       "      <td>PC</td>\n",
       "      <td>2004.0</td>\n",
       "      <td>Role-Playing</td>\n",
       "      <td>Activision</td>\n",
       "      <td>0.07</td>\n",
       "      <td>6.21</td>\n",
       "      <td>0.00</td>\n",
       "      <td>0.00</td>\n",
       "      <td>6.28</td>\n",
       "    </tr>\n",
       "    <tr>\n",
       "      <th>161</th>\n",
       "      <td>162</td>\n",
       "      <td>Monster Hunter Freedom Unite</td>\n",
       "      <td>PSP</td>\n",
       "      <td>2008.0</td>\n",
       "      <td>Role-Playing</td>\n",
       "      <td>Capcom</td>\n",
       "      <td>0.47</td>\n",
       "      <td>0.57</td>\n",
       "      <td>4.13</td>\n",
       "      <td>0.34</td>\n",
       "      <td>5.50</td>\n",
       "    </tr>\n",
       "    <tr>\n",
       "      <th>214</th>\n",
       "      <td>215</td>\n",
       "      <td>Monster Hunter Freedom 3</td>\n",
       "      <td>PSP</td>\n",
       "      <td>2010.0</td>\n",
       "      <td>Role-Playing</td>\n",
       "      <td>Capcom</td>\n",
       "      <td>0.00</td>\n",
       "      <td>0.00</td>\n",
       "      <td>4.87</td>\n",
       "      <td>0.00</td>\n",
       "      <td>4.87</td>\n",
       "    </tr>\n",
       "    <tr>\n",
       "      <th>219</th>\n",
       "      <td>220</td>\n",
       "      <td>FIFA 15</td>\n",
       "      <td>PS3</td>\n",
       "      <td>2014.0</td>\n",
       "      <td>Sports</td>\n",
       "      <td>Electronic Arts</td>\n",
       "      <td>0.57</td>\n",
       "      <td>3.14</td>\n",
       "      <td>0.04</td>\n",
       "      <td>1.07</td>\n",
       "      <td>4.82</td>\n",
       "    </tr>\n",
       "    <tr>\n",
       "      <th>221</th>\n",
       "      <td>222</td>\n",
       "      <td>FIFA 17</td>\n",
       "      <td>PS4</td>\n",
       "      <td>2016.0</td>\n",
       "      <td>Sports</td>\n",
       "      <td>Electronic Arts</td>\n",
       "      <td>0.28</td>\n",
       "      <td>3.75</td>\n",
       "      <td>0.06</td>\n",
       "      <td>0.69</td>\n",
       "      <td>4.77</td>\n",
       "    </tr>\n",
       "    <tr>\n",
       "      <th>...</th>\n",
       "      <td>...</td>\n",
       "      <td>...</td>\n",
       "      <td>...</td>\n",
       "      <td>...</td>\n",
       "      <td>...</td>\n",
       "      <td>...</td>\n",
       "      <td>...</td>\n",
       "      <td>...</td>\n",
       "      <td>...</td>\n",
       "      <td>...</td>\n",
       "      <td>...</td>\n",
       "    </tr>\n",
       "    <tr>\n",
       "      <th>16593</th>\n",
       "      <td>16596</td>\n",
       "      <td>Woody Woodpecker in Crazy Castle 5</td>\n",
       "      <td>GBA</td>\n",
       "      <td>2002.0</td>\n",
       "      <td>Platform</td>\n",
       "      <td>Kemco</td>\n",
       "      <td>0.01</td>\n",
       "      <td>0.00</td>\n",
       "      <td>0.00</td>\n",
       "      <td>0.00</td>\n",
       "      <td>0.01</td>\n",
       "    </tr>\n",
       "    <tr>\n",
       "      <th>16594</th>\n",
       "      <td>16597</td>\n",
       "      <td>Men in Black II: Alien Escape</td>\n",
       "      <td>GC</td>\n",
       "      <td>2003.0</td>\n",
       "      <td>Shooter</td>\n",
       "      <td>Infogrames</td>\n",
       "      <td>0.01</td>\n",
       "      <td>0.00</td>\n",
       "      <td>0.00</td>\n",
       "      <td>0.00</td>\n",
       "      <td>0.01</td>\n",
       "    </tr>\n",
       "    <tr>\n",
       "      <th>16595</th>\n",
       "      <td>16598</td>\n",
       "      <td>SCORE International Baja 1000: The Official Game</td>\n",
       "      <td>PS2</td>\n",
       "      <td>2008.0</td>\n",
       "      <td>Racing</td>\n",
       "      <td>Activision</td>\n",
       "      <td>0.00</td>\n",
       "      <td>0.00</td>\n",
       "      <td>0.00</td>\n",
       "      <td>0.00</td>\n",
       "      <td>0.01</td>\n",
       "    </tr>\n",
       "    <tr>\n",
       "      <th>16596</th>\n",
       "      <td>16599</td>\n",
       "      <td>Know How 2</td>\n",
       "      <td>DS</td>\n",
       "      <td>2010.0</td>\n",
       "      <td>Puzzle</td>\n",
       "      <td>7G//AMES</td>\n",
       "      <td>0.00</td>\n",
       "      <td>0.01</td>\n",
       "      <td>0.00</td>\n",
       "      <td>0.00</td>\n",
       "      <td>0.01</td>\n",
       "    </tr>\n",
       "    <tr>\n",
       "      <th>16597</th>\n",
       "      <td>16600</td>\n",
       "      <td>Spirits &amp; Spells</td>\n",
       "      <td>GBA</td>\n",
       "      <td>2003.0</td>\n",
       "      <td>Platform</td>\n",
       "      <td>Wanadoo</td>\n",
       "      <td>0.01</td>\n",
       "      <td>0.00</td>\n",
       "      <td>0.00</td>\n",
       "      <td>0.00</td>\n",
       "      <td>0.01</td>\n",
       "    </tr>\n",
       "  </tbody>\n",
       "</table>\n",
       "<p>14621 rows × 11 columns</p>\n",
       "</div>"
      ],
      "text/plain": [
       "        Rank                                              Name Platform  \\\n",
       "137      138                                 World of Warcraft       PC   \n",
       "161      162                      Monster Hunter Freedom Unite      PSP   \n",
       "214      215                          Monster Hunter Freedom 3      PSP   \n",
       "219      220                                           FIFA 15      PS3   \n",
       "221      222                                           FIFA 17      PS4   \n",
       "...      ...                                               ...      ...   \n",
       "16593  16596                Woody Woodpecker in Crazy Castle 5      GBA   \n",
       "16594  16597                     Men in Black II: Alien Escape       GC   \n",
       "16595  16598  SCORE International Baja 1000: The Official Game      PS2   \n",
       "16596  16599                                        Know How 2       DS   \n",
       "16597  16600                                  Spirits & Spells      GBA   \n",
       "\n",
       "         Year         Genre        Publisher  NA_Sales  EU_Sales  JP_Sales  \\\n",
       "137    2004.0  Role-Playing       Activision      0.07      6.21      0.00   \n",
       "161    2008.0  Role-Playing           Capcom      0.47      0.57      4.13   \n",
       "214    2010.0  Role-Playing           Capcom      0.00      0.00      4.87   \n",
       "219    2014.0        Sports  Electronic Arts      0.57      3.14      0.04   \n",
       "221    2016.0        Sports  Electronic Arts      0.28      3.75      0.06   \n",
       "...       ...           ...              ...       ...       ...       ...   \n",
       "16593  2002.0      Platform            Kemco      0.01      0.00      0.00   \n",
       "16594  2003.0       Shooter       Infogrames      0.01      0.00      0.00   \n",
       "16595  2008.0        Racing       Activision      0.00      0.00      0.00   \n",
       "16596  2010.0        Puzzle         7G//AMES      0.00      0.01      0.00   \n",
       "16597  2003.0      Platform          Wanadoo      0.01      0.00      0.00   \n",
       "\n",
       "       Other_Sales  Global_Sales  \n",
       "137           0.00          6.28  \n",
       "161           0.34          5.50  \n",
       "214           0.00          4.87  \n",
       "219           1.07          4.82  \n",
       "221           0.69          4.77  \n",
       "...            ...           ...  \n",
       "16593         0.00          0.01  \n",
       "16594         0.00          0.01  \n",
       "16595         0.00          0.01  \n",
       "16596         0.00          0.01  \n",
       "16597         0.00          0.01  \n",
       "\n",
       "[14621 rows x 11 columns]"
      ]
     },
     "execution_count": 45,
     "metadata": {},
     "output_type": "execute_result"
    }
   ],
   "source": [
    "df"
   ]
  },
  {
   "cell_type": "code",
   "execution_count": 46,
   "id": "0bf9ff9d",
   "metadata": {},
   "outputs": [
    {
     "name": "stderr",
     "output_type": "stream",
     "text": [
      "C:\\Users\\himanshu\\anaconda3\\lib\\site-packages\\seaborn\\_decorators.py:36: FutureWarning: Pass the following variable as a keyword arg: x. From version 0.12, the only valid positional argument will be `data`, and passing other arguments without an explicit keyword will result in an error or misinterpretation.\n",
      "  warnings.warn(\n"
     ]
    },
    {
     "data": {
      "text/plain": [
       "<AxesSubplot:xlabel='EU_Sales'>"
      ]
     },
     "execution_count": 46,
     "metadata": {},
     "output_type": "execute_result"
    },
    {
     "data": {
      "image/png": "[encoded data removed]",
      "text/plain": [
       "<Figure size 432x288 with 1 Axes>"
      ]
     },
     "metadata": {
      "needs_background": "light"
     },
     "output_type": "display_data"
    }
   ],
   "source": [
    "sns.boxplot(df['EU_Sales'])"
   ]
  },
  {
   "cell_type": "code",
   "execution_count": 47,
   "id": "9c41208d",
   "metadata": {},
   "outputs": [],
   "source": [
    "q1=df['EU_Sales'].quantile(0.25)"
   ]
  },
  {
   "cell_type": "code",
   "execution_count": 48,
   "id": "c4ccca5a",
   "metadata": {},
   "outputs": [],
   "source": [
    "q3=df['EU_Sales'].quantile(0.75)"
   ]
  },
  {
   "cell_type": "code",
   "execution_count": 49,
   "id": "045f03d9",
   "metadata": {},
   "outputs": [],
   "source": [
    "IQR=q3-q1"
   ]
  },
  {
   "cell_type": "code",
   "execution_count": 50,
   "id": "de357b3c",
   "metadata": {},
   "outputs": [],
   "source": [
    "lower=q1-1.5*IQR"
   ]
  },
  {
   "cell_type": "code",
   "execution_count": 51,
   "id": "b07d1757",
   "metadata": {},
   "outputs": [],
   "source": [
    "upper=q3+1.5*IQR"
   ]
  },
  {
   "cell_type": "code",
   "execution_count": 52,
   "id": "b1afe04e",
   "metadata": {},
   "outputs": [],
   "source": [
    "df=df[(df['EU_Sales']>lower) & (df['EU_Sales']<upper)]"
   ]
  },
  {
   "cell_type": "code",
   "execution_count": 53,
   "id": "8f9f8f40",
   "metadata": {},
   "outputs": [
    {
     "data": {
      "text/html": [
       "<div>\n",
       "<style scoped>\n",
       "    .dataframe tbody tr th:only-of-type {\n",
       "        vertical-align: middle;\n",
       "    }\n",
       "\n",
       "    .dataframe tbody tr th {\n",
       "        vertical-align: top;\n",
       "    }\n",
       "\n",
       "    .dataframe thead th {\n",
       "        text-align: right;\n",
       "    }\n",
       "</style>\n",
       "<table border=\"1\" class=\"dataframe\">\n",
       "  <thead>\n",
       "    <tr style=\"text-align: right;\">\n",
       "      <th></th>\n",
       "      <th>Rank</th>\n",
       "      <th>Name</th>\n",
       "      <th>Platform</th>\n",
       "      <th>Year</th>\n",
       "      <th>Genre</th>\n",
       "      <th>Publisher</th>\n",
       "      <th>NA_Sales</th>\n",
       "      <th>EU_Sales</th>\n",
       "      <th>JP_Sales</th>\n",
       "      <th>Other_Sales</th>\n",
       "      <th>Global_Sales</th>\n",
       "    </tr>\n",
       "  </thead>\n",
       "  <tbody>\n",
       "    <tr>\n",
       "      <th>214</th>\n",
       "      <td>215</td>\n",
       "      <td>Monster Hunter Freedom 3</td>\n",
       "      <td>PSP</td>\n",
       "      <td>2010.0</td>\n",
       "      <td>Role-Playing</td>\n",
       "      <td>Capcom</td>\n",
       "      <td>0.00</td>\n",
       "      <td>0.00</td>\n",
       "      <td>4.87</td>\n",
       "      <td>0.00</td>\n",
       "      <td>4.87</td>\n",
       "    </tr>\n",
       "    <tr>\n",
       "      <th>242</th>\n",
       "      <td>243</td>\n",
       "      <td>Dragon Quest VII: Warriors of Eden</td>\n",
       "      <td>PS</td>\n",
       "      <td>2000.0</td>\n",
       "      <td>Role-Playing</td>\n",
       "      <td>Enix Corporation</td>\n",
       "      <td>0.20</td>\n",
       "      <td>0.14</td>\n",
       "      <td>4.10</td>\n",
       "      <td>0.02</td>\n",
       "      <td>4.47</td>\n",
       "    </tr>\n",
       "    <tr>\n",
       "      <th>338</th>\n",
       "      <td>339</td>\n",
       "      <td>Friend Collection</td>\n",
       "      <td>DS</td>\n",
       "      <td>2009.0</td>\n",
       "      <td>Misc</td>\n",
       "      <td>Nintendo</td>\n",
       "      <td>0.00</td>\n",
       "      <td>0.00</td>\n",
       "      <td>3.67</td>\n",
       "      <td>0.00</td>\n",
       "      <td>3.67</td>\n",
       "    </tr>\n",
       "    <tr>\n",
       "      <th>348</th>\n",
       "      <td>349</td>\n",
       "      <td>Pro Evolution Soccer 2008</td>\n",
       "      <td>PS2</td>\n",
       "      <td>2007.0</td>\n",
       "      <td>Sports</td>\n",
       "      <td>Konami Digital Entertainment</td>\n",
       "      <td>0.05</td>\n",
       "      <td>0.00</td>\n",
       "      <td>0.64</td>\n",
       "      <td>2.93</td>\n",
       "      <td>3.63</td>\n",
       "    </tr>\n",
       "    <tr>\n",
       "      <th>383</th>\n",
       "      <td>384</td>\n",
       "      <td>Monster Hunter 4</td>\n",
       "      <td>3DS</td>\n",
       "      <td>2013.0</td>\n",
       "      <td>Role-Playing</td>\n",
       "      <td>Capcom</td>\n",
       "      <td>0.00</td>\n",
       "      <td>0.00</td>\n",
       "      <td>3.44</td>\n",
       "      <td>0.00</td>\n",
       "      <td>3.44</td>\n",
       "    </tr>\n",
       "    <tr>\n",
       "      <th>...</th>\n",
       "      <td>...</td>\n",
       "      <td>...</td>\n",
       "      <td>...</td>\n",
       "      <td>...</td>\n",
       "      <td>...</td>\n",
       "      <td>...</td>\n",
       "      <td>...</td>\n",
       "      <td>...</td>\n",
       "      <td>...</td>\n",
       "      <td>...</td>\n",
       "      <td>...</td>\n",
       "    </tr>\n",
       "    <tr>\n",
       "      <th>16593</th>\n",
       "      <td>16596</td>\n",
       "      <td>Woody Woodpecker in Crazy Castle 5</td>\n",
       "      <td>GBA</td>\n",
       "      <td>2002.0</td>\n",
       "      <td>Platform</td>\n",
       "      <td>Kemco</td>\n",
       "      <td>0.01</td>\n",
       "      <td>0.00</td>\n",
       "      <td>0.00</td>\n",
       "      <td>0.00</td>\n",
       "      <td>0.01</td>\n",
       "    </tr>\n",
       "    <tr>\n",
       "      <th>16594</th>\n",
       "      <td>16597</td>\n",
       "      <td>Men in Black II: Alien Escape</td>\n",
       "      <td>GC</td>\n",
       "      <td>2003.0</td>\n",
       "      <td>Shooter</td>\n",
       "      <td>Infogrames</td>\n",
       "      <td>0.01</td>\n",
       "      <td>0.00</td>\n",
       "      <td>0.00</td>\n",
       "      <td>0.00</td>\n",
       "      <td>0.01</td>\n",
       "    </tr>\n",
       "    <tr>\n",
       "      <th>16595</th>\n",
       "      <td>16598</td>\n",
       "      <td>SCORE International Baja 1000: The Official Game</td>\n",
       "      <td>PS2</td>\n",
       "      <td>2008.0</td>\n",
       "      <td>Racing</td>\n",
       "      <td>Activision</td>\n",
       "      <td>0.00</td>\n",
       "      <td>0.00</td>\n",
       "      <td>0.00</td>\n",
       "      <td>0.00</td>\n",
       "      <td>0.01</td>\n",
       "    </tr>\n",
       "    <tr>\n",
       "      <th>16596</th>\n",
       "      <td>16599</td>\n",
       "      <td>Know How 2</td>\n",
       "      <td>DS</td>\n",
       "      <td>2010.0</td>\n",
       "      <td>Puzzle</td>\n",
       "      <td>7G//AMES</td>\n",
       "      <td>0.00</td>\n",
       "      <td>0.01</td>\n",
       "      <td>0.00</td>\n",
       "      <td>0.00</td>\n",
       "      <td>0.01</td>\n",
       "    </tr>\n",
       "    <tr>\n",
       "      <th>16597</th>\n",
       "      <td>16600</td>\n",
       "      <td>Spirits &amp; Spells</td>\n",
       "      <td>GBA</td>\n",
       "      <td>2003.0</td>\n",
       "      <td>Platform</td>\n",
       "      <td>Wanadoo</td>\n",
       "      <td>0.01</td>\n",
       "      <td>0.00</td>\n",
       "      <td>0.00</td>\n",
       "      <td>0.00</td>\n",
       "      <td>0.01</td>\n",
       "    </tr>\n",
       "  </tbody>\n",
       "</table>\n",
       "<p>12971 rows × 11 columns</p>\n",
       "</div>"
      ],
      "text/plain": [
       "        Rank                                              Name Platform  \\\n",
       "214      215                          Monster Hunter Freedom 3      PSP   \n",
       "242      243                Dragon Quest VII: Warriors of Eden       PS   \n",
       "338      339                                 Friend Collection       DS   \n",
       "348      349                         Pro Evolution Soccer 2008      PS2   \n",
       "383      384                                  Monster Hunter 4      3DS   \n",
       "...      ...                                               ...      ...   \n",
       "16593  16596                Woody Woodpecker in Crazy Castle 5      GBA   \n",
       "16594  16597                     Men in Black II: Alien Escape       GC   \n",
       "16595  16598  SCORE International Baja 1000: The Official Game      PS2   \n",
       "16596  16599                                        Know How 2       DS   \n",
       "16597  16600                                  Spirits & Spells      GBA   \n",
       "\n",
       "         Year         Genre                     Publisher  NA_Sales  EU_Sales  \\\n",
       "214    2010.0  Role-Playing                        Capcom      0.00      0.00   \n",
       "242    2000.0  Role-Playing              Enix Corporation      0.20      0.14   \n",
       "338    2009.0          Misc                      Nintendo      0.00      0.00   \n",
       "348    2007.0        Sports  Konami Digital Entertainment      0.05      0.00   \n",
       "383    2013.0  Role-Playing                        Capcom      0.00      0.00   \n",
       "...       ...           ...                           ...       ...       ...   \n",
       "16593  2002.0      Platform                         Kemco      0.01      0.00   \n",
       "16594  2003.0       Shooter                    Infogrames      0.01      0.00   \n",
       "16595  2008.0        Racing                    Activision      0.00      0.00   \n",
       "16596  2010.0        Puzzle                      7G//AMES      0.00      0.01   \n",
       "16597  2003.0      Platform                       Wanadoo      0.01      0.00   \n",
       "\n",
       "       JP_Sales  Other_Sales  Global_Sales  \n",
       "214        4.87         0.00          4.87  \n",
       "242        4.10         0.02          4.47  \n",
       "338        3.67         0.00          3.67  \n",
       "348        0.64         2.93          3.63  \n",
       "383        3.44         0.00          3.44  \n",
       "...         ...          ...           ...  \n",
       "16593      0.00         0.00          0.01  \n",
       "16594      0.00         0.00          0.01  \n",
       "16595      0.00         0.00          0.01  \n",
       "16596      0.00         0.00          0.01  \n",
       "16597      0.00         0.00          0.01  \n",
       "\n",
       "[12971 rows x 11 columns]"
      ]
     },
     "execution_count": 53,
     "metadata": {},
     "output_type": "execute_result"
    }
   ],
   "source": [
    "df"
   ]
  },
  {
   "cell_type": "code",
   "execution_count": 54,
   "id": "11d50813",
   "metadata": {},
   "outputs": [
    {
     "name": "stderr",
     "output_type": "stream",
     "text": [
      "C:\\Users\\himanshu\\anaconda3\\lib\\site-packages\\seaborn\\_decorators.py:36: FutureWarning: Pass the following variable as a keyword arg: x. From version 0.12, the only valid positional argument will be `data`, and passing other arguments without an explicit keyword will result in an error or misinterpretation.\n",
      "  warnings.warn(\n"
     ]
    },
    {
     "data": {
      "text/plain": [
       "<AxesSubplot:xlabel='JP_Sales'>"
      ]
     },
     "execution_count": 54,
     "metadata": {},
     "output_type": "execute_result"
    },
    {
     "data": {
      "image/png": "[encoded data removed]",
      "text/plain": [
       "<Figure size 432x288 with 1 Axes>"
      ]
     },
     "metadata": {
      "needs_background": "light"
     },
     "output_type": "display_data"
    }
   ],
   "source": [
    "sns.boxplot(df['JP_Sales'])"
   ]
  },
  {
   "cell_type": "code",
   "execution_count": 55,
   "id": "b56754e0",
   "metadata": {},
   "outputs": [],
   "source": [
    "q1=df['JP_Sales'].quantile(0.25)"
   ]
  },
  {
   "cell_type": "code",
   "execution_count": 56,
   "id": "77244853",
   "metadata": {},
   "outputs": [],
   "source": [
    "q3=df['JP_Sales'].quantile(0.75)"
   ]
  },
  {
   "cell_type": "code",
   "execution_count": 57,
   "id": "0347722d",
   "metadata": {},
   "outputs": [],
   "source": [
    "IQR=q3-q1"
   ]
  },
  {
   "cell_type": "code",
   "execution_count": 58,
   "id": "988dbfd8",
   "metadata": {},
   "outputs": [],
   "source": [
    "lower=q1-1.5*IQR"
   ]
  },
  {
   "cell_type": "code",
   "execution_count": 59,
   "id": "8eb38316",
   "metadata": {},
   "outputs": [],
   "source": [
    "upper=q3+1.5*IQR"
   ]
  },
  {
   "cell_type": "code",
   "execution_count": 60,
   "id": "71a59732",
   "metadata": {},
   "outputs": [],
   "source": [
    "df=df[(df['JP_Sales']>lower) & (df['JP_Sales']<upper)]"
   ]
  },
  {
   "cell_type": "code",
   "execution_count": 61,
   "id": "2a2068d6",
   "metadata": {},
   "outputs": [
    {
     "data": {
      "text/html": [
       "<div>\n",
       "<style scoped>\n",
       "    .dataframe tbody tr th:only-of-type {\n",
       "        vertical-align: middle;\n",
       "    }\n",
       "\n",
       "    .dataframe tbody tr th {\n",
       "        vertical-align: top;\n",
       "    }\n",
       "\n",
       "    .dataframe thead th {\n",
       "        text-align: right;\n",
       "    }\n",
       "</style>\n",
       "<table border=\"1\" class=\"dataframe\">\n",
       "  <thead>\n",
       "    <tr style=\"text-align: right;\">\n",
       "      <th></th>\n",
       "      <th>Rank</th>\n",
       "      <th>Name</th>\n",
       "      <th>Platform</th>\n",
       "      <th>Year</th>\n",
       "      <th>Genre</th>\n",
       "      <th>Publisher</th>\n",
       "      <th>NA_Sales</th>\n",
       "      <th>EU_Sales</th>\n",
       "      <th>JP_Sales</th>\n",
       "      <th>Other_Sales</th>\n",
       "      <th>Global_Sales</th>\n",
       "    </tr>\n",
       "  </thead>\n",
       "  <tbody>\n",
       "    <tr>\n",
       "      <th>701</th>\n",
       "      <td>703</td>\n",
       "      <td>FIFA Soccer 09</td>\n",
       "      <td>PS2</td>\n",
       "      <td>2008.0</td>\n",
       "      <td>Sports</td>\n",
       "      <td>Electronic Arts</td>\n",
       "      <td>0.38</td>\n",
       "      <td>0.07</td>\n",
       "      <td>0.01</td>\n",
       "      <td>1.82</td>\n",
       "      <td>2.28</td>\n",
       "    </tr>\n",
       "    <tr>\n",
       "      <th>918</th>\n",
       "      <td>920</td>\n",
       "      <td>High School Musical: Sing It!</td>\n",
       "      <td>PS2</td>\n",
       "      <td>2007.0</td>\n",
       "      <td>Misc</td>\n",
       "      <td>Disney Interactive Studios</td>\n",
       "      <td>0.47</td>\n",
       "      <td>0.08</td>\n",
       "      <td>0.00</td>\n",
       "      <td>1.33</td>\n",
       "      <td>1.87</td>\n",
       "    </tr>\n",
       "    <tr>\n",
       "      <th>1249</th>\n",
       "      <td>1251</td>\n",
       "      <td>The Simpsons Game</td>\n",
       "      <td>PS2</td>\n",
       "      <td>2007.0</td>\n",
       "      <td>Action</td>\n",
       "      <td>Electronic Arts</td>\n",
       "      <td>0.35</td>\n",
       "      <td>0.03</td>\n",
       "      <td>0.00</td>\n",
       "      <td>1.13</td>\n",
       "      <td>1.51</td>\n",
       "    </tr>\n",
       "    <tr>\n",
       "      <th>1381</th>\n",
       "      <td>1383</td>\n",
       "      <td>Need For Speed: Undercover</td>\n",
       "      <td>PS2</td>\n",
       "      <td>2008.0</td>\n",
       "      <td>Racing</td>\n",
       "      <td>Electronic Arts</td>\n",
       "      <td>0.38</td>\n",
       "      <td>0.08</td>\n",
       "      <td>0.03</td>\n",
       "      <td>0.93</td>\n",
       "      <td>1.40</td>\n",
       "    </tr>\n",
       "    <tr>\n",
       "      <th>1426</th>\n",
       "      <td>1428</td>\n",
       "      <td>SingStar Abba</td>\n",
       "      <td>PS2</td>\n",
       "      <td>2008.0</td>\n",
       "      <td>Misc</td>\n",
       "      <td>Sony Computer Entertainment</td>\n",
       "      <td>0.23</td>\n",
       "      <td>0.04</td>\n",
       "      <td>0.00</td>\n",
       "      <td>1.09</td>\n",
       "      <td>1.36</td>\n",
       "    </tr>\n",
       "    <tr>\n",
       "      <th>...</th>\n",
       "      <td>...</td>\n",
       "      <td>...</td>\n",
       "      <td>...</td>\n",
       "      <td>...</td>\n",
       "      <td>...</td>\n",
       "      <td>...</td>\n",
       "      <td>...</td>\n",
       "      <td>...</td>\n",
       "      <td>...</td>\n",
       "      <td>...</td>\n",
       "      <td>...</td>\n",
       "    </tr>\n",
       "    <tr>\n",
       "      <th>16593</th>\n",
       "      <td>16596</td>\n",
       "      <td>Woody Woodpecker in Crazy Castle 5</td>\n",
       "      <td>GBA</td>\n",
       "      <td>2002.0</td>\n",
       "      <td>Platform</td>\n",
       "      <td>Kemco</td>\n",
       "      <td>0.01</td>\n",
       "      <td>0.00</td>\n",
       "      <td>0.00</td>\n",
       "      <td>0.00</td>\n",
       "      <td>0.01</td>\n",
       "    </tr>\n",
       "    <tr>\n",
       "      <th>16594</th>\n",
       "      <td>16597</td>\n",
       "      <td>Men in Black II: Alien Escape</td>\n",
       "      <td>GC</td>\n",
       "      <td>2003.0</td>\n",
       "      <td>Shooter</td>\n",
       "      <td>Infogrames</td>\n",
       "      <td>0.01</td>\n",
       "      <td>0.00</td>\n",
       "      <td>0.00</td>\n",
       "      <td>0.00</td>\n",
       "      <td>0.01</td>\n",
       "    </tr>\n",
       "    <tr>\n",
       "      <th>16595</th>\n",
       "      <td>16598</td>\n",
       "      <td>SCORE International Baja 1000: The Official Game</td>\n",
       "      <td>PS2</td>\n",
       "      <td>2008.0</td>\n",
       "      <td>Racing</td>\n",
       "      <td>Activision</td>\n",
       "      <td>0.00</td>\n",
       "      <td>0.00</td>\n",
       "      <td>0.00</td>\n",
       "      <td>0.00</td>\n",
       "      <td>0.01</td>\n",
       "    </tr>\n",
       "    <tr>\n",
       "      <th>16596</th>\n",
       "      <td>16599</td>\n",
       "      <td>Know How 2</td>\n",
       "      <td>DS</td>\n",
       "      <td>2010.0</td>\n",
       "      <td>Puzzle</td>\n",
       "      <td>7G//AMES</td>\n",
       "      <td>0.00</td>\n",
       "      <td>0.01</td>\n",
       "      <td>0.00</td>\n",
       "      <td>0.00</td>\n",
       "      <td>0.01</td>\n",
       "    </tr>\n",
       "    <tr>\n",
       "      <th>16597</th>\n",
       "      <td>16600</td>\n",
       "      <td>Spirits &amp; Spells</td>\n",
       "      <td>GBA</td>\n",
       "      <td>2003.0</td>\n",
       "      <td>Platform</td>\n",
       "      <td>Wanadoo</td>\n",
       "      <td>0.01</td>\n",
       "      <td>0.00</td>\n",
       "      <td>0.00</td>\n",
       "      <td>0.00</td>\n",
       "      <td>0.01</td>\n",
       "    </tr>\n",
       "  </tbody>\n",
       "</table>\n",
       "<p>10905 rows × 11 columns</p>\n",
       "</div>"
      ],
      "text/plain": [
       "        Rank                                              Name Platform  \\\n",
       "701      703                                    FIFA Soccer 09      PS2   \n",
       "918      920                     High School Musical: Sing It!      PS2   \n",
       "1249    1251                                 The Simpsons Game      PS2   \n",
       "1381    1383                        Need For Speed: Undercover      PS2   \n",
       "1426    1428                                     SingStar Abba      PS2   \n",
       "...      ...                                               ...      ...   \n",
       "16593  16596                Woody Woodpecker in Crazy Castle 5      GBA   \n",
       "16594  16597                     Men in Black II: Alien Escape       GC   \n",
       "16595  16598  SCORE International Baja 1000: The Official Game      PS2   \n",
       "16596  16599                                        Know How 2       DS   \n",
       "16597  16600                                  Spirits & Spells      GBA   \n",
       "\n",
       "         Year     Genre                    Publisher  NA_Sales  EU_Sales  \\\n",
       "701    2008.0    Sports              Electronic Arts      0.38      0.07   \n",
       "918    2007.0      Misc   Disney Interactive Studios      0.47      0.08   \n",
       "1249   2007.0    Action              Electronic Arts      0.35      0.03   \n",
       "1381   2008.0    Racing              Electronic Arts      0.38      0.08   \n",
       "1426   2008.0      Misc  Sony Computer Entertainment      0.23      0.04   \n",
       "...       ...       ...                          ...       ...       ...   \n",
       "16593  2002.0  Platform                        Kemco      0.01      0.00   \n",
       "16594  2003.0   Shooter                   Infogrames      0.01      0.00   \n",
       "16595  2008.0    Racing                   Activision      0.00      0.00   \n",
       "16596  2010.0    Puzzle                     7G//AMES      0.00      0.01   \n",
       "16597  2003.0  Platform                      Wanadoo      0.01      0.00   \n",
       "\n",
       "       JP_Sales  Other_Sales  Global_Sales  \n",
       "701        0.01         1.82          2.28  \n",
       "918        0.00         1.33          1.87  \n",
       "1249       0.00         1.13          1.51  \n",
       "1381       0.03         0.93          1.40  \n",
       "1426       0.00         1.09          1.36  \n",
       "...         ...          ...           ...  \n",
       "16593      0.00         0.00          0.01  \n",
       "16594      0.00         0.00          0.01  \n",
       "16595      0.00         0.00          0.01  \n",
       "16596      0.00         0.00          0.01  \n",
       "16597      0.00         0.00          0.01  \n",
       "\n",
       "[10905 rows x 11 columns]"
      ]
     },
     "execution_count": 61,
     "metadata": {},
     "output_type": "execute_result"
    }
   ],
   "source": [
    "df"
   ]
  },
  {
   "cell_type": "code",
   "execution_count": 62,
   "id": "cec24541",
   "metadata": {},
   "outputs": [
    {
     "name": "stderr",
     "output_type": "stream",
     "text": [
      "C:\\Users\\himanshu\\anaconda3\\lib\\site-packages\\seaborn\\_decorators.py:36: FutureWarning: Pass the following variable as a keyword arg: x. From version 0.12, the only valid positional argument will be `data`, and passing other arguments without an explicit keyword will result in an error or misinterpretation.\n",
      "  warnings.warn(\n"
     ]
    },
    {
     "data": {
      "text/plain": [
       "<AxesSubplot:xlabel='Rank'>"
      ]
     },
     "execution_count": 62,
     "metadata": {},
     "output_type": "execute_result"
    },
    {
     "data": {
      "image/png": "[encoded data removed]",
      "text/plain": [
       "<Figure size 432x288 with 1 Axes>"
      ]
     },
     "metadata": {
      "needs_background": "light"
     },
     "output_type": "display_data"
    }
   ],
   "source": [
    "sns.boxplot(df['Rank'])"
   ]
  },
  {
   "cell_type": "code",
   "execution_count": 63,
   "id": "c4c6f2c9",
   "metadata": {},
   "outputs": [
    {
     "name": "stderr",
     "output_type": "stream",
     "text": [
      "C:\\Users\\himanshu\\anaconda3\\lib\\site-packages\\seaborn\\_decorators.py:36: FutureWarning: Pass the following variable as a keyword arg: x. From version 0.12, the only valid positional argument will be `data`, and passing other arguments without an explicit keyword will result in an error or misinterpretation.\n",
      "  warnings.warn(\n"
     ]
    },
    {
     "data": {
      "text/plain": [
       "<AxesSubplot:xlabel='Other_Sales'>"
      ]
     },
     "execution_count": 63,
     "metadata": {},
     "output_type": "execute_result"
    },
    {
     "data": {
      "image/png": "[encoded data removed]",
      "text/plain": [
       "<Figure size 432x288 with 1 Axes>"
      ]
     },
     "metadata": {
      "needs_background": "light"
     },
     "output_type": "display_data"
    }
   ],
   "source": [
    "sns.boxplot(df['Other_Sales'])"
   ]
  },
  {
   "cell_type": "code",
   "execution_count": 64,
   "id": "a134b19c",
   "metadata": {},
   "outputs": [],
   "source": [
    "q1=df['Other_Sales'].quantile(0.25)"
   ]
  },
  {
   "cell_type": "code",
   "execution_count": 65,
   "id": "ca7140d5",
   "metadata": {},
   "outputs": [],
   "source": [
    "q3=df['Other_Sales'].quantile(0.75)"
   ]
  },
  {
   "cell_type": "code",
   "execution_count": 66,
   "id": "ccaa163e",
   "metadata": {},
   "outputs": [],
   "source": [
    "IQR=q3-q1"
   ]
  },
  {
   "cell_type": "code",
   "execution_count": 67,
   "id": "82c185db",
   "metadata": {},
   "outputs": [],
   "source": [
    "lower=q1-1.5*IQR"
   ]
  },
  {
   "cell_type": "code",
   "execution_count": 68,
   "id": "a96d4b95",
   "metadata": {},
   "outputs": [],
   "source": [
    "upper=q3+1.5*IQR"
   ]
  },
  {
   "cell_type": "code",
   "execution_count": 69,
   "id": "efa7ddd6",
   "metadata": {},
   "outputs": [],
   "source": [
    "df=df[(df['Other_Sales']>lower) & (df['Other_Sales']<upper)]"
   ]
  },
  {
   "cell_type": "code",
   "execution_count": 70,
   "id": "2047fd61",
   "metadata": {},
   "outputs": [
    {
     "data": {
      "text/html": [
       "<div>\n",
       "<style scoped>\n",
       "    .dataframe tbody tr th:only-of-type {\n",
       "        vertical-align: middle;\n",
       "    }\n",
       "\n",
       "    .dataframe tbody tr th {\n",
       "        vertical-align: top;\n",
       "    }\n",
       "\n",
       "    .dataframe thead th {\n",
       "        text-align: right;\n",
       "    }\n",
       "</style>\n",
       "<table border=\"1\" class=\"dataframe\">\n",
       "  <thead>\n",
       "    <tr style=\"text-align: right;\">\n",
       "      <th></th>\n",
       "      <th>Rank</th>\n",
       "      <th>Name</th>\n",
       "      <th>Platform</th>\n",
       "      <th>Year</th>\n",
       "      <th>Genre</th>\n",
       "      <th>Publisher</th>\n",
       "      <th>NA_Sales</th>\n",
       "      <th>EU_Sales</th>\n",
       "      <th>JP_Sales</th>\n",
       "      <th>Other_Sales</th>\n",
       "      <th>Global_Sales</th>\n",
       "    </tr>\n",
       "  </thead>\n",
       "  <tbody>\n",
       "    <tr>\n",
       "      <th>2799</th>\n",
       "      <td>2801</td>\n",
       "      <td>Mortal Kombat 4</td>\n",
       "      <td>N64</td>\n",
       "      <td>1998.0</td>\n",
       "      <td>Fighting</td>\n",
       "      <td>GT Interactive</td>\n",
       "      <td>0.55</td>\n",
       "      <td>0.17</td>\n",
       "      <td>0.0</td>\n",
       "      <td>0.01</td>\n",
       "      <td>0.73</td>\n",
       "    </tr>\n",
       "    <tr>\n",
       "      <th>2805</th>\n",
       "      <td>2807</td>\n",
       "      <td>Oddworld: Munch's Oddysee</td>\n",
       "      <td>XB</td>\n",
       "      <td>2001.0</td>\n",
       "      <td>Platform</td>\n",
       "      <td>Atari</td>\n",
       "      <td>0.54</td>\n",
       "      <td>0.16</td>\n",
       "      <td>0.0</td>\n",
       "      <td>0.03</td>\n",
       "      <td>0.73</td>\n",
       "    </tr>\n",
       "    <tr>\n",
       "      <th>2813</th>\n",
       "      <td>2815</td>\n",
       "      <td>Full Spectrum Warrior</td>\n",
       "      <td>XB</td>\n",
       "      <td>2004.0</td>\n",
       "      <td>Strategy</td>\n",
       "      <td>THQ</td>\n",
       "      <td>0.54</td>\n",
       "      <td>0.16</td>\n",
       "      <td>0.0</td>\n",
       "      <td>0.03</td>\n",
       "      <td>0.73</td>\n",
       "    </tr>\n",
       "    <tr>\n",
       "      <th>2823</th>\n",
       "      <td>2825</td>\n",
       "      <td>James Bond 007: Agent Under Fire</td>\n",
       "      <td>GC</td>\n",
       "      <td>2002.0</td>\n",
       "      <td>Shooter</td>\n",
       "      <td>Electronic Arts</td>\n",
       "      <td>0.56</td>\n",
       "      <td>0.15</td>\n",
       "      <td>0.0</td>\n",
       "      <td>0.02</td>\n",
       "      <td>0.72</td>\n",
       "    </tr>\n",
       "    <tr>\n",
       "      <th>2834</th>\n",
       "      <td>2836</td>\n",
       "      <td>Dead to Rights</td>\n",
       "      <td>XB</td>\n",
       "      <td>2002.0</td>\n",
       "      <td>Shooter</td>\n",
       "      <td>Electronic Arts</td>\n",
       "      <td>0.53</td>\n",
       "      <td>0.17</td>\n",
       "      <td>0.0</td>\n",
       "      <td>0.03</td>\n",
       "      <td>0.72</td>\n",
       "    </tr>\n",
       "    <tr>\n",
       "      <th>...</th>\n",
       "      <td>...</td>\n",
       "      <td>...</td>\n",
       "      <td>...</td>\n",
       "      <td>...</td>\n",
       "      <td>...</td>\n",
       "      <td>...</td>\n",
       "      <td>...</td>\n",
       "      <td>...</td>\n",
       "      <td>...</td>\n",
       "      <td>...</td>\n",
       "      <td>...</td>\n",
       "    </tr>\n",
       "    <tr>\n",
       "      <th>16593</th>\n",
       "      <td>16596</td>\n",
       "      <td>Woody Woodpecker in Crazy Castle 5</td>\n",
       "      <td>GBA</td>\n",
       "      <td>2002.0</td>\n",
       "      <td>Platform</td>\n",
       "      <td>Kemco</td>\n",
       "      <td>0.01</td>\n",
       "      <td>0.00</td>\n",
       "      <td>0.0</td>\n",
       "      <td>0.00</td>\n",
       "      <td>0.01</td>\n",
       "    </tr>\n",
       "    <tr>\n",
       "      <th>16594</th>\n",
       "      <td>16597</td>\n",
       "      <td>Men in Black II: Alien Escape</td>\n",
       "      <td>GC</td>\n",
       "      <td>2003.0</td>\n",
       "      <td>Shooter</td>\n",
       "      <td>Infogrames</td>\n",
       "      <td>0.01</td>\n",
       "      <td>0.00</td>\n",
       "      <td>0.0</td>\n",
       "      <td>0.00</td>\n",
       "      <td>0.01</td>\n",
       "    </tr>\n",
       "    <tr>\n",
       "      <th>16595</th>\n",
       "      <td>16598</td>\n",
       "      <td>SCORE International Baja 1000: The Official Game</td>\n",
       "      <td>PS2</td>\n",
       "      <td>2008.0</td>\n",
       "      <td>Racing</td>\n",
       "      <td>Activision</td>\n",
       "      <td>0.00</td>\n",
       "      <td>0.00</td>\n",
       "      <td>0.0</td>\n",
       "      <td>0.00</td>\n",
       "      <td>0.01</td>\n",
       "    </tr>\n",
       "    <tr>\n",
       "      <th>16596</th>\n",
       "      <td>16599</td>\n",
       "      <td>Know How 2</td>\n",
       "      <td>DS</td>\n",
       "      <td>2010.0</td>\n",
       "      <td>Puzzle</td>\n",
       "      <td>7G//AMES</td>\n",
       "      <td>0.00</td>\n",
       "      <td>0.01</td>\n",
       "      <td>0.0</td>\n",
       "      <td>0.00</td>\n",
       "      <td>0.01</td>\n",
       "    </tr>\n",
       "    <tr>\n",
       "      <th>16597</th>\n",
       "      <td>16600</td>\n",
       "      <td>Spirits &amp; Spells</td>\n",
       "      <td>GBA</td>\n",
       "      <td>2003.0</td>\n",
       "      <td>Platform</td>\n",
       "      <td>Wanadoo</td>\n",
       "      <td>0.01</td>\n",
       "      <td>0.00</td>\n",
       "      <td>0.0</td>\n",
       "      <td>0.00</td>\n",
       "      <td>0.01</td>\n",
       "    </tr>\n",
       "  </tbody>\n",
       "</table>\n",
       "<p>10393 rows × 11 columns</p>\n",
       "</div>"
      ],
      "text/plain": [
       "        Rank                                              Name Platform  \\\n",
       "2799    2801                                   Mortal Kombat 4      N64   \n",
       "2805    2807                         Oddworld: Munch's Oddysee       XB   \n",
       "2813    2815                             Full Spectrum Warrior       XB   \n",
       "2823    2825                  James Bond 007: Agent Under Fire       GC   \n",
       "2834    2836                                    Dead to Rights       XB   \n",
       "...      ...                                               ...      ...   \n",
       "16593  16596                Woody Woodpecker in Crazy Castle 5      GBA   \n",
       "16594  16597                     Men in Black II: Alien Escape       GC   \n",
       "16595  16598  SCORE International Baja 1000: The Official Game      PS2   \n",
       "16596  16599                                        Know How 2       DS   \n",
       "16597  16600                                  Spirits & Spells      GBA   \n",
       "\n",
       "         Year     Genre        Publisher  NA_Sales  EU_Sales  JP_Sales  \\\n",
       "2799   1998.0  Fighting   GT Interactive      0.55      0.17       0.0   \n",
       "2805   2001.0  Platform            Atari      0.54      0.16       0.0   \n",
       "2813   2004.0  Strategy              THQ      0.54      0.16       0.0   \n",
       "2823   2002.0   Shooter  Electronic Arts      0.56      0.15       0.0   \n",
       "2834   2002.0   Shooter  Electronic Arts      0.53      0.17       0.0   \n",
       "...       ...       ...              ...       ...       ...       ...   \n",
       "16593  2002.0  Platform            Kemco      0.01      0.00       0.0   \n",
       "16594  2003.0   Shooter       Infogrames      0.01      0.00       0.0   \n",
       "16595  2008.0    Racing       Activision      0.00      0.00       0.0   \n",
       "16596  2010.0    Puzzle         7G//AMES      0.00      0.01       0.0   \n",
       "16597  2003.0  Platform          Wanadoo      0.01      0.00       0.0   \n",
       "\n",
       "       Other_Sales  Global_Sales  \n",
       "2799          0.01          0.73  \n",
       "2805          0.03          0.73  \n",
       "2813          0.03          0.73  \n",
       "2823          0.02          0.72  \n",
       "2834          0.03          0.72  \n",
       "...            ...           ...  \n",
       "16593         0.00          0.01  \n",
       "16594         0.00          0.01  \n",
       "16595         0.00          0.01  \n",
       "16596         0.00          0.01  \n",
       "16597         0.00          0.01  \n",
       "\n",
       "[10393 rows x 11 columns]"
      ]
     },
     "execution_count": 70,
     "metadata": {},
     "output_type": "execute_result"
    }
   ],
   "source": [
    "df"
   ]
  },
  {
   "cell_type": "code",
   "execution_count": 71,
   "id": "e24df1cd",
   "metadata": {},
   "outputs": [
    {
     "data": {
      "image/png": "[encoded data removed]",
      "text/plain": [
       "<Figure size 432x288 with 1 Axes>"
      ]
     },
     "metadata": {
      "needs_background": "light"
     },
     "output_type": "display_data"
    }
   ],
   "source": [
    "sns.barplot(x=df['Platform'],y=df['Global_Sales'])\n",
    "plt.xticks(rotation=90)\n",
    "plt.show()"
   ]
  },
  {
   "cell_type": "code",
   "execution_count": 72,
   "id": "712d5353",
   "metadata": {},
   "outputs": [
    {
     "data": {
      "image/png": "[encoded data removed]",
      "text/plain": [
       "<Figure size 432x288 with 1 Axes>"
      ]
     },
     "metadata": {
      "needs_background": "light"
     },
     "output_type": "display_data"
    }
   ],
   "source": [
    "sns.barplot(x=df['Genre'],y=df['Global_Sales'])\n",
    "plt.xticks(rotation=90)\n",
    "plt.show()"
   ]
  },
  {
   "cell_type": "code",
   "execution_count": 73,
   "id": "458057d0",
   "metadata": {},
   "outputs": [
    {
     "data": {
      "text/html": [
       "<div>\n",
       "<style scoped>\n",
       "    .dataframe tbody tr th:only-of-type {\n",
       "        vertical-align: middle;\n",
       "    }\n",
       "\n",
       "    .dataframe tbody tr th {\n",
       "        vertical-align: top;\n",
       "    }\n",
       "\n",
       "    .dataframe thead th {\n",
       "        text-align: right;\n",
       "    }\n",
       "</style>\n",
       "<table border=\"1\" class=\"dataframe\">\n",
       "  <thead>\n",
       "    <tr style=\"text-align: right;\">\n",
       "      <th></th>\n",
       "      <th>Rank</th>\n",
       "      <th>Name</th>\n",
       "      <th>Platform</th>\n",
       "      <th>Year</th>\n",
       "      <th>Genre</th>\n",
       "      <th>Publisher</th>\n",
       "      <th>NA_Sales</th>\n",
       "      <th>EU_Sales</th>\n",
       "      <th>JP_Sales</th>\n",
       "      <th>Other_Sales</th>\n",
       "      <th>Global_Sales</th>\n",
       "    </tr>\n",
       "  </thead>\n",
       "  <tbody>\n",
       "    <tr>\n",
       "      <th>2799</th>\n",
       "      <td>2801</td>\n",
       "      <td>Mortal Kombat 4</td>\n",
       "      <td>N64</td>\n",
       "      <td>1998.0</td>\n",
       "      <td>Fighting</td>\n",
       "      <td>GT Interactive</td>\n",
       "      <td>0.55</td>\n",
       "      <td>0.17</td>\n",
       "      <td>0.0</td>\n",
       "      <td>0.01</td>\n",
       "      <td>0.73</td>\n",
       "    </tr>\n",
       "    <tr>\n",
       "      <th>2805</th>\n",
       "      <td>2807</td>\n",
       "      <td>Oddworld: Munch's Oddysee</td>\n",
       "      <td>XB</td>\n",
       "      <td>2001.0</td>\n",
       "      <td>Platform</td>\n",
       "      <td>Atari</td>\n",
       "      <td>0.54</td>\n",
       "      <td>0.16</td>\n",
       "      <td>0.0</td>\n",
       "      <td>0.03</td>\n",
       "      <td>0.73</td>\n",
       "    </tr>\n",
       "    <tr>\n",
       "      <th>2813</th>\n",
       "      <td>2815</td>\n",
       "      <td>Full Spectrum Warrior</td>\n",
       "      <td>XB</td>\n",
       "      <td>2004.0</td>\n",
       "      <td>Strategy</td>\n",
       "      <td>THQ</td>\n",
       "      <td>0.54</td>\n",
       "      <td>0.16</td>\n",
       "      <td>0.0</td>\n",
       "      <td>0.03</td>\n",
       "      <td>0.73</td>\n",
       "    </tr>\n",
       "    <tr>\n",
       "      <th>2823</th>\n",
       "      <td>2825</td>\n",
       "      <td>James Bond 007: Agent Under Fire</td>\n",
       "      <td>GC</td>\n",
       "      <td>2002.0</td>\n",
       "      <td>Shooter</td>\n",
       "      <td>Electronic Arts</td>\n",
       "      <td>0.56</td>\n",
       "      <td>0.15</td>\n",
       "      <td>0.0</td>\n",
       "      <td>0.02</td>\n",
       "      <td>0.72</td>\n",
       "    </tr>\n",
       "    <tr>\n",
       "      <th>2834</th>\n",
       "      <td>2836</td>\n",
       "      <td>Dead to Rights</td>\n",
       "      <td>XB</td>\n",
       "      <td>2002.0</td>\n",
       "      <td>Shooter</td>\n",
       "      <td>Electronic Arts</td>\n",
       "      <td>0.53</td>\n",
       "      <td>0.17</td>\n",
       "      <td>0.0</td>\n",
       "      <td>0.03</td>\n",
       "      <td>0.72</td>\n",
       "    </tr>\n",
       "    <tr>\n",
       "      <th>...</th>\n",
       "      <td>...</td>\n",
       "      <td>...</td>\n",
       "      <td>...</td>\n",
       "      <td>...</td>\n",
       "      <td>...</td>\n",
       "      <td>...</td>\n",
       "      <td>...</td>\n",
       "      <td>...</td>\n",
       "      <td>...</td>\n",
       "      <td>...</td>\n",
       "      <td>...</td>\n",
       "    </tr>\n",
       "    <tr>\n",
       "      <th>16593</th>\n",
       "      <td>16596</td>\n",
       "      <td>Woody Woodpecker in Crazy Castle 5</td>\n",
       "      <td>GBA</td>\n",
       "      <td>2002.0</td>\n",
       "      <td>Platform</td>\n",
       "      <td>Kemco</td>\n",
       "      <td>0.01</td>\n",
       "      <td>0.00</td>\n",
       "      <td>0.0</td>\n",
       "      <td>0.00</td>\n",
       "      <td>0.01</td>\n",
       "    </tr>\n",
       "    <tr>\n",
       "      <th>16594</th>\n",
       "      <td>16597</td>\n",
       "      <td>Men in Black II: Alien Escape</td>\n",
       "      <td>GC</td>\n",
       "      <td>2003.0</td>\n",
       "      <td>Shooter</td>\n",
       "      <td>Infogrames</td>\n",
       "      <td>0.01</td>\n",
       "      <td>0.00</td>\n",
       "      <td>0.0</td>\n",
       "      <td>0.00</td>\n",
       "      <td>0.01</td>\n",
       "    </tr>\n",
       "    <tr>\n",
       "      <th>16595</th>\n",
       "      <td>16598</td>\n",
       "      <td>SCORE International Baja 1000: The Official Game</td>\n",
       "      <td>PS2</td>\n",
       "      <td>2008.0</td>\n",
       "      <td>Racing</td>\n",
       "      <td>Activision</td>\n",
       "      <td>0.00</td>\n",
       "      <td>0.00</td>\n",
       "      <td>0.0</td>\n",
       "      <td>0.00</td>\n",
       "      <td>0.01</td>\n",
       "    </tr>\n",
       "    <tr>\n",
       "      <th>16596</th>\n",
       "      <td>16599</td>\n",
       "      <td>Know How 2</td>\n",
       "      <td>DS</td>\n",
       "      <td>2010.0</td>\n",
       "      <td>Puzzle</td>\n",
       "      <td>7G//AMES</td>\n",
       "      <td>0.00</td>\n",
       "      <td>0.01</td>\n",
       "      <td>0.0</td>\n",
       "      <td>0.00</td>\n",
       "      <td>0.01</td>\n",
       "    </tr>\n",
       "    <tr>\n",
       "      <th>16597</th>\n",
       "      <td>16600</td>\n",
       "      <td>Spirits &amp; Spells</td>\n",
       "      <td>GBA</td>\n",
       "      <td>2003.0</td>\n",
       "      <td>Platform</td>\n",
       "      <td>Wanadoo</td>\n",
       "      <td>0.01</td>\n",
       "      <td>0.00</td>\n",
       "      <td>0.0</td>\n",
       "      <td>0.00</td>\n",
       "      <td>0.01</td>\n",
       "    </tr>\n",
       "  </tbody>\n",
       "</table>\n",
       "<p>10393 rows × 11 columns</p>\n",
       "</div>"
      ],
      "text/plain": [
       "        Rank                                              Name Platform  \\\n",
       "2799    2801                                   Mortal Kombat 4      N64   \n",
       "2805    2807                         Oddworld: Munch's Oddysee       XB   \n",
       "2813    2815                             Full Spectrum Warrior       XB   \n",
       "2823    2825                  James Bond 007: Agent Under Fire       GC   \n",
       "2834    2836                                    Dead to Rights       XB   \n",
       "...      ...                                               ...      ...   \n",
       "16593  16596                Woody Woodpecker in Crazy Castle 5      GBA   \n",
       "16594  16597                     Men in Black II: Alien Escape       GC   \n",
       "16595  16598  SCORE International Baja 1000: The Official Game      PS2   \n",
       "16596  16599                                        Know How 2       DS   \n",
       "16597  16600                                  Spirits & Spells      GBA   \n",
       "\n",
       "         Year     Genre        Publisher  NA_Sales  EU_Sales  JP_Sales  \\\n",
       "2799   1998.0  Fighting   GT Interactive      0.55      0.17       0.0   \n",
       "2805   2001.0  Platform            Atari      0.54      0.16       0.0   \n",
       "2813   2004.0  Strategy              THQ      0.54      0.16       0.0   \n",
       "2823   2002.0   Shooter  Electronic Arts      0.56      0.15       0.0   \n",
       "2834   2002.0   Shooter  Electronic Arts      0.53      0.17       0.0   \n",
       "...       ...       ...              ...       ...       ...       ...   \n",
       "16593  2002.0  Platform            Kemco      0.01      0.00       0.0   \n",
       "16594  2003.0   Shooter       Infogrames      0.01      0.00       0.0   \n",
       "16595  2008.0    Racing       Activision      0.00      0.00       0.0   \n",
       "16596  2010.0    Puzzle         7G//AMES      0.00      0.01       0.0   \n",
       "16597  2003.0  Platform          Wanadoo      0.01      0.00       0.0   \n",
       "\n",
       "       Other_Sales  Global_Sales  \n",
       "2799          0.01          0.73  \n",
       "2805          0.03          0.73  \n",
       "2813          0.03          0.73  \n",
       "2823          0.02          0.72  \n",
       "2834          0.03          0.72  \n",
       "...            ...           ...  \n",
       "16593         0.00          0.01  \n",
       "16594         0.00          0.01  \n",
       "16595         0.00          0.01  \n",
       "16596         0.00          0.01  \n",
       "16597         0.00          0.01  \n",
       "\n",
       "[10393 rows x 11 columns]"
      ]
     },
     "execution_count": 73,
     "metadata": {},
     "output_type": "execute_result"
    }
   ],
   "source": [
    "df"
   ]
  },
  {
   "cell_type": "code",
   "execution_count": 74,
   "id": "34e42b66",
   "metadata": {},
   "outputs": [
    {
     "name": "stderr",
     "output_type": "stream",
     "text": [
      "C:\\Users\\himanshu\\anaconda3\\lib\\site-packages\\seaborn\\distributions.py:2619: FutureWarning: `distplot` is a deprecated function and will be removed in a future version. Please adapt your code to use either `displot` (a figure-level function with similar flexibility) or `histplot` (an axes-level function for histograms).\n",
      "  warnings.warn(msg, FutureWarning)\n"
     ]
    },
    {
     "data": {
      "text/plain": [
       "<AxesSubplot:xlabel='NA_Sales', ylabel='Density'>"
      ]
     },
     "execution_count": 74,
     "metadata": {},
     "output_type": "execute_result"
    },
    {
     "data": {
      "image/png": "[encoded data removed]",
      "text/plain": [
       "<Figure size 432x288 with 1 Axes>"
      ]
     },
     "metadata": {
      "needs_background": "light"
     },
     "output_type": "display_data"
    }
   ],
   "source": [
    "sns.distplot(df['NA_Sales'])"
   ]
  },
  {
   "cell_type": "code",
   "execution_count": 75,
   "id": "761d0f55",
   "metadata": {},
   "outputs": [
    {
     "name": "stderr",
     "output_type": "stream",
     "text": [
      "C:\\Users\\himanshu\\anaconda3\\lib\\site-packages\\seaborn\\distributions.py:2619: FutureWarning: `distplot` is a deprecated function and will be removed in a future version. Please adapt your code to use either `displot` (a figure-level function with similar flexibility) or `histplot` (an axes-level function for histograms).\n",
      "  warnings.warn(msg, FutureWarning)\n"
     ]
    },
    {
     "data": {
      "text/plain": [
       "<AxesSubplot:xlabel='EU_Sales', ylabel='Density'>"
      ]
     },
     "execution_count": 75,
     "metadata": {},
     "output_type": "execute_result"
    },
    {
     "data": {
      "image/png": "[encoded data removed]",
      "text/plain": [
       "<Figure size 432x288 with 1 Axes>"
      ]
     },
     "metadata": {
      "needs_background": "light"
     },
     "output_type": "display_data"
    }
   ],
   "source": [
    "sns.distplot(df['EU_Sales'])"
   ]
  },
  {
   "cell_type": "code",
   "execution_count": 76,
   "id": "9385e409",
   "metadata": {},
   "outputs": [
    {
     "name": "stderr",
     "output_type": "stream",
     "text": [
      "C:\\Users\\himanshu\\anaconda3\\lib\\site-packages\\seaborn\\distributions.py:2619: FutureWarning: `distplot` is a deprecated function and will be removed in a future version. Please adapt your code to use either `displot` (a figure-level function with similar flexibility) or `histplot` (an axes-level function for histograms).\n",
      "  warnings.warn(msg, FutureWarning)\n"
     ]
    },
    {
     "data": {
      "text/plain": [
       "<AxesSubplot:xlabel='JP_Sales', ylabel='Density'>"
      ]
     },
     "execution_count": 76,
     "metadata": {},
     "output_type": "execute_result"
    },
    {
     "data": {
      "image/png": "[encoded data removed]",
      "text/plain": [
       "<Figure size 432x288 with 1 Axes>"
      ]
     },
     "metadata": {
      "needs_background": "light"
     },
     "output_type": "display_data"
    }
   ],
   "source": [
    "sns.distplot(df['JP_Sales'])"
   ]
  },
  {
   "cell_type": "code",
   "execution_count": 77,
   "id": "1d7b32ff",
   "metadata": {},
   "outputs": [
    {
     "name": "stderr",
     "output_type": "stream",
     "text": [
      "C:\\Users\\himanshu\\anaconda3\\lib\\site-packages\\seaborn\\distributions.py:2619: FutureWarning: `distplot` is a deprecated function and will be removed in a future version. Please adapt your code to use either `displot` (a figure-level function with similar flexibility) or `histplot` (an axes-level function for histograms).\n",
      "  warnings.warn(msg, FutureWarning)\n"
     ]
    },
    {
     "data": {
      "text/plain": [
       "<AxesSubplot:xlabel='Other_Sales', ylabel='Density'>"
      ]
     },
     "execution_count": 77,
     "metadata": {},
     "output_type": "execute_result"
    },
    {
     "data": {
      "image/png": "[encoded data removed]",
      "text/plain": [
       "<Figure size 432x288 with 1 Axes>"
      ]
     },
     "metadata": {
      "needs_background": "light"
     },
     "output_type": "display_data"
    }
   ],
   "source": [
    "sns.distplot(df['Other_Sales'])"
   ]
  },
  {
   "cell_type": "code",
   "execution_count": 78,
   "id": "3d478466",
   "metadata": {},
   "outputs": [
    {
     "data": {
      "text/html": [
       "<div>\n",
       "<style scoped>\n",
       "    .dataframe tbody tr th:only-of-type {\n",
       "        vertical-align: middle;\n",
       "    }\n",
       "\n",
       "    .dataframe tbody tr th {\n",
       "        vertical-align: top;\n",
       "    }\n",
       "\n",
       "    .dataframe thead th {\n",
       "        text-align: right;\n",
       "    }\n",
       "</style>\n",
       "<table border=\"1\" class=\"dataframe\">\n",
       "  <thead>\n",
       "    <tr style=\"text-align: right;\">\n",
       "      <th></th>\n",
       "      <th>Rank</th>\n",
       "      <th>Name</th>\n",
       "      <th>Platform</th>\n",
       "      <th>Year</th>\n",
       "      <th>Genre</th>\n",
       "      <th>Publisher</th>\n",
       "      <th>NA_Sales</th>\n",
       "      <th>EU_Sales</th>\n",
       "      <th>JP_Sales</th>\n",
       "      <th>Other_Sales</th>\n",
       "      <th>Global_Sales</th>\n",
       "    </tr>\n",
       "  </thead>\n",
       "  <tbody>\n",
       "    <tr>\n",
       "      <th>2799</th>\n",
       "      <td>2801</td>\n",
       "      <td>Mortal Kombat 4</td>\n",
       "      <td>N64</td>\n",
       "      <td>1998.0</td>\n",
       "      <td>Fighting</td>\n",
       "      <td>GT Interactive</td>\n",
       "      <td>0.55</td>\n",
       "      <td>0.17</td>\n",
       "      <td>0.0</td>\n",
       "      <td>0.01</td>\n",
       "      <td>0.73</td>\n",
       "    </tr>\n",
       "    <tr>\n",
       "      <th>2805</th>\n",
       "      <td>2807</td>\n",
       "      <td>Oddworld: Munch's Oddysee</td>\n",
       "      <td>XB</td>\n",
       "      <td>2001.0</td>\n",
       "      <td>Platform</td>\n",
       "      <td>Atari</td>\n",
       "      <td>0.54</td>\n",
       "      <td>0.16</td>\n",
       "      <td>0.0</td>\n",
       "      <td>0.03</td>\n",
       "      <td>0.73</td>\n",
       "    </tr>\n",
       "    <tr>\n",
       "      <th>2813</th>\n",
       "      <td>2815</td>\n",
       "      <td>Full Spectrum Warrior</td>\n",
       "      <td>XB</td>\n",
       "      <td>2004.0</td>\n",
       "      <td>Strategy</td>\n",
       "      <td>THQ</td>\n",
       "      <td>0.54</td>\n",
       "      <td>0.16</td>\n",
       "      <td>0.0</td>\n",
       "      <td>0.03</td>\n",
       "      <td>0.73</td>\n",
       "    </tr>\n",
       "    <tr>\n",
       "      <th>2823</th>\n",
       "      <td>2825</td>\n",
       "      <td>James Bond 007: Agent Under Fire</td>\n",
       "      <td>GC</td>\n",
       "      <td>2002.0</td>\n",
       "      <td>Shooter</td>\n",
       "      <td>Electronic Arts</td>\n",
       "      <td>0.56</td>\n",
       "      <td>0.15</td>\n",
       "      <td>0.0</td>\n",
       "      <td>0.02</td>\n",
       "      <td>0.72</td>\n",
       "    </tr>\n",
       "    <tr>\n",
       "      <th>2834</th>\n",
       "      <td>2836</td>\n",
       "      <td>Dead to Rights</td>\n",
       "      <td>XB</td>\n",
       "      <td>2002.0</td>\n",
       "      <td>Shooter</td>\n",
       "      <td>Electronic Arts</td>\n",
       "      <td>0.53</td>\n",
       "      <td>0.17</td>\n",
       "      <td>0.0</td>\n",
       "      <td>0.03</td>\n",
       "      <td>0.72</td>\n",
       "    </tr>\n",
       "    <tr>\n",
       "      <th>...</th>\n",
       "      <td>...</td>\n",
       "      <td>...</td>\n",
       "      <td>...</td>\n",
       "      <td>...</td>\n",
       "      <td>...</td>\n",
       "      <td>...</td>\n",
       "      <td>...</td>\n",
       "      <td>...</td>\n",
       "      <td>...</td>\n",
       "      <td>...</td>\n",
       "      <td>...</td>\n",
       "    </tr>\n",
       "    <tr>\n",
       "      <th>16593</th>\n",
       "      <td>16596</td>\n",
       "      <td>Woody Woodpecker in Crazy Castle 5</td>\n",
       "      <td>GBA</td>\n",
       "      <td>2002.0</td>\n",
       "      <td>Platform</td>\n",
       "      <td>Kemco</td>\n",
       "      <td>0.01</td>\n",
       "      <td>0.00</td>\n",
       "      <td>0.0</td>\n",
       "      <td>0.00</td>\n",
       "      <td>0.01</td>\n",
       "    </tr>\n",
       "    <tr>\n",
       "      <th>16594</th>\n",
       "      <td>16597</td>\n",
       "      <td>Men in Black II: Alien Escape</td>\n",
       "      <td>GC</td>\n",
       "      <td>2003.0</td>\n",
       "      <td>Shooter</td>\n",
       "      <td>Infogrames</td>\n",
       "      <td>0.01</td>\n",
       "      <td>0.00</td>\n",
       "      <td>0.0</td>\n",
       "      <td>0.00</td>\n",
       "      <td>0.01</td>\n",
       "    </tr>\n",
       "    <tr>\n",
       "      <th>16595</th>\n",
       "      <td>16598</td>\n",
       "      <td>SCORE International Baja 1000: The Official Game</td>\n",
       "      <td>PS2</td>\n",
       "      <td>2008.0</td>\n",
       "      <td>Racing</td>\n",
       "      <td>Activision</td>\n",
       "      <td>0.00</td>\n",
       "      <td>0.00</td>\n",
       "      <td>0.0</td>\n",
       "      <td>0.00</td>\n",
       "      <td>0.01</td>\n",
       "    </tr>\n",
       "    <tr>\n",
       "      <th>16596</th>\n",
       "      <td>16599</td>\n",
       "      <td>Know How 2</td>\n",
       "      <td>DS</td>\n",
       "      <td>2010.0</td>\n",
       "      <td>Puzzle</td>\n",
       "      <td>7G//AMES</td>\n",
       "      <td>0.00</td>\n",
       "      <td>0.01</td>\n",
       "      <td>0.0</td>\n",
       "      <td>0.00</td>\n",
       "      <td>0.01</td>\n",
       "    </tr>\n",
       "    <tr>\n",
       "      <th>16597</th>\n",
       "      <td>16600</td>\n",
       "      <td>Spirits &amp; Spells</td>\n",
       "      <td>GBA</td>\n",
       "      <td>2003.0</td>\n",
       "      <td>Platform</td>\n",
       "      <td>Wanadoo</td>\n",
       "      <td>0.01</td>\n",
       "      <td>0.00</td>\n",
       "      <td>0.0</td>\n",
       "      <td>0.00</td>\n",
       "      <td>0.01</td>\n",
       "    </tr>\n",
       "  </tbody>\n",
       "</table>\n",
       "<p>10393 rows × 11 columns</p>\n",
       "</div>"
      ],
      "text/plain": [
       "        Rank                                              Name Platform  \\\n",
       "2799    2801                                   Mortal Kombat 4      N64   \n",
       "2805    2807                         Oddworld: Munch's Oddysee       XB   \n",
       "2813    2815                             Full Spectrum Warrior       XB   \n",
       "2823    2825                  James Bond 007: Agent Under Fire       GC   \n",
       "2834    2836                                    Dead to Rights       XB   \n",
       "...      ...                                               ...      ...   \n",
       "16593  16596                Woody Woodpecker in Crazy Castle 5      GBA   \n",
       "16594  16597                     Men in Black II: Alien Escape       GC   \n",
       "16595  16598  SCORE International Baja 1000: The Official Game      PS2   \n",
       "16596  16599                                        Know How 2       DS   \n",
       "16597  16600                                  Spirits & Spells      GBA   \n",
       "\n",
       "         Year     Genre        Publisher  NA_Sales  EU_Sales  JP_Sales  \\\n",
       "2799   1998.0  Fighting   GT Interactive      0.55      0.17       0.0   \n",
       "2805   2001.0  Platform            Atari      0.54      0.16       0.0   \n",
       "2813   2004.0  Strategy              THQ      0.54      0.16       0.0   \n",
       "2823   2002.0   Shooter  Electronic Arts      0.56      0.15       0.0   \n",
       "2834   2002.0   Shooter  Electronic Arts      0.53      0.17       0.0   \n",
       "...       ...       ...              ...       ...       ...       ...   \n",
       "16593  2002.0  Platform            Kemco      0.01      0.00       0.0   \n",
       "16594  2003.0   Shooter       Infogrames      0.01      0.00       0.0   \n",
       "16595  2008.0    Racing       Activision      0.00      0.00       0.0   \n",
       "16596  2010.0    Puzzle         7G//AMES      0.00      0.01       0.0   \n",
       "16597  2003.0  Platform          Wanadoo      0.01      0.00       0.0   \n",
       "\n",
       "       Other_Sales  Global_Sales  \n",
       "2799          0.01          0.73  \n",
       "2805          0.03          0.73  \n",
       "2813          0.03          0.73  \n",
       "2823          0.02          0.72  \n",
       "2834          0.03          0.72  \n",
       "...            ...           ...  \n",
       "16593         0.00          0.01  \n",
       "16594         0.00          0.01  \n",
       "16595         0.00          0.01  \n",
       "16596         0.00          0.01  \n",
       "16597         0.00          0.01  \n",
       "\n",
       "[10393 rows x 11 columns]"
      ]
     },
     "execution_count": 78,
     "metadata": {},
     "output_type": "execute_result"
    }
   ],
   "source": [
    "df"
   ]
  },
  {
   "cell_type": "code",
   "execution_count": 79,
   "id": "5cb9c100",
   "metadata": {},
   "outputs": [
    {
     "data": {
      "image/png": "[encoded data removed]",
      "text/plain": [
       "<Figure size 432x288 with 1 Axes>"
      ]
     },
     "metadata": {
      "needs_background": "light"
     },
     "output_type": "display_data"
    }
   ],
   "source": [
    "sns.barplot(x=df['Year'],y=df['Global_Sales'])\n",
    "plt.xticks(rotation=90)\n",
    "plt.show()"
   ]
  },
  {
   "cell_type": "code",
   "execution_count": 80,
   "id": "000e19af",
   "metadata": {},
   "outputs": [
    {
     "data": {
      "text/plain": [
       "<AxesSubplot:xlabel='Year', ylabel='Global_Sales'>"
      ]
     },
     "execution_count": 80,
     "metadata": {},
     "output_type": "execute_result"
    },
    {
     "data": {
      "image/png": "[encoded data removed]",
      "text/plain": [
       "<Figure size 432x288 with 1 Axes>"
      ]
     },
     "metadata": {
      "needs_background": "light"
     },
     "output_type": "display_data"
    }
   ],
   "source": [
    "sns.lineplot(x=df['Year'],y=df['Global_Sales'])"
   ]
  },
  {
   "cell_type": "markdown",
   "id": "0dfb35e0",
   "metadata": {},
   "source": [
    "# Top 10 Publisher with highest Global Sales"
   ]
  },
  {
   "cell_type": "code",
   "execution_count": 81,
   "id": "53462df0",
   "metadata": {},
   "outputs": [
    {
     "data": {
      "text/html": [
       "<div>\n",
       "<style scoped>\n",
       "    .dataframe tbody tr th:only-of-type {\n",
       "        vertical-align: middle;\n",
       "    }\n",
       "\n",
       "    .dataframe tbody tr th {\n",
       "        vertical-align: top;\n",
       "    }\n",
       "\n",
       "    .dataframe thead th {\n",
       "        text-align: right;\n",
       "    }\n",
       "</style>\n",
       "<table border=\"1\" class=\"dataframe\">\n",
       "  <thead>\n",
       "    <tr style=\"text-align: right;\">\n",
       "      <th></th>\n",
       "      <th>Rank</th>\n",
       "      <th>Name</th>\n",
       "      <th>Platform</th>\n",
       "      <th>Year</th>\n",
       "      <th>Genre</th>\n",
       "      <th>Publisher</th>\n",
       "      <th>NA_Sales</th>\n",
       "      <th>EU_Sales</th>\n",
       "      <th>JP_Sales</th>\n",
       "      <th>Other_Sales</th>\n",
       "      <th>Global_Sales</th>\n",
       "    </tr>\n",
       "  </thead>\n",
       "  <tbody>\n",
       "    <tr>\n",
       "      <th>2799</th>\n",
       "      <td>2801</td>\n",
       "      <td>Mortal Kombat 4</td>\n",
       "      <td>N64</td>\n",
       "      <td>1998.0</td>\n",
       "      <td>Fighting</td>\n",
       "      <td>GT Interactive</td>\n",
       "      <td>0.55</td>\n",
       "      <td>0.17</td>\n",
       "      <td>0.0</td>\n",
       "      <td>0.01</td>\n",
       "      <td>0.73</td>\n",
       "    </tr>\n",
       "    <tr>\n",
       "      <th>2805</th>\n",
       "      <td>2807</td>\n",
       "      <td>Oddworld: Munch's Oddysee</td>\n",
       "      <td>XB</td>\n",
       "      <td>2001.0</td>\n",
       "      <td>Platform</td>\n",
       "      <td>Atari</td>\n",
       "      <td>0.54</td>\n",
       "      <td>0.16</td>\n",
       "      <td>0.0</td>\n",
       "      <td>0.03</td>\n",
       "      <td>0.73</td>\n",
       "    </tr>\n",
       "    <tr>\n",
       "      <th>2813</th>\n",
       "      <td>2815</td>\n",
       "      <td>Full Spectrum Warrior</td>\n",
       "      <td>XB</td>\n",
       "      <td>2004.0</td>\n",
       "      <td>Strategy</td>\n",
       "      <td>THQ</td>\n",
       "      <td>0.54</td>\n",
       "      <td>0.16</td>\n",
       "      <td>0.0</td>\n",
       "      <td>0.03</td>\n",
       "      <td>0.73</td>\n",
       "    </tr>\n",
       "    <tr>\n",
       "      <th>2823</th>\n",
       "      <td>2825</td>\n",
       "      <td>James Bond 007: Agent Under Fire</td>\n",
       "      <td>GC</td>\n",
       "      <td>2002.0</td>\n",
       "      <td>Shooter</td>\n",
       "      <td>Electronic Arts</td>\n",
       "      <td>0.56</td>\n",
       "      <td>0.15</td>\n",
       "      <td>0.0</td>\n",
       "      <td>0.02</td>\n",
       "      <td>0.72</td>\n",
       "    </tr>\n",
       "    <tr>\n",
       "      <th>2834</th>\n",
       "      <td>2836</td>\n",
       "      <td>Dead to Rights</td>\n",
       "      <td>XB</td>\n",
       "      <td>2002.0</td>\n",
       "      <td>Shooter</td>\n",
       "      <td>Electronic Arts</td>\n",
       "      <td>0.53</td>\n",
       "      <td>0.17</td>\n",
       "      <td>0.0</td>\n",
       "      <td>0.03</td>\n",
       "      <td>0.72</td>\n",
       "    </tr>\n",
       "    <tr>\n",
       "      <th>...</th>\n",
       "      <td>...</td>\n",
       "      <td>...</td>\n",
       "      <td>...</td>\n",
       "      <td>...</td>\n",
       "      <td>...</td>\n",
       "      <td>...</td>\n",
       "      <td>...</td>\n",
       "      <td>...</td>\n",
       "      <td>...</td>\n",
       "      <td>...</td>\n",
       "      <td>...</td>\n",
       "    </tr>\n",
       "    <tr>\n",
       "      <th>16593</th>\n",
       "      <td>16596</td>\n",
       "      <td>Woody Woodpecker in Crazy Castle 5</td>\n",
       "      <td>GBA</td>\n",
       "      <td>2002.0</td>\n",
       "      <td>Platform</td>\n",
       "      <td>Kemco</td>\n",
       "      <td>0.01</td>\n",
       "      <td>0.00</td>\n",
       "      <td>0.0</td>\n",
       "      <td>0.00</td>\n",
       "      <td>0.01</td>\n",
       "    </tr>\n",
       "    <tr>\n",
       "      <th>16594</th>\n",
       "      <td>16597</td>\n",
       "      <td>Men in Black II: Alien Escape</td>\n",
       "      <td>GC</td>\n",
       "      <td>2003.0</td>\n",
       "      <td>Shooter</td>\n",
       "      <td>Infogrames</td>\n",
       "      <td>0.01</td>\n",
       "      <td>0.00</td>\n",
       "      <td>0.0</td>\n",
       "      <td>0.00</td>\n",
       "      <td>0.01</td>\n",
       "    </tr>\n",
       "    <tr>\n",
       "      <th>16595</th>\n",
       "      <td>16598</td>\n",
       "      <td>SCORE International Baja 1000: The Official Game</td>\n",
       "      <td>PS2</td>\n",
       "      <td>2008.0</td>\n",
       "      <td>Racing</td>\n",
       "      <td>Activision</td>\n",
       "      <td>0.00</td>\n",
       "      <td>0.00</td>\n",
       "      <td>0.0</td>\n",
       "      <td>0.00</td>\n",
       "      <td>0.01</td>\n",
       "    </tr>\n",
       "    <tr>\n",
       "      <th>16596</th>\n",
       "      <td>16599</td>\n",
       "      <td>Know How 2</td>\n",
       "      <td>DS</td>\n",
       "      <td>2010.0</td>\n",
       "      <td>Puzzle</td>\n",
       "      <td>7G//AMES</td>\n",
       "      <td>0.00</td>\n",
       "      <td>0.01</td>\n",
       "      <td>0.0</td>\n",
       "      <td>0.00</td>\n",
       "      <td>0.01</td>\n",
       "    </tr>\n",
       "    <tr>\n",
       "      <th>16597</th>\n",
       "      <td>16600</td>\n",
       "      <td>Spirits &amp; Spells</td>\n",
       "      <td>GBA</td>\n",
       "      <td>2003.0</td>\n",
       "      <td>Platform</td>\n",
       "      <td>Wanadoo</td>\n",
       "      <td>0.01</td>\n",
       "      <td>0.00</td>\n",
       "      <td>0.0</td>\n",
       "      <td>0.00</td>\n",
       "      <td>0.01</td>\n",
       "    </tr>\n",
       "  </tbody>\n",
       "</table>\n",
       "<p>10393 rows × 11 columns</p>\n",
       "</div>"
      ],
      "text/plain": [
       "        Rank                                              Name Platform  \\\n",
       "2799    2801                                   Mortal Kombat 4      N64   \n",
       "2805    2807                         Oddworld: Munch's Oddysee       XB   \n",
       "2813    2815                             Full Spectrum Warrior       XB   \n",
       "2823    2825                  James Bond 007: Agent Under Fire       GC   \n",
       "2834    2836                                    Dead to Rights       XB   \n",
       "...      ...                                               ...      ...   \n",
       "16593  16596                Woody Woodpecker in Crazy Castle 5      GBA   \n",
       "16594  16597                     Men in Black II: Alien Escape       GC   \n",
       "16595  16598  SCORE International Baja 1000: The Official Game      PS2   \n",
       "16596  16599                                        Know How 2       DS   \n",
       "16597  16600                                  Spirits & Spells      GBA   \n",
       "\n",
       "         Year     Genre        Publisher  NA_Sales  EU_Sales  JP_Sales  \\\n",
       "2799   1998.0  Fighting   GT Interactive      0.55      0.17       0.0   \n",
       "2805   2001.0  Platform            Atari      0.54      0.16       0.0   \n",
       "2813   2004.0  Strategy              THQ      0.54      0.16       0.0   \n",
       "2823   2002.0   Shooter  Electronic Arts      0.56      0.15       0.0   \n",
       "2834   2002.0   Shooter  Electronic Arts      0.53      0.17       0.0   \n",
       "...       ...       ...              ...       ...       ...       ...   \n",
       "16593  2002.0  Platform            Kemco      0.01      0.00       0.0   \n",
       "16594  2003.0   Shooter       Infogrames      0.01      0.00       0.0   \n",
       "16595  2008.0    Racing       Activision      0.00      0.00       0.0   \n",
       "16596  2010.0    Puzzle         7G//AMES      0.00      0.01       0.0   \n",
       "16597  2003.0  Platform          Wanadoo      0.01      0.00       0.0   \n",
       "\n",
       "       Other_Sales  Global_Sales  \n",
       "2799          0.01          0.73  \n",
       "2805          0.03          0.73  \n",
       "2813          0.03          0.73  \n",
       "2823          0.02          0.72  \n",
       "2834          0.03          0.72  \n",
       "...            ...           ...  \n",
       "16593         0.00          0.01  \n",
       "16594         0.00          0.01  \n",
       "16595         0.00          0.01  \n",
       "16596         0.00          0.01  \n",
       "16597         0.00          0.01  \n",
       "\n",
       "[10393 rows x 11 columns]"
      ]
     },
     "execution_count": 81,
     "metadata": {},
     "output_type": "execute_result"
    }
   ],
   "source": [
    "df"
   ]
  },
  {
   "cell_type": "code",
   "execution_count": 82,
   "id": "e33b1ffb",
   "metadata": {},
   "outputs": [],
   "source": [
    "new_df=df[['Publisher','Global_Sales','Year']]"
   ]
  },
  {
   "cell_type": "code",
   "execution_count": 83,
   "id": "01a47f7c",
   "metadata": {},
   "outputs": [
    {
     "data": {
      "text/html": [
       "<div>\n",
       "<style scoped>\n",
       "    .dataframe tbody tr th:only-of-type {\n",
       "        vertical-align: middle;\n",
       "    }\n",
       "\n",
       "    .dataframe tbody tr th {\n",
       "        vertical-align: top;\n",
       "    }\n",
       "\n",
       "    .dataframe thead th {\n",
       "        text-align: right;\n",
       "    }\n",
       "</style>\n",
       "<table border=\"1\" class=\"dataframe\">\n",
       "  <thead>\n",
       "    <tr style=\"text-align: right;\">\n",
       "      <th></th>\n",
       "      <th>Publisher</th>\n",
       "      <th>Global_Sales</th>\n",
       "      <th>Year</th>\n",
       "    </tr>\n",
       "  </thead>\n",
       "  <tbody>\n",
       "    <tr>\n",
       "      <th>2799</th>\n",
       "      <td>GT Interactive</td>\n",
       "      <td>0.73</td>\n",
       "      <td>1998.0</td>\n",
       "    </tr>\n",
       "    <tr>\n",
       "      <th>2805</th>\n",
       "      <td>Atari</td>\n",
       "      <td>0.73</td>\n",
       "      <td>2001.0</td>\n",
       "    </tr>\n",
       "    <tr>\n",
       "      <th>2813</th>\n",
       "      <td>THQ</td>\n",
       "      <td>0.73</td>\n",
       "      <td>2004.0</td>\n",
       "    </tr>\n",
       "    <tr>\n",
       "      <th>2823</th>\n",
       "      <td>Electronic Arts</td>\n",
       "      <td>0.72</td>\n",
       "      <td>2002.0</td>\n",
       "    </tr>\n",
       "    <tr>\n",
       "      <th>2834</th>\n",
       "      <td>Electronic Arts</td>\n",
       "      <td>0.72</td>\n",
       "      <td>2002.0</td>\n",
       "    </tr>\n",
       "    <tr>\n",
       "      <th>...</th>\n",
       "      <td>...</td>\n",
       "      <td>...</td>\n",
       "      <td>...</td>\n",
       "    </tr>\n",
       "    <tr>\n",
       "      <th>16593</th>\n",
       "      <td>Kemco</td>\n",
       "      <td>0.01</td>\n",
       "      <td>2002.0</td>\n",
       "    </tr>\n",
       "    <tr>\n",
       "      <th>16594</th>\n",
       "      <td>Infogrames</td>\n",
       "      <td>0.01</td>\n",
       "      <td>2003.0</td>\n",
       "    </tr>\n",
       "    <tr>\n",
       "      <th>16595</th>\n",
       "      <td>Activision</td>\n",
       "      <td>0.01</td>\n",
       "      <td>2008.0</td>\n",
       "    </tr>\n",
       "    <tr>\n",
       "      <th>16596</th>\n",
       "      <td>7G//AMES</td>\n",
       "      <td>0.01</td>\n",
       "      <td>2010.0</td>\n",
       "    </tr>\n",
       "    <tr>\n",
       "      <th>16597</th>\n",
       "      <td>Wanadoo</td>\n",
       "      <td>0.01</td>\n",
       "      <td>2003.0</td>\n",
       "    </tr>\n",
       "  </tbody>\n",
       "</table>\n",
       "<p>10393 rows × 3 columns</p>\n",
       "</div>"
      ],
      "text/plain": [
       "             Publisher  Global_Sales    Year\n",
       "2799    GT Interactive          0.73  1998.0\n",
       "2805             Atari          0.73  2001.0\n",
       "2813               THQ          0.73  2004.0\n",
       "2823   Electronic Arts          0.72  2002.0\n",
       "2834   Electronic Arts          0.72  2002.0\n",
       "...                ...           ...     ...\n",
       "16593            Kemco          0.01  2002.0\n",
       "16594       Infogrames          0.01  2003.0\n",
       "16595       Activision          0.01  2008.0\n",
       "16596         7G//AMES          0.01  2010.0\n",
       "16597          Wanadoo          0.01  2003.0\n",
       "\n",
       "[10393 rows x 3 columns]"
      ]
     },
     "execution_count": 83,
     "metadata": {},
     "output_type": "execute_result"
    }
   ],
   "source": [
    "new_df"
   ]
  },
  {
   "cell_type": "code",
   "execution_count": 84,
   "id": "325fcafb",
   "metadata": {},
   "outputs": [],
   "source": [
    "top_10_df=new_df.sort_values(by=\"Global_Sales\",ascending=False)\n"
   ]
  },
  {
   "cell_type": "code",
   "execution_count": 85,
   "id": "42959de5",
   "metadata": {},
   "outputs": [],
   "source": [
    "top_10_df=top_10_df[:10]"
   ]
  },
  {
   "cell_type": "code",
   "execution_count": 86,
   "id": "9ff2696c",
   "metadata": {},
   "outputs": [
    {
     "data": {
      "text/html": [
       "<div>\n",
       "<style scoped>\n",
       "    .dataframe tbody tr th:only-of-type {\n",
       "        vertical-align: middle;\n",
       "    }\n",
       "\n",
       "    .dataframe tbody tr th {\n",
       "        vertical-align: top;\n",
       "    }\n",
       "\n",
       "    .dataframe thead th {\n",
       "        text-align: right;\n",
       "    }\n",
       "</style>\n",
       "<table border=\"1\" class=\"dataframe\">\n",
       "  <thead>\n",
       "    <tr style=\"text-align: right;\">\n",
       "      <th></th>\n",
       "      <th>Publisher</th>\n",
       "      <th>Global_Sales</th>\n",
       "      <th>Year</th>\n",
       "    </tr>\n",
       "  </thead>\n",
       "  <tbody>\n",
       "    <tr>\n",
       "      <th>2799</th>\n",
       "      <td>GT Interactive</td>\n",
       "      <td>0.73</td>\n",
       "      <td>1998.0</td>\n",
       "    </tr>\n",
       "    <tr>\n",
       "      <th>2813</th>\n",
       "      <td>THQ</td>\n",
       "      <td>0.73</td>\n",
       "      <td>2004.0</td>\n",
       "    </tr>\n",
       "    <tr>\n",
       "      <th>2805</th>\n",
       "      <td>Atari</td>\n",
       "      <td>0.73</td>\n",
       "      <td>2001.0</td>\n",
       "    </tr>\n",
       "    <tr>\n",
       "      <th>2823</th>\n",
       "      <td>Electronic Arts</td>\n",
       "      <td>0.72</td>\n",
       "      <td>2002.0</td>\n",
       "    </tr>\n",
       "    <tr>\n",
       "      <th>2834</th>\n",
       "      <td>Electronic Arts</td>\n",
       "      <td>0.72</td>\n",
       "      <td>2002.0</td>\n",
       "    </tr>\n",
       "    <tr>\n",
       "      <th>2870</th>\n",
       "      <td>Atari</td>\n",
       "      <td>0.71</td>\n",
       "      <td>2002.0</td>\n",
       "    </tr>\n",
       "    <tr>\n",
       "      <th>2876</th>\n",
       "      <td>Konami Digital Entertainment</td>\n",
       "      <td>0.71</td>\n",
       "      <td>2002.0</td>\n",
       "    </tr>\n",
       "    <tr>\n",
       "      <th>2879</th>\n",
       "      <td>Universal Interactive</td>\n",
       "      <td>0.71</td>\n",
       "      <td>2002.0</td>\n",
       "    </tr>\n",
       "    <tr>\n",
       "      <th>2884</th>\n",
       "      <td>Acclaim Entertainment</td>\n",
       "      <td>0.71</td>\n",
       "      <td>1999.0</td>\n",
       "    </tr>\n",
       "    <tr>\n",
       "      <th>2896</th>\n",
       "      <td>Activision</td>\n",
       "      <td>0.71</td>\n",
       "      <td>2005.0</td>\n",
       "    </tr>\n",
       "  </tbody>\n",
       "</table>\n",
       "</div>"
      ],
      "text/plain": [
       "                         Publisher  Global_Sales    Year\n",
       "2799                GT Interactive          0.73  1998.0\n",
       "2813                           THQ          0.73  2004.0\n",
       "2805                         Atari          0.73  2001.0\n",
       "2823               Electronic Arts          0.72  2002.0\n",
       "2834               Electronic Arts          0.72  2002.0\n",
       "2870                         Atari          0.71  2002.0\n",
       "2876  Konami Digital Entertainment          0.71  2002.0\n",
       "2879         Universal Interactive          0.71  2002.0\n",
       "2884         Acclaim Entertainment          0.71  1999.0\n",
       "2896                    Activision          0.71  2005.0"
      ]
     },
     "execution_count": 86,
     "metadata": {},
     "output_type": "execute_result"
    }
   ],
   "source": [
    "top_10_df"
   ]
  },
  {
   "cell_type": "code",
   "execution_count": 87,
   "id": "28996249",
   "metadata": {},
   "outputs": [
    {
     "data": {
      "image/png": "[encoded data removed]",
      "text/plain": [
       "<Figure size 432x288 with 1 Axes>"
      ]
     },
     "metadata": {
      "needs_background": "light"
     },
     "output_type": "display_data"
    }
   ],
   "source": [
    "sns.barplot(x=top_10_df['Publisher'],y=top_10_df['Global_Sales'])\n",
    "plt.xticks(rotation=90)\n",
    "plt.show()"
   ]
  },
  {
   "cell_type": "code",
   "execution_count": 88,
   "id": "4b49a11c",
   "metadata": {},
   "outputs": [
    {
     "data": {
      "text/html": [
       "<div>\n",
       "<style scoped>\n",
       "    .dataframe tbody tr th:only-of-type {\n",
       "        vertical-align: middle;\n",
       "    }\n",
       "\n",
       "    .dataframe tbody tr th {\n",
       "        vertical-align: top;\n",
       "    }\n",
       "\n",
       "    .dataframe thead th {\n",
       "        text-align: right;\n",
       "    }\n",
       "</style>\n",
       "<table border=\"1\" class=\"dataframe\">\n",
       "  <thead>\n",
       "    <tr style=\"text-align: right;\">\n",
       "      <th></th>\n",
       "      <th>Rank</th>\n",
       "      <th>Name</th>\n",
       "      <th>Platform</th>\n",
       "      <th>Year</th>\n",
       "      <th>Genre</th>\n",
       "      <th>Publisher</th>\n",
       "      <th>NA_Sales</th>\n",
       "      <th>EU_Sales</th>\n",
       "      <th>JP_Sales</th>\n",
       "      <th>Other_Sales</th>\n",
       "      <th>Global_Sales</th>\n",
       "    </tr>\n",
       "  </thead>\n",
       "  <tbody>\n",
       "    <tr>\n",
       "      <th>2799</th>\n",
       "      <td>2801</td>\n",
       "      <td>Mortal Kombat 4</td>\n",
       "      <td>N64</td>\n",
       "      <td>1998.0</td>\n",
       "      <td>Fighting</td>\n",
       "      <td>GT Interactive</td>\n",
       "      <td>0.55</td>\n",
       "      <td>0.17</td>\n",
       "      <td>0.0</td>\n",
       "      <td>0.01</td>\n",
       "      <td>0.73</td>\n",
       "    </tr>\n",
       "    <tr>\n",
       "      <th>2805</th>\n",
       "      <td>2807</td>\n",
       "      <td>Oddworld: Munch's Oddysee</td>\n",
       "      <td>XB</td>\n",
       "      <td>2001.0</td>\n",
       "      <td>Platform</td>\n",
       "      <td>Atari</td>\n",
       "      <td>0.54</td>\n",
       "      <td>0.16</td>\n",
       "      <td>0.0</td>\n",
       "      <td>0.03</td>\n",
       "      <td>0.73</td>\n",
       "    </tr>\n",
       "    <tr>\n",
       "      <th>2813</th>\n",
       "      <td>2815</td>\n",
       "      <td>Full Spectrum Warrior</td>\n",
       "      <td>XB</td>\n",
       "      <td>2004.0</td>\n",
       "      <td>Strategy</td>\n",
       "      <td>THQ</td>\n",
       "      <td>0.54</td>\n",
       "      <td>0.16</td>\n",
       "      <td>0.0</td>\n",
       "      <td>0.03</td>\n",
       "      <td>0.73</td>\n",
       "    </tr>\n",
       "    <tr>\n",
       "      <th>2823</th>\n",
       "      <td>2825</td>\n",
       "      <td>James Bond 007: Agent Under Fire</td>\n",
       "      <td>GC</td>\n",
       "      <td>2002.0</td>\n",
       "      <td>Shooter</td>\n",
       "      <td>Electronic Arts</td>\n",
       "      <td>0.56</td>\n",
       "      <td>0.15</td>\n",
       "      <td>0.0</td>\n",
       "      <td>0.02</td>\n",
       "      <td>0.72</td>\n",
       "    </tr>\n",
       "    <tr>\n",
       "      <th>2834</th>\n",
       "      <td>2836</td>\n",
       "      <td>Dead to Rights</td>\n",
       "      <td>XB</td>\n",
       "      <td>2002.0</td>\n",
       "      <td>Shooter</td>\n",
       "      <td>Electronic Arts</td>\n",
       "      <td>0.53</td>\n",
       "      <td>0.17</td>\n",
       "      <td>0.0</td>\n",
       "      <td>0.03</td>\n",
       "      <td>0.72</td>\n",
       "    </tr>\n",
       "    <tr>\n",
       "      <th>...</th>\n",
       "      <td>...</td>\n",
       "      <td>...</td>\n",
       "      <td>...</td>\n",
       "      <td>...</td>\n",
       "      <td>...</td>\n",
       "      <td>...</td>\n",
       "      <td>...</td>\n",
       "      <td>...</td>\n",
       "      <td>...</td>\n",
       "      <td>...</td>\n",
       "      <td>...</td>\n",
       "    </tr>\n",
       "    <tr>\n",
       "      <th>16593</th>\n",
       "      <td>16596</td>\n",
       "      <td>Woody Woodpecker in Crazy Castle 5</td>\n",
       "      <td>GBA</td>\n",
       "      <td>2002.0</td>\n",
       "      <td>Platform</td>\n",
       "      <td>Kemco</td>\n",
       "      <td>0.01</td>\n",
       "      <td>0.00</td>\n",
       "      <td>0.0</td>\n",
       "      <td>0.00</td>\n",
       "      <td>0.01</td>\n",
       "    </tr>\n",
       "    <tr>\n",
       "      <th>16594</th>\n",
       "      <td>16597</td>\n",
       "      <td>Men in Black II: Alien Escape</td>\n",
       "      <td>GC</td>\n",
       "      <td>2003.0</td>\n",
       "      <td>Shooter</td>\n",
       "      <td>Infogrames</td>\n",
       "      <td>0.01</td>\n",
       "      <td>0.00</td>\n",
       "      <td>0.0</td>\n",
       "      <td>0.00</td>\n",
       "      <td>0.01</td>\n",
       "    </tr>\n",
       "    <tr>\n",
       "      <th>16595</th>\n",
       "      <td>16598</td>\n",
       "      <td>SCORE International Baja 1000: The Official Game</td>\n",
       "      <td>PS2</td>\n",
       "      <td>2008.0</td>\n",
       "      <td>Racing</td>\n",
       "      <td>Activision</td>\n",
       "      <td>0.00</td>\n",
       "      <td>0.00</td>\n",
       "      <td>0.0</td>\n",
       "      <td>0.00</td>\n",
       "      <td>0.01</td>\n",
       "    </tr>\n",
       "    <tr>\n",
       "      <th>16596</th>\n",
       "      <td>16599</td>\n",
       "      <td>Know How 2</td>\n",
       "      <td>DS</td>\n",
       "      <td>2010.0</td>\n",
       "      <td>Puzzle</td>\n",
       "      <td>7G//AMES</td>\n",
       "      <td>0.00</td>\n",
       "      <td>0.01</td>\n",
       "      <td>0.0</td>\n",
       "      <td>0.00</td>\n",
       "      <td>0.01</td>\n",
       "    </tr>\n",
       "    <tr>\n",
       "      <th>16597</th>\n",
       "      <td>16600</td>\n",
       "      <td>Spirits &amp; Spells</td>\n",
       "      <td>GBA</td>\n",
       "      <td>2003.0</td>\n",
       "      <td>Platform</td>\n",
       "      <td>Wanadoo</td>\n",
       "      <td>0.01</td>\n",
       "      <td>0.00</td>\n",
       "      <td>0.0</td>\n",
       "      <td>0.00</td>\n",
       "      <td>0.01</td>\n",
       "    </tr>\n",
       "  </tbody>\n",
       "</table>\n",
       "<p>10393 rows × 11 columns</p>\n",
       "</div>"
      ],
      "text/plain": [
       "        Rank                                              Name Platform  \\\n",
       "2799    2801                                   Mortal Kombat 4      N64   \n",
       "2805    2807                         Oddworld: Munch's Oddysee       XB   \n",
       "2813    2815                             Full Spectrum Warrior       XB   \n",
       "2823    2825                  James Bond 007: Agent Under Fire       GC   \n",
       "2834    2836                                    Dead to Rights       XB   \n",
       "...      ...                                               ...      ...   \n",
       "16593  16596                Woody Woodpecker in Crazy Castle 5      GBA   \n",
       "16594  16597                     Men in Black II: Alien Escape       GC   \n",
       "16595  16598  SCORE International Baja 1000: The Official Game      PS2   \n",
       "16596  16599                                        Know How 2       DS   \n",
       "16597  16600                                  Spirits & Spells      GBA   \n",
       "\n",
       "         Year     Genre        Publisher  NA_Sales  EU_Sales  JP_Sales  \\\n",
       "2799   1998.0  Fighting   GT Interactive      0.55      0.17       0.0   \n",
       "2805   2001.0  Platform            Atari      0.54      0.16       0.0   \n",
       "2813   2004.0  Strategy              THQ      0.54      0.16       0.0   \n",
       "2823   2002.0   Shooter  Electronic Arts      0.56      0.15       0.0   \n",
       "2834   2002.0   Shooter  Electronic Arts      0.53      0.17       0.0   \n",
       "...       ...       ...              ...       ...       ...       ...   \n",
       "16593  2002.0  Platform            Kemco      0.01      0.00       0.0   \n",
       "16594  2003.0   Shooter       Infogrames      0.01      0.00       0.0   \n",
       "16595  2008.0    Racing       Activision      0.00      0.00       0.0   \n",
       "16596  2010.0    Puzzle         7G//AMES      0.00      0.01       0.0   \n",
       "16597  2003.0  Platform          Wanadoo      0.01      0.00       0.0   \n",
       "\n",
       "       Other_Sales  Global_Sales  \n",
       "2799          0.01          0.73  \n",
       "2805          0.03          0.73  \n",
       "2813          0.03          0.73  \n",
       "2823          0.02          0.72  \n",
       "2834          0.03          0.72  \n",
       "...            ...           ...  \n",
       "16593         0.00          0.01  \n",
       "16594         0.00          0.01  \n",
       "16595         0.00          0.01  \n",
       "16596         0.00          0.01  \n",
       "16597         0.00          0.01  \n",
       "\n",
       "[10393 rows x 11 columns]"
      ]
     },
     "execution_count": 88,
     "metadata": {},
     "output_type": "execute_result"
    }
   ],
   "source": [
    "df"
   ]
  },
  {
   "cell_type": "markdown",
   "id": "d75ab3f4",
   "metadata": {},
   "source": [
    "# Global Sales for Top 10 Years "
   ]
  },
  {
   "cell_type": "code",
   "execution_count": 89,
   "id": "3c38bbff",
   "metadata": {},
   "outputs": [],
   "source": [
    "new_df=df[['Name','Platform','Year','Global_Sales','Genre']]"
   ]
  },
  {
   "cell_type": "code",
   "execution_count": 90,
   "id": "7a8840be",
   "metadata": {},
   "outputs": [
    {
     "data": {
      "text/html": [
       "<div>\n",
       "<style scoped>\n",
       "    .dataframe tbody tr th:only-of-type {\n",
       "        vertical-align: middle;\n",
       "    }\n",
       "\n",
       "    .dataframe tbody tr th {\n",
       "        vertical-align: top;\n",
       "    }\n",
       "\n",
       "    .dataframe thead th {\n",
       "        text-align: right;\n",
       "    }\n",
       "</style>\n",
       "<table border=\"1\" class=\"dataframe\">\n",
       "  <thead>\n",
       "    <tr style=\"text-align: right;\">\n",
       "      <th></th>\n",
       "      <th>Name</th>\n",
       "      <th>Platform</th>\n",
       "      <th>Year</th>\n",
       "      <th>Global_Sales</th>\n",
       "      <th>Genre</th>\n",
       "    </tr>\n",
       "  </thead>\n",
       "  <tbody>\n",
       "    <tr>\n",
       "      <th>2799</th>\n",
       "      <td>Mortal Kombat 4</td>\n",
       "      <td>N64</td>\n",
       "      <td>1998.0</td>\n",
       "      <td>0.73</td>\n",
       "      <td>Fighting</td>\n",
       "    </tr>\n",
       "    <tr>\n",
       "      <th>2805</th>\n",
       "      <td>Oddworld: Munch's Oddysee</td>\n",
       "      <td>XB</td>\n",
       "      <td>2001.0</td>\n",
       "      <td>0.73</td>\n",
       "      <td>Platform</td>\n",
       "    </tr>\n",
       "    <tr>\n",
       "      <th>2813</th>\n",
       "      <td>Full Spectrum Warrior</td>\n",
       "      <td>XB</td>\n",
       "      <td>2004.0</td>\n",
       "      <td>0.73</td>\n",
       "      <td>Strategy</td>\n",
       "    </tr>\n",
       "    <tr>\n",
       "      <th>2823</th>\n",
       "      <td>James Bond 007: Agent Under Fire</td>\n",
       "      <td>GC</td>\n",
       "      <td>2002.0</td>\n",
       "      <td>0.72</td>\n",
       "      <td>Shooter</td>\n",
       "    </tr>\n",
       "    <tr>\n",
       "      <th>2834</th>\n",
       "      <td>Dead to Rights</td>\n",
       "      <td>XB</td>\n",
       "      <td>2002.0</td>\n",
       "      <td>0.72</td>\n",
       "      <td>Shooter</td>\n",
       "    </tr>\n",
       "    <tr>\n",
       "      <th>...</th>\n",
       "      <td>...</td>\n",
       "      <td>...</td>\n",
       "      <td>...</td>\n",
       "      <td>...</td>\n",
       "      <td>...</td>\n",
       "    </tr>\n",
       "    <tr>\n",
       "      <th>16593</th>\n",
       "      <td>Woody Woodpecker in Crazy Castle 5</td>\n",
       "      <td>GBA</td>\n",
       "      <td>2002.0</td>\n",
       "      <td>0.01</td>\n",
       "      <td>Platform</td>\n",
       "    </tr>\n",
       "    <tr>\n",
       "      <th>16594</th>\n",
       "      <td>Men in Black II: Alien Escape</td>\n",
       "      <td>GC</td>\n",
       "      <td>2003.0</td>\n",
       "      <td>0.01</td>\n",
       "      <td>Shooter</td>\n",
       "    </tr>\n",
       "    <tr>\n",
       "      <th>16595</th>\n",
       "      <td>SCORE International Baja 1000: The Official Game</td>\n",
       "      <td>PS2</td>\n",
       "      <td>2008.0</td>\n",
       "      <td>0.01</td>\n",
       "      <td>Racing</td>\n",
       "    </tr>\n",
       "    <tr>\n",
       "      <th>16596</th>\n",
       "      <td>Know How 2</td>\n",
       "      <td>DS</td>\n",
       "      <td>2010.0</td>\n",
       "      <td>0.01</td>\n",
       "      <td>Puzzle</td>\n",
       "    </tr>\n",
       "    <tr>\n",
       "      <th>16597</th>\n",
       "      <td>Spirits &amp; Spells</td>\n",
       "      <td>GBA</td>\n",
       "      <td>2003.0</td>\n",
       "      <td>0.01</td>\n",
       "      <td>Platform</td>\n",
       "    </tr>\n",
       "  </tbody>\n",
       "</table>\n",
       "<p>10393 rows × 5 columns</p>\n",
       "</div>"
      ],
      "text/plain": [
       "                                                   Name Platform    Year  \\\n",
       "2799                                    Mortal Kombat 4      N64  1998.0   \n",
       "2805                          Oddworld: Munch's Oddysee       XB  2001.0   \n",
       "2813                              Full Spectrum Warrior       XB  2004.0   \n",
       "2823                   James Bond 007: Agent Under Fire       GC  2002.0   \n",
       "2834                                     Dead to Rights       XB  2002.0   \n",
       "...                                                 ...      ...     ...   \n",
       "16593                Woody Woodpecker in Crazy Castle 5      GBA  2002.0   \n",
       "16594                     Men in Black II: Alien Escape       GC  2003.0   \n",
       "16595  SCORE International Baja 1000: The Official Game      PS2  2008.0   \n",
       "16596                                        Know How 2       DS  2010.0   \n",
       "16597                                  Spirits & Spells      GBA  2003.0   \n",
       "\n",
       "       Global_Sales     Genre  \n",
       "2799           0.73  Fighting  \n",
       "2805           0.73  Platform  \n",
       "2813           0.73  Strategy  \n",
       "2823           0.72   Shooter  \n",
       "2834           0.72   Shooter  \n",
       "...             ...       ...  \n",
       "16593          0.01  Platform  \n",
       "16594          0.01   Shooter  \n",
       "16595          0.01    Racing  \n",
       "16596          0.01    Puzzle  \n",
       "16597          0.01  Platform  \n",
       "\n",
       "[10393 rows x 5 columns]"
      ]
     },
     "execution_count": 90,
     "metadata": {},
     "output_type": "execute_result"
    }
   ],
   "source": [
    "new_df"
   ]
  },
  {
   "cell_type": "code",
   "execution_count": 91,
   "id": "1d637f34",
   "metadata": {},
   "outputs": [],
   "source": [
    "new_df=new_df.sort_values(by=\"Global_Sales\",ascending=False)\n"
   ]
  },
  {
   "cell_type": "code",
   "execution_count": 92,
   "id": "292776b0",
   "metadata": {},
   "outputs": [],
   "source": [
    "new_df=new_df[:10]"
   ]
  },
  {
   "cell_type": "code",
   "execution_count": 93,
   "id": "9b3e4622",
   "metadata": {},
   "outputs": [
    {
     "data": {
      "text/html": [
       "<div>\n",
       "<style scoped>\n",
       "    .dataframe tbody tr th:only-of-type {\n",
       "        vertical-align: middle;\n",
       "    }\n",
       "\n",
       "    .dataframe tbody tr th {\n",
       "        vertical-align: top;\n",
       "    }\n",
       "\n",
       "    .dataframe thead th {\n",
       "        text-align: right;\n",
       "    }\n",
       "</style>\n",
       "<table border=\"1\" class=\"dataframe\">\n",
       "  <thead>\n",
       "    <tr style=\"text-align: right;\">\n",
       "      <th></th>\n",
       "      <th>Name</th>\n",
       "      <th>Platform</th>\n",
       "      <th>Year</th>\n",
       "      <th>Global_Sales</th>\n",
       "      <th>Genre</th>\n",
       "    </tr>\n",
       "  </thead>\n",
       "  <tbody>\n",
       "    <tr>\n",
       "      <th>2799</th>\n",
       "      <td>Mortal Kombat 4</td>\n",
       "      <td>N64</td>\n",
       "      <td>1998.0</td>\n",
       "      <td>0.73</td>\n",
       "      <td>Fighting</td>\n",
       "    </tr>\n",
       "    <tr>\n",
       "      <th>2813</th>\n",
       "      <td>Full Spectrum Warrior</td>\n",
       "      <td>XB</td>\n",
       "      <td>2004.0</td>\n",
       "      <td>0.73</td>\n",
       "      <td>Strategy</td>\n",
       "    </tr>\n",
       "    <tr>\n",
       "      <th>2805</th>\n",
       "      <td>Oddworld: Munch's Oddysee</td>\n",
       "      <td>XB</td>\n",
       "      <td>2001.0</td>\n",
       "      <td>0.73</td>\n",
       "      <td>Platform</td>\n",
       "    </tr>\n",
       "    <tr>\n",
       "      <th>2823</th>\n",
       "      <td>James Bond 007: Agent Under Fire</td>\n",
       "      <td>GC</td>\n",
       "      <td>2002.0</td>\n",
       "      <td>0.72</td>\n",
       "      <td>Shooter</td>\n",
       "    </tr>\n",
       "    <tr>\n",
       "      <th>2834</th>\n",
       "      <td>Dead to Rights</td>\n",
       "      <td>XB</td>\n",
       "      <td>2002.0</td>\n",
       "      <td>0.72</td>\n",
       "      <td>Shooter</td>\n",
       "    </tr>\n",
       "    <tr>\n",
       "      <th>2870</th>\n",
       "      <td>Godzilla: Destroy All Monsters Melee</td>\n",
       "      <td>GC</td>\n",
       "      <td>2002.0</td>\n",
       "      <td>0.71</td>\n",
       "      <td>Fighting</td>\n",
       "    </tr>\n",
       "    <tr>\n",
       "      <th>2876</th>\n",
       "      <td>Yu-Gi-Oh! The Falsebound Kingdom</td>\n",
       "      <td>GC</td>\n",
       "      <td>2002.0</td>\n",
       "      <td>0.71</td>\n",
       "      <td>Strategy</td>\n",
       "    </tr>\n",
       "    <tr>\n",
       "      <th>2879</th>\n",
       "      <td>Spyro: Enter the Dragonfly</td>\n",
       "      <td>GC</td>\n",
       "      <td>2002.0</td>\n",
       "      <td>0.71</td>\n",
       "      <td>Platform</td>\n",
       "    </tr>\n",
       "    <tr>\n",
       "      <th>2884</th>\n",
       "      <td>WWF Attitude</td>\n",
       "      <td>N64</td>\n",
       "      <td>1999.0</td>\n",
       "      <td>0.71</td>\n",
       "      <td>Fighting</td>\n",
       "    </tr>\n",
       "    <tr>\n",
       "      <th>2896</th>\n",
       "      <td>Doom 3: Resurrection of Evil</td>\n",
       "      <td>XB</td>\n",
       "      <td>2005.0</td>\n",
       "      <td>0.71</td>\n",
       "      <td>Shooter</td>\n",
       "    </tr>\n",
       "  </tbody>\n",
       "</table>\n",
       "</div>"
      ],
      "text/plain": [
       "                                      Name Platform    Year  Global_Sales  \\\n",
       "2799                       Mortal Kombat 4      N64  1998.0          0.73   \n",
       "2813                 Full Spectrum Warrior       XB  2004.0          0.73   \n",
       "2805             Oddworld: Munch's Oddysee       XB  2001.0          0.73   \n",
       "2823      James Bond 007: Agent Under Fire       GC  2002.0          0.72   \n",
       "2834                        Dead to Rights       XB  2002.0          0.72   \n",
       "2870  Godzilla: Destroy All Monsters Melee       GC  2002.0          0.71   \n",
       "2876      Yu-Gi-Oh! The Falsebound Kingdom       GC  2002.0          0.71   \n",
       "2879            Spyro: Enter the Dragonfly       GC  2002.0          0.71   \n",
       "2884                          WWF Attitude      N64  1999.0          0.71   \n",
       "2896          Doom 3: Resurrection of Evil       XB  2005.0          0.71   \n",
       "\n",
       "         Genre  \n",
       "2799  Fighting  \n",
       "2813  Strategy  \n",
       "2805  Platform  \n",
       "2823   Shooter  \n",
       "2834   Shooter  \n",
       "2870  Fighting  \n",
       "2876  Strategy  \n",
       "2879  Platform  \n",
       "2884  Fighting  \n",
       "2896   Shooter  "
      ]
     },
     "execution_count": 93,
     "metadata": {},
     "output_type": "execute_result"
    }
   ],
   "source": [
    "new_df"
   ]
  },
  {
   "cell_type": "code",
   "execution_count": 94,
   "id": "2a6b3a23",
   "metadata": {},
   "outputs": [
    {
     "data": {
      "image/png": "[encoded data removed]",
      "text/plain": [
       "<Figure size 432x288 with 1 Axes>"
      ]
     },
     "metadata": {
      "needs_background": "light"
     },
     "output_type": "display_data"
    }
   ],
   "source": [
    "sns.barplot(x=new_df['Name'],y=new_df['Global_Sales'])\n",
    "plt.xticks(rotation=90)\n",
    "plt.show()"
   ]
  },
  {
   "cell_type": "code",
   "execution_count": 95,
   "id": "b245d845",
   "metadata": {},
   "outputs": [
    {
     "data": {
      "image/png": "[encoded data removed]",
      "text/plain": [
       "<Figure size 432x288 with 1 Axes>"
      ]
     },
     "metadata": {
      "needs_background": "light"
     },
     "output_type": "display_data"
    }
   ],
   "source": [
    "sns.barplot(x=new_df['Platform'],y=new_df['Global_Sales'])\n",
    "plt.xticks(rotation=90)\n",
    "plt.show()"
   ]
  },
  {
   "cell_type": "code",
   "execution_count": 96,
   "id": "26fbe3c6",
   "metadata": {},
   "outputs": [
    {
     "data": {
      "image/png": "[encoded data removed]",
      "text/plain": [
       "<Figure size 432x288 with 1 Axes>"
      ]
     },
     "metadata": {
      "needs_background": "light"
     },
     "output_type": "display_data"
    }
   ],
   "source": [
    "sns.barplot(x=new_df['Year'],y=new_df['Global_Sales'])\n",
    "plt.xticks(rotation=90)\n",
    "plt.show()"
   ]
  },
  {
   "cell_type": "code",
   "execution_count": 97,
   "id": "a5856054",
   "metadata": {},
   "outputs": [
    {
     "data": {
      "image/png": "[encoded data removed]",
      "text/plain": [
       "<Figure size 432x288 with 1 Axes>"
      ]
     },
     "metadata": {
      "needs_background": "light"
     },
     "output_type": "display_data"
    }
   ],
   "source": [
    "sns.barplot(x=new_df['Genre'],y=new_df['Global_Sales'])\n",
    "plt.xticks(rotation=90)\n",
    "plt.show()"
   ]
  },
  {
   "cell_type": "code",
   "execution_count": 98,
   "id": "c9fc6e00",
   "metadata": {},
   "outputs": [
    {
     "data": {
      "text/html": [
       "<div>\n",
       "<style scoped>\n",
       "    .dataframe tbody tr th:only-of-type {\n",
       "        vertical-align: middle;\n",
       "    }\n",
       "\n",
       "    .dataframe tbody tr th {\n",
       "        vertical-align: top;\n",
       "    }\n",
       "\n",
       "    .dataframe thead th {\n",
       "        text-align: right;\n",
       "    }\n",
       "</style>\n",
       "<table border=\"1\" class=\"dataframe\">\n",
       "  <thead>\n",
       "    <tr style=\"text-align: right;\">\n",
       "      <th></th>\n",
       "      <th>Rank</th>\n",
       "      <th>Name</th>\n",
       "      <th>Platform</th>\n",
       "      <th>Year</th>\n",
       "      <th>Genre</th>\n",
       "      <th>Publisher</th>\n",
       "      <th>NA_Sales</th>\n",
       "      <th>EU_Sales</th>\n",
       "      <th>JP_Sales</th>\n",
       "      <th>Other_Sales</th>\n",
       "      <th>Global_Sales</th>\n",
       "    </tr>\n",
       "  </thead>\n",
       "  <tbody>\n",
       "    <tr>\n",
       "      <th>2799</th>\n",
       "      <td>2801</td>\n",
       "      <td>Mortal Kombat 4</td>\n",
       "      <td>N64</td>\n",
       "      <td>1998.0</td>\n",
       "      <td>Fighting</td>\n",
       "      <td>GT Interactive</td>\n",
       "      <td>0.55</td>\n",
       "      <td>0.17</td>\n",
       "      <td>0.0</td>\n",
       "      <td>0.01</td>\n",
       "      <td>0.73</td>\n",
       "    </tr>\n",
       "    <tr>\n",
       "      <th>2805</th>\n",
       "      <td>2807</td>\n",
       "      <td>Oddworld: Munch's Oddysee</td>\n",
       "      <td>XB</td>\n",
       "      <td>2001.0</td>\n",
       "      <td>Platform</td>\n",
       "      <td>Atari</td>\n",
       "      <td>0.54</td>\n",
       "      <td>0.16</td>\n",
       "      <td>0.0</td>\n",
       "      <td>0.03</td>\n",
       "      <td>0.73</td>\n",
       "    </tr>\n",
       "    <tr>\n",
       "      <th>2813</th>\n",
       "      <td>2815</td>\n",
       "      <td>Full Spectrum Warrior</td>\n",
       "      <td>XB</td>\n",
       "      <td>2004.0</td>\n",
       "      <td>Strategy</td>\n",
       "      <td>THQ</td>\n",
       "      <td>0.54</td>\n",
       "      <td>0.16</td>\n",
       "      <td>0.0</td>\n",
       "      <td>0.03</td>\n",
       "      <td>0.73</td>\n",
       "    </tr>\n",
       "    <tr>\n",
       "      <th>2823</th>\n",
       "      <td>2825</td>\n",
       "      <td>James Bond 007: Agent Under Fire</td>\n",
       "      <td>GC</td>\n",
       "      <td>2002.0</td>\n",
       "      <td>Shooter</td>\n",
       "      <td>Electronic Arts</td>\n",
       "      <td>0.56</td>\n",
       "      <td>0.15</td>\n",
       "      <td>0.0</td>\n",
       "      <td>0.02</td>\n",
       "      <td>0.72</td>\n",
       "    </tr>\n",
       "    <tr>\n",
       "      <th>2834</th>\n",
       "      <td>2836</td>\n",
       "      <td>Dead to Rights</td>\n",
       "      <td>XB</td>\n",
       "      <td>2002.0</td>\n",
       "      <td>Shooter</td>\n",
       "      <td>Electronic Arts</td>\n",
       "      <td>0.53</td>\n",
       "      <td>0.17</td>\n",
       "      <td>0.0</td>\n",
       "      <td>0.03</td>\n",
       "      <td>0.72</td>\n",
       "    </tr>\n",
       "    <tr>\n",
       "      <th>...</th>\n",
       "      <td>...</td>\n",
       "      <td>...</td>\n",
       "      <td>...</td>\n",
       "      <td>...</td>\n",
       "      <td>...</td>\n",
       "      <td>...</td>\n",
       "      <td>...</td>\n",
       "      <td>...</td>\n",
       "      <td>...</td>\n",
       "      <td>...</td>\n",
       "      <td>...</td>\n",
       "    </tr>\n",
       "    <tr>\n",
       "      <th>16593</th>\n",
       "      <td>16596</td>\n",
       "      <td>Woody Woodpecker in Crazy Castle 5</td>\n",
       "      <td>GBA</td>\n",
       "      <td>2002.0</td>\n",
       "      <td>Platform</td>\n",
       "      <td>Kemco</td>\n",
       "      <td>0.01</td>\n",
       "      <td>0.00</td>\n",
       "      <td>0.0</td>\n",
       "      <td>0.00</td>\n",
       "      <td>0.01</td>\n",
       "    </tr>\n",
       "    <tr>\n",
       "      <th>16594</th>\n",
       "      <td>16597</td>\n",
       "      <td>Men in Black II: Alien Escape</td>\n",
       "      <td>GC</td>\n",
       "      <td>2003.0</td>\n",
       "      <td>Shooter</td>\n",
       "      <td>Infogrames</td>\n",
       "      <td>0.01</td>\n",
       "      <td>0.00</td>\n",
       "      <td>0.0</td>\n",
       "      <td>0.00</td>\n",
       "      <td>0.01</td>\n",
       "    </tr>\n",
       "    <tr>\n",
       "      <th>16595</th>\n",
       "      <td>16598</td>\n",
       "      <td>SCORE International Baja 1000: The Official Game</td>\n",
       "      <td>PS2</td>\n",
       "      <td>2008.0</td>\n",
       "      <td>Racing</td>\n",
       "      <td>Activision</td>\n",
       "      <td>0.00</td>\n",
       "      <td>0.00</td>\n",
       "      <td>0.0</td>\n",
       "      <td>0.00</td>\n",
       "      <td>0.01</td>\n",
       "    </tr>\n",
       "    <tr>\n",
       "      <th>16596</th>\n",
       "      <td>16599</td>\n",
       "      <td>Know How 2</td>\n",
       "      <td>DS</td>\n",
       "      <td>2010.0</td>\n",
       "      <td>Puzzle</td>\n",
       "      <td>7G//AMES</td>\n",
       "      <td>0.00</td>\n",
       "      <td>0.01</td>\n",
       "      <td>0.0</td>\n",
       "      <td>0.00</td>\n",
       "      <td>0.01</td>\n",
       "    </tr>\n",
       "    <tr>\n",
       "      <th>16597</th>\n",
       "      <td>16600</td>\n",
       "      <td>Spirits &amp; Spells</td>\n",
       "      <td>GBA</td>\n",
       "      <td>2003.0</td>\n",
       "      <td>Platform</td>\n",
       "      <td>Wanadoo</td>\n",
       "      <td>0.01</td>\n",
       "      <td>0.00</td>\n",
       "      <td>0.0</td>\n",
       "      <td>0.00</td>\n",
       "      <td>0.01</td>\n",
       "    </tr>\n",
       "  </tbody>\n",
       "</table>\n",
       "<p>10393 rows × 11 columns</p>\n",
       "</div>"
      ],
      "text/plain": [
       "        Rank                                              Name Platform  \\\n",
       "2799    2801                                   Mortal Kombat 4      N64   \n",
       "2805    2807                         Oddworld: Munch's Oddysee       XB   \n",
       "2813    2815                             Full Spectrum Warrior       XB   \n",
       "2823    2825                  James Bond 007: Agent Under Fire       GC   \n",
       "2834    2836                                    Dead to Rights       XB   \n",
       "...      ...                                               ...      ...   \n",
       "16593  16596                Woody Woodpecker in Crazy Castle 5      GBA   \n",
       "16594  16597                     Men in Black II: Alien Escape       GC   \n",
       "16595  16598  SCORE International Baja 1000: The Official Game      PS2   \n",
       "16596  16599                                        Know How 2       DS   \n",
       "16597  16600                                  Spirits & Spells      GBA   \n",
       "\n",
       "         Year     Genre        Publisher  NA_Sales  EU_Sales  JP_Sales  \\\n",
       "2799   1998.0  Fighting   GT Interactive      0.55      0.17       0.0   \n",
       "2805   2001.0  Platform            Atari      0.54      0.16       0.0   \n",
       "2813   2004.0  Strategy              THQ      0.54      0.16       0.0   \n",
       "2823   2002.0   Shooter  Electronic Arts      0.56      0.15       0.0   \n",
       "2834   2002.0   Shooter  Electronic Arts      0.53      0.17       0.0   \n",
       "...       ...       ...              ...       ...       ...       ...   \n",
       "16593  2002.0  Platform            Kemco      0.01      0.00       0.0   \n",
       "16594  2003.0   Shooter       Infogrames      0.01      0.00       0.0   \n",
       "16595  2008.0    Racing       Activision      0.00      0.00       0.0   \n",
       "16596  2010.0    Puzzle         7G//AMES      0.00      0.01       0.0   \n",
       "16597  2003.0  Platform          Wanadoo      0.01      0.00       0.0   \n",
       "\n",
       "       Other_Sales  Global_Sales  \n",
       "2799          0.01          0.73  \n",
       "2805          0.03          0.73  \n",
       "2813          0.03          0.73  \n",
       "2823          0.02          0.72  \n",
       "2834          0.03          0.72  \n",
       "...            ...           ...  \n",
       "16593         0.00          0.01  \n",
       "16594         0.00          0.01  \n",
       "16595         0.00          0.01  \n",
       "16596         0.00          0.01  \n",
       "16597         0.00          0.01  \n",
       "\n",
       "[10393 rows x 11 columns]"
      ]
     },
     "execution_count": 98,
     "metadata": {},
     "output_type": "execute_result"
    }
   ],
   "source": [
    "df"
   ]
  },
  {
   "cell_type": "code",
   "execution_count": 99,
   "id": "b6a89c2e",
   "metadata": {},
   "outputs": [
    {
     "name": "stderr",
     "output_type": "stream",
     "text": [
      "C:\\Users\\himanshu\\AppData\\Local\\Temp\\ipykernel_9788\\3086860718.py:1: SettingWithCopyWarning: \n",
      "A value is trying to be set on a copy of a slice from a DataFrame.\n",
      "Try using .loc[row_indexer,col_indexer] = value instead\n",
      "\n",
      "See the caveats in the documentation: https://pandas.pydata.org/pandas-docs/stable/user_guide/indexing.html#returning-a-view-versus-a-copy\n",
      "  df['Global_Sales_Range']=pd.qcut(df['Global_Sales'],4)\n"
     ]
    }
   ],
   "source": [
    "df['Global_Sales_Range']=pd.qcut(df['Global_Sales'],4)\n"
   ]
  },
  {
   "cell_type": "code",
   "execution_count": 100,
   "id": "0afdc8a1",
   "metadata": {},
   "outputs": [
    {
     "data": {
      "text/html": [
       "<div>\n",
       "<style scoped>\n",
       "    .dataframe tbody tr th:only-of-type {\n",
       "        vertical-align: middle;\n",
       "    }\n",
       "\n",
       "    .dataframe tbody tr th {\n",
       "        vertical-align: top;\n",
       "    }\n",
       "\n",
       "    .dataframe thead th {\n",
       "        text-align: right;\n",
       "    }\n",
       "</style>\n",
       "<table border=\"1\" class=\"dataframe\">\n",
       "  <thead>\n",
       "    <tr style=\"text-align: right;\">\n",
       "      <th></th>\n",
       "      <th>Rank</th>\n",
       "      <th>Name</th>\n",
       "      <th>Platform</th>\n",
       "      <th>Year</th>\n",
       "      <th>Genre</th>\n",
       "      <th>Publisher</th>\n",
       "      <th>NA_Sales</th>\n",
       "      <th>EU_Sales</th>\n",
       "      <th>JP_Sales</th>\n",
       "      <th>Other_Sales</th>\n",
       "      <th>Global_Sales</th>\n",
       "      <th>Global_Sales_Range</th>\n",
       "    </tr>\n",
       "  </thead>\n",
       "  <tbody>\n",
       "    <tr>\n",
       "      <th>2799</th>\n",
       "      <td>2801</td>\n",
       "      <td>Mortal Kombat 4</td>\n",
       "      <td>N64</td>\n",
       "      <td>1998.0</td>\n",
       "      <td>Fighting</td>\n",
       "      <td>GT Interactive</td>\n",
       "      <td>0.55</td>\n",
       "      <td>0.17</td>\n",
       "      <td>0.0</td>\n",
       "      <td>0.01</td>\n",
       "      <td>0.73</td>\n",
       "      <td>(0.19, 0.73]</td>\n",
       "    </tr>\n",
       "    <tr>\n",
       "      <th>2805</th>\n",
       "      <td>2807</td>\n",
       "      <td>Oddworld: Munch's Oddysee</td>\n",
       "      <td>XB</td>\n",
       "      <td>2001.0</td>\n",
       "      <td>Platform</td>\n",
       "      <td>Atari</td>\n",
       "      <td>0.54</td>\n",
       "      <td>0.16</td>\n",
       "      <td>0.0</td>\n",
       "      <td>0.03</td>\n",
       "      <td>0.73</td>\n",
       "      <td>(0.19, 0.73]</td>\n",
       "    </tr>\n",
       "    <tr>\n",
       "      <th>2813</th>\n",
       "      <td>2815</td>\n",
       "      <td>Full Spectrum Warrior</td>\n",
       "      <td>XB</td>\n",
       "      <td>2004.0</td>\n",
       "      <td>Strategy</td>\n",
       "      <td>THQ</td>\n",
       "      <td>0.54</td>\n",
       "      <td>0.16</td>\n",
       "      <td>0.0</td>\n",
       "      <td>0.03</td>\n",
       "      <td>0.73</td>\n",
       "      <td>(0.19, 0.73]</td>\n",
       "    </tr>\n",
       "    <tr>\n",
       "      <th>2823</th>\n",
       "      <td>2825</td>\n",
       "      <td>James Bond 007: Agent Under Fire</td>\n",
       "      <td>GC</td>\n",
       "      <td>2002.0</td>\n",
       "      <td>Shooter</td>\n",
       "      <td>Electronic Arts</td>\n",
       "      <td>0.56</td>\n",
       "      <td>0.15</td>\n",
       "      <td>0.0</td>\n",
       "      <td>0.02</td>\n",
       "      <td>0.72</td>\n",
       "      <td>(0.19, 0.73]</td>\n",
       "    </tr>\n",
       "    <tr>\n",
       "      <th>2834</th>\n",
       "      <td>2836</td>\n",
       "      <td>Dead to Rights</td>\n",
       "      <td>XB</td>\n",
       "      <td>2002.0</td>\n",
       "      <td>Shooter</td>\n",
       "      <td>Electronic Arts</td>\n",
       "      <td>0.53</td>\n",
       "      <td>0.17</td>\n",
       "      <td>0.0</td>\n",
       "      <td>0.03</td>\n",
       "      <td>0.72</td>\n",
       "      <td>(0.19, 0.73]</td>\n",
       "    </tr>\n",
       "    <tr>\n",
       "      <th>...</th>\n",
       "      <td>...</td>\n",
       "      <td>...</td>\n",
       "      <td>...</td>\n",
       "      <td>...</td>\n",
       "      <td>...</td>\n",
       "      <td>...</td>\n",
       "      <td>...</td>\n",
       "      <td>...</td>\n",
       "      <td>...</td>\n",
       "      <td>...</td>\n",
       "      <td>...</td>\n",
       "      <td>...</td>\n",
       "    </tr>\n",
       "    <tr>\n",
       "      <th>16593</th>\n",
       "      <td>16596</td>\n",
       "      <td>Woody Woodpecker in Crazy Castle 5</td>\n",
       "      <td>GBA</td>\n",
       "      <td>2002.0</td>\n",
       "      <td>Platform</td>\n",
       "      <td>Kemco</td>\n",
       "      <td>0.01</td>\n",
       "      <td>0.00</td>\n",
       "      <td>0.0</td>\n",
       "      <td>0.00</td>\n",
       "      <td>0.01</td>\n",
       "      <td>(0.009000000000000001, 0.04]</td>\n",
       "    </tr>\n",
       "    <tr>\n",
       "      <th>16594</th>\n",
       "      <td>16597</td>\n",
       "      <td>Men in Black II: Alien Escape</td>\n",
       "      <td>GC</td>\n",
       "      <td>2003.0</td>\n",
       "      <td>Shooter</td>\n",
       "      <td>Infogrames</td>\n",
       "      <td>0.01</td>\n",
       "      <td>0.00</td>\n",
       "      <td>0.0</td>\n",
       "      <td>0.00</td>\n",
       "      <td>0.01</td>\n",
       "      <td>(0.009000000000000001, 0.04]</td>\n",
       "    </tr>\n",
       "    <tr>\n",
       "      <th>16595</th>\n",
       "      <td>16598</td>\n",
       "      <td>SCORE International Baja 1000: The Official Game</td>\n",
       "      <td>PS2</td>\n",
       "      <td>2008.0</td>\n",
       "      <td>Racing</td>\n",
       "      <td>Activision</td>\n",
       "      <td>0.00</td>\n",
       "      <td>0.00</td>\n",
       "      <td>0.0</td>\n",
       "      <td>0.00</td>\n",
       "      <td>0.01</td>\n",
       "      <td>(0.009000000000000001, 0.04]</td>\n",
       "    </tr>\n",
       "    <tr>\n",
       "      <th>16596</th>\n",
       "      <td>16599</td>\n",
       "      <td>Know How 2</td>\n",
       "      <td>DS</td>\n",
       "      <td>2010.0</td>\n",
       "      <td>Puzzle</td>\n",
       "      <td>7G//AMES</td>\n",
       "      <td>0.00</td>\n",
       "      <td>0.01</td>\n",
       "      <td>0.0</td>\n",
       "      <td>0.00</td>\n",
       "      <td>0.01</td>\n",
       "      <td>(0.009000000000000001, 0.04]</td>\n",
       "    </tr>\n",
       "    <tr>\n",
       "      <th>16597</th>\n",
       "      <td>16600</td>\n",
       "      <td>Spirits &amp; Spells</td>\n",
       "      <td>GBA</td>\n",
       "      <td>2003.0</td>\n",
       "      <td>Platform</td>\n",
       "      <td>Wanadoo</td>\n",
       "      <td>0.01</td>\n",
       "      <td>0.00</td>\n",
       "      <td>0.0</td>\n",
       "      <td>0.00</td>\n",
       "      <td>0.01</td>\n",
       "      <td>(0.009000000000000001, 0.04]</td>\n",
       "    </tr>\n",
       "  </tbody>\n",
       "</table>\n",
       "<p>10393 rows × 12 columns</p>\n",
       "</div>"
      ],
      "text/plain": [
       "        Rank                                              Name Platform  \\\n",
       "2799    2801                                   Mortal Kombat 4      N64   \n",
       "2805    2807                         Oddworld: Munch's Oddysee       XB   \n",
       "2813    2815                             Full Spectrum Warrior       XB   \n",
       "2823    2825                  James Bond 007: Agent Under Fire       GC   \n",
       "2834    2836                                    Dead to Rights       XB   \n",
       "...      ...                                               ...      ...   \n",
       "16593  16596                Woody Woodpecker in Crazy Castle 5      GBA   \n",
       "16594  16597                     Men in Black II: Alien Escape       GC   \n",
       "16595  16598  SCORE International Baja 1000: The Official Game      PS2   \n",
       "16596  16599                                        Know How 2       DS   \n",
       "16597  16600                                  Spirits & Spells      GBA   \n",
       "\n",
       "         Year     Genre        Publisher  NA_Sales  EU_Sales  JP_Sales  \\\n",
       "2799   1998.0  Fighting   GT Interactive      0.55      0.17       0.0   \n",
       "2805   2001.0  Platform            Atari      0.54      0.16       0.0   \n",
       "2813   2004.0  Strategy              THQ      0.54      0.16       0.0   \n",
       "2823   2002.0   Shooter  Electronic Arts      0.56      0.15       0.0   \n",
       "2834   2002.0   Shooter  Electronic Arts      0.53      0.17       0.0   \n",
       "...       ...       ...              ...       ...       ...       ...   \n",
       "16593  2002.0  Platform            Kemco      0.01      0.00       0.0   \n",
       "16594  2003.0   Shooter       Infogrames      0.01      0.00       0.0   \n",
       "16595  2008.0    Racing       Activision      0.00      0.00       0.0   \n",
       "16596  2010.0    Puzzle         7G//AMES      0.00      0.01       0.0   \n",
       "16597  2003.0  Platform          Wanadoo      0.01      0.00       0.0   \n",
       "\n",
       "       Other_Sales  Global_Sales            Global_Sales_Range  \n",
       "2799          0.01          0.73                  (0.19, 0.73]  \n",
       "2805          0.03          0.73                  (0.19, 0.73]  \n",
       "2813          0.03          0.73                  (0.19, 0.73]  \n",
       "2823          0.02          0.72                  (0.19, 0.73]  \n",
       "2834          0.03          0.72                  (0.19, 0.73]  \n",
       "...            ...           ...                           ...  \n",
       "16593         0.00          0.01  (0.009000000000000001, 0.04]  \n",
       "16594         0.00          0.01  (0.009000000000000001, 0.04]  \n",
       "16595         0.00          0.01  (0.009000000000000001, 0.04]  \n",
       "16596         0.00          0.01  (0.009000000000000001, 0.04]  \n",
       "16597         0.00          0.01  (0.009000000000000001, 0.04]  \n",
       "\n",
       "[10393 rows x 12 columns]"
      ]
     },
     "execution_count": 100,
     "metadata": {},
     "output_type": "execute_result"
    }
   ],
   "source": [
    "df"
   ]
  },
  {
   "cell_type": "code",
   "execution_count": 101,
   "id": "51895858",
   "metadata": {},
   "outputs": [
    {
     "data": {
      "image/png": "[encoded data removed]",
      "text/plain": [
       "<Figure size 432x288 with 1 Axes>"
      ]
     },
     "metadata": {
      "needs_background": "light"
     },
     "output_type": "display_data"
    }
   ],
   "source": [
    "sns.countplot(x=df['Global_Sales_Range'])\n",
    "plt.xticks(rotation=90)\n",
    "plt.show()"
   ]
  },
  {
   "cell_type": "code",
   "execution_count": 102,
   "id": "55a0c490",
   "metadata": {},
   "outputs": [
    {
     "data": {
      "image/png": "[encoded data removed]",
      "text/plain": [
       "<Figure size 432x288 with 1 Axes>"
      ]
     },
     "metadata": {
      "needs_background": "light"
     },
     "output_type": "display_data"
    }
   ],
   "source": [
    "sns.countplot(x=df['Global_Sales_Range'])\n",
    "plt.xticks(rotation=90)\n",
    "plt.show()"
   ]
  },
  {
   "cell_type": "code",
   "execution_count": null,
   "id": "faba2269",
   "metadata": {},
   "outputs": [],
   "source": []
  },
  {
   "cell_type": "code",
   "execution_count": null,
   "id": "38f8eeca",
   "metadata": {},
   "outputs": [],
   "source": []
  },
  {
   "cell_type": "code",
   "execution_count": null,
   "id": "9980ab24",
   "metadata": {},
   "outputs": [],
   "source": []
  },
  {
   "cell_type": "code",
   "execution_count": 98,
   "id": "d1253667",
   "metadata": {},
   "outputs": [],
   "source": [
    "le=LabelEncoder()\n"
   ]
  },
  {
   "cell_type": "code",
   "execution_count": 99,
   "id": "a65c87df",
   "metadata": {},
   "outputs": [
    {
     "name": "stderr",
     "output_type": "stream",
     "text": [
      "C:\\Users\\himanshu\\AppData\\Local\\Temp\\ipykernel_18396\\1770570860.py:1: SettingWithCopyWarning: \n",
      "A value is trying to be set on a copy of a slice from a DataFrame.\n",
      "Try using .loc[row_indexer,col_indexer] = value instead\n",
      "\n",
      "See the caveats in the documentation: https://pandas.pydata.org/pandas-docs/stable/user_guide/indexing.html#returning-a-view-versus-a-copy\n",
      "  df['Name']=le.fit_transform(df['Name'])\n"
     ]
    }
   ],
   "source": [
    "df['Name']=le.fit_transform(df['Name'])\n"
   ]
  },
  {
   "cell_type": "code",
   "execution_count": 100,
   "id": "ee590b8f",
   "metadata": {},
   "outputs": [
    {
     "name": "stderr",
     "output_type": "stream",
     "text": [
      "C:\\Users\\himanshu\\AppData\\Local\\Temp\\ipykernel_18396\\136206962.py:1: SettingWithCopyWarning: \n",
      "A value is trying to be set on a copy of a slice from a DataFrame.\n",
      "Try using .loc[row_indexer,col_indexer] = value instead\n",
      "\n",
      "See the caveats in the documentation: https://pandas.pydata.org/pandas-docs/stable/user_guide/indexing.html#returning-a-view-versus-a-copy\n",
      "  df['Platform']=le.fit_transform(df['Platform'])\n"
     ]
    }
   ],
   "source": [
    "df['Platform']=le.fit_transform(df['Platform'])"
   ]
  },
  {
   "cell_type": "code",
   "execution_count": 101,
   "id": "7f4d95a6",
   "metadata": {},
   "outputs": [
    {
     "name": "stderr",
     "output_type": "stream",
     "text": [
      "C:\\Users\\himanshu\\AppData\\Local\\Temp\\ipykernel_18396\\1730483329.py:1: SettingWithCopyWarning: \n",
      "A value is trying to be set on a copy of a slice from a DataFrame.\n",
      "Try using .loc[row_indexer,col_indexer] = value instead\n",
      "\n",
      "See the caveats in the documentation: https://pandas.pydata.org/pandas-docs/stable/user_guide/indexing.html#returning-a-view-versus-a-copy\n",
      "  df['Genre']=le.fit_transform(df['Genre'])\n"
     ]
    }
   ],
   "source": [
    "df['Genre']=le.fit_transform(df['Genre'])"
   ]
  },
  {
   "cell_type": "code",
   "execution_count": 102,
   "id": "4ca54d40",
   "metadata": {},
   "outputs": [
    {
     "name": "stderr",
     "output_type": "stream",
     "text": [
      "C:\\Users\\himanshu\\AppData\\Local\\Temp\\ipykernel_18396\\1738076978.py:1: SettingWithCopyWarning: \n",
      "A value is trying to be set on a copy of a slice from a DataFrame.\n",
      "Try using .loc[row_indexer,col_indexer] = value instead\n",
      "\n",
      "See the caveats in the documentation: https://pandas.pydata.org/pandas-docs/stable/user_guide/indexing.html#returning-a-view-versus-a-copy\n",
      "  df['Publisher']=le.fit_transform(df['Publisher'])\n"
     ]
    }
   ],
   "source": [
    "df['Publisher']=le.fit_transform(df['Publisher'])"
   ]
  },
  {
   "cell_type": "code",
   "execution_count": 103,
   "id": "5177a269",
   "metadata": {},
   "outputs": [
    {
     "data": {
      "text/html": [
       "<div>\n",
       "<style scoped>\n",
       "    .dataframe tbody tr th:only-of-type {\n",
       "        vertical-align: middle;\n",
       "    }\n",
       "\n",
       "    .dataframe tbody tr th {\n",
       "        vertical-align: top;\n",
       "    }\n",
       "\n",
       "    .dataframe thead th {\n",
       "        text-align: right;\n",
       "    }\n",
       "</style>\n",
       "<table border=\"1\" class=\"dataframe\">\n",
       "  <thead>\n",
       "    <tr style=\"text-align: right;\">\n",
       "      <th></th>\n",
       "      <th>Rank</th>\n",
       "      <th>Name</th>\n",
       "      <th>Platform</th>\n",
       "      <th>Year</th>\n",
       "      <th>Genre</th>\n",
       "      <th>Publisher</th>\n",
       "      <th>NA_Sales</th>\n",
       "      <th>EU_Sales</th>\n",
       "      <th>JP_Sales</th>\n",
       "      <th>Other_Sales</th>\n",
       "      <th>Global_Sales</th>\n",
       "    </tr>\n",
       "  </thead>\n",
       "  <tbody>\n",
       "    <tr>\n",
       "      <th>2799</th>\n",
       "      <td>2801</td>\n",
       "      <td>4192</td>\n",
       "      <td>9</td>\n",
       "      <td>1998.0</td>\n",
       "      <td>2</td>\n",
       "      <td>161</td>\n",
       "      <td>0.55</td>\n",
       "      <td>0.17</td>\n",
       "      <td>0.0</td>\n",
       "      <td>0.01</td>\n",
       "      <td>0.73</td>\n",
       "    </tr>\n",
       "    <tr>\n",
       "      <th>2805</th>\n",
       "      <td>2807</td>\n",
       "      <td>4754</td>\n",
       "      <td>28</td>\n",
       "      <td>2001.0</td>\n",
       "      <td>4</td>\n",
       "      <td>47</td>\n",
       "      <td>0.54</td>\n",
       "      <td>0.16</td>\n",
       "      <td>0.0</td>\n",
       "      <td>0.03</td>\n",
       "      <td>0.73</td>\n",
       "    </tr>\n",
       "    <tr>\n",
       "      <th>2813</th>\n",
       "      <td>2815</td>\n",
       "      <td>2363</td>\n",
       "      <td>28</td>\n",
       "      <td>2004.0</td>\n",
       "      <td>11</td>\n",
       "      <td>435</td>\n",
       "      <td>0.54</td>\n",
       "      <td>0.16</td>\n",
       "      <td>0.0</td>\n",
       "      <td>0.03</td>\n",
       "      <td>0.73</td>\n",
       "    </tr>\n",
       "    <tr>\n",
       "      <th>2823</th>\n",
       "      <td>2825</td>\n",
       "      <td>3165</td>\n",
       "      <td>7</td>\n",
       "      <td>2002.0</td>\n",
       "      <td>8</td>\n",
       "      <td>123</td>\n",
       "      <td>0.56</td>\n",
       "      <td>0.15</td>\n",
       "      <td>0.0</td>\n",
       "      <td>0.02</td>\n",
       "      <td>0.72</td>\n",
       "    </tr>\n",
       "    <tr>\n",
       "      <th>2834</th>\n",
       "      <td>2836</td>\n",
       "      <td>1460</td>\n",
       "      <td>28</td>\n",
       "      <td>2002.0</td>\n",
       "      <td>8</td>\n",
       "      <td>123</td>\n",
       "      <td>0.53</td>\n",
       "      <td>0.17</td>\n",
       "      <td>0.0</td>\n",
       "      <td>0.03</td>\n",
       "      <td>0.72</td>\n",
       "    </tr>\n",
       "    <tr>\n",
       "      <th>...</th>\n",
       "      <td>...</td>\n",
       "      <td>...</td>\n",
       "      <td>...</td>\n",
       "      <td>...</td>\n",
       "      <td>...</td>\n",
       "      <td>...</td>\n",
       "      <td>...</td>\n",
       "      <td>...</td>\n",
       "      <td>...</td>\n",
       "      <td>...</td>\n",
       "      <td>...</td>\n",
       "    </tr>\n",
       "    <tr>\n",
       "      <th>16593</th>\n",
       "      <td>16596</td>\n",
       "      <td>7631</td>\n",
       "      <td>6</td>\n",
       "      <td>2002.0</td>\n",
       "      <td>4</td>\n",
       "      <td>241</td>\n",
       "      <td>0.01</td>\n",
       "      <td>0.00</td>\n",
       "      <td>0.0</td>\n",
       "      <td>0.00</td>\n",
       "      <td>0.01</td>\n",
       "    </tr>\n",
       "    <tr>\n",
       "      <th>16594</th>\n",
       "      <td>16597</td>\n",
       "      <td>4004</td>\n",
       "      <td>7</td>\n",
       "      <td>2003.0</td>\n",
       "      <td>8</td>\n",
       "      <td>214</td>\n",
       "      <td>0.01</td>\n",
       "      <td>0.00</td>\n",
       "      <td>0.0</td>\n",
       "      <td>0.00</td>\n",
       "      <td>0.01</td>\n",
       "    </tr>\n",
       "    <tr>\n",
       "      <th>16595</th>\n",
       "      <td>16598</td>\n",
       "      <td>5646</td>\n",
       "      <td>15</td>\n",
       "      <td>2008.0</td>\n",
       "      <td>6</td>\n",
       "      <td>20</td>\n",
       "      <td>0.00</td>\n",
       "      <td>0.00</td>\n",
       "      <td>0.0</td>\n",
       "      <td>0.00</td>\n",
       "      <td>0.01</td>\n",
       "    </tr>\n",
       "    <tr>\n",
       "      <th>16596</th>\n",
       "      <td>16599</td>\n",
       "      <td>3467</td>\n",
       "      <td>4</td>\n",
       "      <td>2010.0</td>\n",
       "      <td>5</td>\n",
       "      <td>7</td>\n",
       "      <td>0.00</td>\n",
       "      <td>0.01</td>\n",
       "      <td>0.0</td>\n",
       "      <td>0.00</td>\n",
       "      <td>0.01</td>\n",
       "    </tr>\n",
       "    <tr>\n",
       "      <th>16597</th>\n",
       "      <td>16600</td>\n",
       "      <td>6191</td>\n",
       "      <td>6</td>\n",
       "      <td>2003.0</td>\n",
       "      <td>4</td>\n",
       "      <td>485</td>\n",
       "      <td>0.01</td>\n",
       "      <td>0.00</td>\n",
       "      <td>0.0</td>\n",
       "      <td>0.00</td>\n",
       "      <td>0.01</td>\n",
       "    </tr>\n",
       "  </tbody>\n",
       "</table>\n",
       "<p>10393 rows × 11 columns</p>\n",
       "</div>"
      ],
      "text/plain": [
       "        Rank  Name  Platform    Year  Genre  Publisher  NA_Sales  EU_Sales  \\\n",
       "2799    2801  4192         9  1998.0      2        161      0.55      0.17   \n",
       "2805    2807  4754        28  2001.0      4         47      0.54      0.16   \n",
       "2813    2815  2363        28  2004.0     11        435      0.54      0.16   \n",
       "2823    2825  3165         7  2002.0      8        123      0.56      0.15   \n",
       "2834    2836  1460        28  2002.0      8        123      0.53      0.17   \n",
       "...      ...   ...       ...     ...    ...        ...       ...       ...   \n",
       "16593  16596  7631         6  2002.0      4        241      0.01      0.00   \n",
       "16594  16597  4004         7  2003.0      8        214      0.01      0.00   \n",
       "16595  16598  5646        15  2008.0      6         20      0.00      0.00   \n",
       "16596  16599  3467         4  2010.0      5          7      0.00      0.01   \n",
       "16597  16600  6191         6  2003.0      4        485      0.01      0.00   \n",
       "\n",
       "       JP_Sales  Other_Sales  Global_Sales  \n",
       "2799        0.0         0.01          0.73  \n",
       "2805        0.0         0.03          0.73  \n",
       "2813        0.0         0.03          0.73  \n",
       "2823        0.0         0.02          0.72  \n",
       "2834        0.0         0.03          0.72  \n",
       "...         ...          ...           ...  \n",
       "16593       0.0         0.00          0.01  \n",
       "16594       0.0         0.00          0.01  \n",
       "16595       0.0         0.00          0.01  \n",
       "16596       0.0         0.00          0.01  \n",
       "16597       0.0         0.00          0.01  \n",
       "\n",
       "[10393 rows x 11 columns]"
      ]
     },
     "execution_count": 103,
     "metadata": {},
     "output_type": "execute_result"
    }
   ],
   "source": [
    "df"
   ]
  },
  {
   "cell_type": "code",
   "execution_count": null,
   "id": "14cc31cd",
   "metadata": {},
   "outputs": [],
   "source": []
  },
  {
   "cell_type": "code",
   "execution_count": 104,
   "id": "cc1bcd2f",
   "metadata": {},
   "outputs": [],
   "source": [
    "sc=StandardScaler()\n"
   ]
  },
  {
   "cell_type": "code",
   "execution_count": 105,
   "id": "38d9f431",
   "metadata": {},
   "outputs": [],
   "source": [
    "X=df.drop(\"Global_Sales\",axis=1)"
   ]
  },
  {
   "cell_type": "code",
   "execution_count": 106,
   "id": "ffc42880",
   "metadata": {},
   "outputs": [],
   "source": [
    "y=df['Global_Sales']"
   ]
  },
  {
   "cell_type": "code",
   "execution_count": 107,
   "id": "c7280254",
   "metadata": {},
   "outputs": [],
   "source": [
    "X=sc.fit_transform(X)\n"
   ]
  },
  {
   "cell_type": "code",
   "execution_count": 108,
   "id": "02f34f83",
   "metadata": {},
   "outputs": [],
   "source": [
    "X_train, X_test, y_train, y_test = train_test_split(X, y, test_size=0.20, random_state=42)"
   ]
  },
  {
   "cell_type": "code",
   "execution_count": 109,
   "id": "fc3c1382",
   "metadata": {},
   "outputs": [
    {
     "data": {
      "text/plain": [
       "(8314, 10)"
      ]
     },
     "execution_count": 109,
     "metadata": {},
     "output_type": "execute_result"
    }
   ],
   "source": [
    "X_train.shape"
   ]
  },
  {
   "cell_type": "code",
   "execution_count": 110,
   "id": "1a3485ae",
   "metadata": {},
   "outputs": [
    {
     "data": {
      "text/plain": [
       "(8314,)"
      ]
     },
     "execution_count": 110,
     "metadata": {},
     "output_type": "execute_result"
    }
   ],
   "source": [
    "y_train.shape"
   ]
  },
  {
   "cell_type": "code",
   "execution_count": 111,
   "id": "63127c5d",
   "metadata": {},
   "outputs": [
    {
     "data": {
      "text/plain": [
       "(2079, 10)"
      ]
     },
     "execution_count": 111,
     "metadata": {},
     "output_type": "execute_result"
    }
   ],
   "source": [
    "X_test.shape"
   ]
  },
  {
   "cell_type": "code",
   "execution_count": 112,
   "id": "1311b5e5",
   "metadata": {},
   "outputs": [
    {
     "data": {
      "text/plain": [
       "(2079,)"
      ]
     },
     "execution_count": 112,
     "metadata": {},
     "output_type": "execute_result"
    }
   ],
   "source": [
    "y_test.shape"
   ]
  },
  {
   "cell_type": "markdown",
   "id": "efced3e0",
   "metadata": {},
   "source": [
    "# RandomForestRegressor"
   ]
  },
  {
   "cell_type": "code",
   "execution_count": 113,
   "id": "aad51426",
   "metadata": {},
   "outputs": [],
   "source": [
    "rfr=RandomForestRegressor()\n"
   ]
  },
  {
   "cell_type": "code",
   "execution_count": 114,
   "id": "aba623e0",
   "metadata": {},
   "outputs": [
    {
     "data": {
      "text/plain": [
       "RandomForestRegressor()"
      ]
     },
     "execution_count": 114,
     "metadata": {},
     "output_type": "execute_result"
    }
   ],
   "source": [
    "rfr.fit(X_train,y_train)"
   ]
  },
  {
   "cell_type": "code",
   "execution_count": 115,
   "id": "8aaad0b8",
   "metadata": {},
   "outputs": [],
   "source": [
    "y_pred=rfr.predict(X_train)\n"
   ]
  },
  {
   "cell_type": "code",
   "execution_count": 116,
   "id": "076f7ef3",
   "metadata": {},
   "outputs": [
    {
     "data": {
      "text/plain": [
       "array([0.02  , 0.6011, 0.09  , ..., 0.08  , 0.34  , 0.04  ])"
      ]
     },
     "execution_count": 116,
     "metadata": {},
     "output_type": "execute_result"
    }
   ],
   "source": [
    "y_pred"
   ]
  },
  {
   "cell_type": "code",
   "execution_count": null,
   "id": "cde43737",
   "metadata": {},
   "outputs": [],
   "source": []
  },
  {
   "cell_type": "code",
   "execution_count": 117,
   "id": "aaa356dd",
   "metadata": {},
   "outputs": [
    {
     "data": {
      "text/plain": [
       "0.9999967986645356"
      ]
     },
     "execution_count": 117,
     "metadata": {},
     "output_type": "execute_result"
    }
   ],
   "source": [
    "r2_score(y_train,y_pred)"
   ]
  },
  {
   "cell_type": "code",
   "execution_count": 118,
   "id": "6f702682",
   "metadata": {},
   "outputs": [],
   "source": [
    "y_pred=rfr.predict(X_test)\n"
   ]
  },
  {
   "cell_type": "code",
   "execution_count": 119,
   "id": "1869019c",
   "metadata": {},
   "outputs": [
    {
     "data": {
      "text/plain": [
       "array([0.14, 0.16, 0.19, ..., 0.05, 0.26, 0.1 ])"
      ]
     },
     "execution_count": 119,
     "metadata": {},
     "output_type": "execute_result"
    }
   ],
   "source": [
    "y_pred"
   ]
  },
  {
   "cell_type": "code",
   "execution_count": 120,
   "id": "c03cacdd",
   "metadata": {},
   "outputs": [
    {
     "data": {
      "text/plain": [
       "0.9999575523701886"
      ]
     },
     "execution_count": 120,
     "metadata": {},
     "output_type": "execute_result"
    }
   ],
   "source": [
    "r2_score(y_test,y_pred)"
   ]
  },
  {
   "cell_type": "code",
   "execution_count": 121,
   "id": "286b6310",
   "metadata": {},
   "outputs": [],
   "source": [
    "kf=KFold(5)\n"
   ]
  },
  {
   "cell_type": "code",
   "execution_count": 122,
   "id": "e8f739d8",
   "metadata": {},
   "outputs": [],
   "source": [
    "scores=cross_val_score(rfr,X_test,y_test,cv=kf)\n"
   ]
  },
  {
   "cell_type": "code",
   "execution_count": 123,
   "id": "57f2978e",
   "metadata": {},
   "outputs": [
    {
     "name": "stdout",
     "output_type": "stream",
     "text": [
      "0 0.9996622746757768\n",
      "1 0.9999144027569974\n",
      "2 0.9994952641758483\n",
      "3 0.9999356320984255\n",
      "4 0.9998880437814492\n"
     ]
    }
   ],
   "source": [
    "for idx,val in enumerate(scores):\n",
    "    print(idx,val)"
   ]
  },
  {
   "cell_type": "code",
   "execution_count": 124,
   "id": "ecc174fd",
   "metadata": {},
   "outputs": [
    {
     "data": {
      "text/plain": [
       "0.9997791234976994"
      ]
     },
     "execution_count": 124,
     "metadata": {},
     "output_type": "execute_result"
    }
   ],
   "source": [
    "scores.mean()"
   ]
  },
  {
   "cell_type": "code",
   "execution_count": 125,
   "id": "9c587a75",
   "metadata": {},
   "outputs": [
    {
     "data": {
      "text/html": [
       "<div>\n",
       "<style scoped>\n",
       "    .dataframe tbody tr th:only-of-type {\n",
       "        vertical-align: middle;\n",
       "    }\n",
       "\n",
       "    .dataframe tbody tr th {\n",
       "        vertical-align: top;\n",
       "    }\n",
       "\n",
       "    .dataframe thead th {\n",
       "        text-align: right;\n",
       "    }\n",
       "</style>\n",
       "<table border=\"1\" class=\"dataframe\">\n",
       "  <thead>\n",
       "    <tr style=\"text-align: right;\">\n",
       "      <th></th>\n",
       "      <th>Rank</th>\n",
       "      <th>Name</th>\n",
       "      <th>Platform</th>\n",
       "      <th>Year</th>\n",
       "      <th>Genre</th>\n",
       "      <th>Publisher</th>\n",
       "      <th>NA_Sales</th>\n",
       "      <th>EU_Sales</th>\n",
       "      <th>JP_Sales</th>\n",
       "      <th>Other_Sales</th>\n",
       "      <th>Global_Sales</th>\n",
       "    </tr>\n",
       "  </thead>\n",
       "  <tbody>\n",
       "    <tr>\n",
       "      <th>2799</th>\n",
       "      <td>2801</td>\n",
       "      <td>4192</td>\n",
       "      <td>9</td>\n",
       "      <td>1998.0</td>\n",
       "      <td>2</td>\n",
       "      <td>161</td>\n",
       "      <td>0.55</td>\n",
       "      <td>0.17</td>\n",
       "      <td>0.0</td>\n",
       "      <td>0.01</td>\n",
       "      <td>0.73</td>\n",
       "    </tr>\n",
       "    <tr>\n",
       "      <th>2805</th>\n",
       "      <td>2807</td>\n",
       "      <td>4754</td>\n",
       "      <td>28</td>\n",
       "      <td>2001.0</td>\n",
       "      <td>4</td>\n",
       "      <td>47</td>\n",
       "      <td>0.54</td>\n",
       "      <td>0.16</td>\n",
       "      <td>0.0</td>\n",
       "      <td>0.03</td>\n",
       "      <td>0.73</td>\n",
       "    </tr>\n",
       "    <tr>\n",
       "      <th>2813</th>\n",
       "      <td>2815</td>\n",
       "      <td>2363</td>\n",
       "      <td>28</td>\n",
       "      <td>2004.0</td>\n",
       "      <td>11</td>\n",
       "      <td>435</td>\n",
       "      <td>0.54</td>\n",
       "      <td>0.16</td>\n",
       "      <td>0.0</td>\n",
       "      <td>0.03</td>\n",
       "      <td>0.73</td>\n",
       "    </tr>\n",
       "    <tr>\n",
       "      <th>2823</th>\n",
       "      <td>2825</td>\n",
       "      <td>3165</td>\n",
       "      <td>7</td>\n",
       "      <td>2002.0</td>\n",
       "      <td>8</td>\n",
       "      <td>123</td>\n",
       "      <td>0.56</td>\n",
       "      <td>0.15</td>\n",
       "      <td>0.0</td>\n",
       "      <td>0.02</td>\n",
       "      <td>0.72</td>\n",
       "    </tr>\n",
       "    <tr>\n",
       "      <th>2834</th>\n",
       "      <td>2836</td>\n",
       "      <td>1460</td>\n",
       "      <td>28</td>\n",
       "      <td>2002.0</td>\n",
       "      <td>8</td>\n",
       "      <td>123</td>\n",
       "      <td>0.53</td>\n",
       "      <td>0.17</td>\n",
       "      <td>0.0</td>\n",
       "      <td>0.03</td>\n",
       "      <td>0.72</td>\n",
       "    </tr>\n",
       "    <tr>\n",
       "      <th>...</th>\n",
       "      <td>...</td>\n",
       "      <td>...</td>\n",
       "      <td>...</td>\n",
       "      <td>...</td>\n",
       "      <td>...</td>\n",
       "      <td>...</td>\n",
       "      <td>...</td>\n",
       "      <td>...</td>\n",
       "      <td>...</td>\n",
       "      <td>...</td>\n",
       "      <td>...</td>\n",
       "    </tr>\n",
       "    <tr>\n",
       "      <th>16593</th>\n",
       "      <td>16596</td>\n",
       "      <td>7631</td>\n",
       "      <td>6</td>\n",
       "      <td>2002.0</td>\n",
       "      <td>4</td>\n",
       "      <td>241</td>\n",
       "      <td>0.01</td>\n",
       "      <td>0.00</td>\n",
       "      <td>0.0</td>\n",
       "      <td>0.00</td>\n",
       "      <td>0.01</td>\n",
       "    </tr>\n",
       "    <tr>\n",
       "      <th>16594</th>\n",
       "      <td>16597</td>\n",
       "      <td>4004</td>\n",
       "      <td>7</td>\n",
       "      <td>2003.0</td>\n",
       "      <td>8</td>\n",
       "      <td>214</td>\n",
       "      <td>0.01</td>\n",
       "      <td>0.00</td>\n",
       "      <td>0.0</td>\n",
       "      <td>0.00</td>\n",
       "      <td>0.01</td>\n",
       "    </tr>\n",
       "    <tr>\n",
       "      <th>16595</th>\n",
       "      <td>16598</td>\n",
       "      <td>5646</td>\n",
       "      <td>15</td>\n",
       "      <td>2008.0</td>\n",
       "      <td>6</td>\n",
       "      <td>20</td>\n",
       "      <td>0.00</td>\n",
       "      <td>0.00</td>\n",
       "      <td>0.0</td>\n",
       "      <td>0.00</td>\n",
       "      <td>0.01</td>\n",
       "    </tr>\n",
       "    <tr>\n",
       "      <th>16596</th>\n",
       "      <td>16599</td>\n",
       "      <td>3467</td>\n",
       "      <td>4</td>\n",
       "      <td>2010.0</td>\n",
       "      <td>5</td>\n",
       "      <td>7</td>\n",
       "      <td>0.00</td>\n",
       "      <td>0.01</td>\n",
       "      <td>0.0</td>\n",
       "      <td>0.00</td>\n",
       "      <td>0.01</td>\n",
       "    </tr>\n",
       "    <tr>\n",
       "      <th>16597</th>\n",
       "      <td>16600</td>\n",
       "      <td>6191</td>\n",
       "      <td>6</td>\n",
       "      <td>2003.0</td>\n",
       "      <td>4</td>\n",
       "      <td>485</td>\n",
       "      <td>0.01</td>\n",
       "      <td>0.00</td>\n",
       "      <td>0.0</td>\n",
       "      <td>0.00</td>\n",
       "      <td>0.01</td>\n",
       "    </tr>\n",
       "  </tbody>\n",
       "</table>\n",
       "<p>10393 rows × 11 columns</p>\n",
       "</div>"
      ],
      "text/plain": [
       "        Rank  Name  Platform    Year  Genre  Publisher  NA_Sales  EU_Sales  \\\n",
       "2799    2801  4192         9  1998.0      2        161      0.55      0.17   \n",
       "2805    2807  4754        28  2001.0      4         47      0.54      0.16   \n",
       "2813    2815  2363        28  2004.0     11        435      0.54      0.16   \n",
       "2823    2825  3165         7  2002.0      8        123      0.56      0.15   \n",
       "2834    2836  1460        28  2002.0      8        123      0.53      0.17   \n",
       "...      ...   ...       ...     ...    ...        ...       ...       ...   \n",
       "16593  16596  7631         6  2002.0      4        241      0.01      0.00   \n",
       "16594  16597  4004         7  2003.0      8        214      0.01      0.00   \n",
       "16595  16598  5646        15  2008.0      6         20      0.00      0.00   \n",
       "16596  16599  3467         4  2010.0      5          7      0.00      0.01   \n",
       "16597  16600  6191         6  2003.0      4        485      0.01      0.00   \n",
       "\n",
       "       JP_Sales  Other_Sales  Global_Sales  \n",
       "2799        0.0         0.01          0.73  \n",
       "2805        0.0         0.03          0.73  \n",
       "2813        0.0         0.03          0.73  \n",
       "2823        0.0         0.02          0.72  \n",
       "2834        0.0         0.03          0.72  \n",
       "...         ...          ...           ...  \n",
       "16593       0.0         0.00          0.01  \n",
       "16594       0.0         0.00          0.01  \n",
       "16595       0.0         0.00          0.01  \n",
       "16596       0.0         0.00          0.01  \n",
       "16597       0.0         0.00          0.01  \n",
       "\n",
       "[10393 rows x 11 columns]"
      ]
     },
     "execution_count": 125,
     "metadata": {},
     "output_type": "execute_result"
    }
   ],
   "source": [
    "df"
   ]
  },
  {
   "cell_type": "markdown",
   "id": "32889be7",
   "metadata": {},
   "source": [
    "# XGBRegressor"
   ]
  },
  {
   "cell_type": "code",
   "execution_count": 126,
   "id": "096958eb",
   "metadata": {},
   "outputs": [],
   "source": [
    "xgb_i=xgb.XGBRegressor()"
   ]
  },
  {
   "cell_type": "code",
   "execution_count": 127,
   "id": "4b6b2b29",
   "metadata": {},
   "outputs": [
    {
     "data": {
      "text/plain": [
       "XGBRegressor(base_score=None, booster=None, callbacks=None,\n",
       "             colsample_bylevel=None, colsample_bynode=None,\n",
       "             colsample_bytree=None, early_stopping_rounds=None,\n",
       "             enable_categorical=False, eval_metric=None, feature_types=None,\n",
       "             gamma=None, gpu_id=None, grow_policy=None, importance_type=None,\n",
       "             interaction_constraints=None, learning_rate=None, max_bin=None,\n",
       "             max_cat_threshold=None, max_cat_to_onehot=None,\n",
       "             max_delta_step=None, max_depth=None, max_leaves=None,\n",
       "             min_child_weight=None, missing=nan, monotone_constraints=None,\n",
       "             n_estimators=100, n_jobs=None, num_parallel_tree=None,\n",
       "             predictor=None, random_state=None, ...)"
      ]
     },
     "execution_count": 127,
     "metadata": {},
     "output_type": "execute_result"
    }
   ],
   "source": [
    "xgb_i.fit(X_train,y_train)"
   ]
  },
  {
   "cell_type": "code",
   "execution_count": 128,
   "id": "b1fb6123",
   "metadata": {},
   "outputs": [],
   "source": [
    "y_pred=xgb_i.predict(X_test)"
   ]
  },
  {
   "cell_type": "code",
   "execution_count": 129,
   "id": "bc581e16",
   "metadata": {},
   "outputs": [
    {
     "data": {
      "text/plain": [
       "0.9999536556698541"
      ]
     },
     "execution_count": 129,
     "metadata": {},
     "output_type": "execute_result"
    }
   ],
   "source": [
    "r2_score(y_test,y_pred)"
   ]
  },
  {
   "cell_type": "code",
   "execution_count": 130,
   "id": "6e519dcd",
   "metadata": {},
   "outputs": [],
   "source": [
    "kf=KFold(5)\n"
   ]
  },
  {
   "cell_type": "code",
   "execution_count": 131,
   "id": "592f4b2f",
   "metadata": {},
   "outputs": [],
   "source": [
    "scores=cross_val_score(xgb_i,X_test,y_test,cv=kf)\n"
   ]
  },
  {
   "cell_type": "code",
   "execution_count": 132,
   "id": "9cb97781",
   "metadata": {},
   "outputs": [
    {
     "name": "stdout",
     "output_type": "stream",
     "text": [
      "0 0.9998275278061635\n",
      "1 0.999853250895816\n",
      "2 0.9997235678194801\n",
      "3 0.9999081749771873\n",
      "4 0.9998842153826359\n"
     ]
    }
   ],
   "source": [
    "for idx,val in enumerate(scores):\n",
    "    print(idx,val)"
   ]
  },
  {
   "cell_type": "code",
   "execution_count": 133,
   "id": "4d09ae3e",
   "metadata": {},
   "outputs": [
    {
     "data": {
      "text/plain": [
       "0.9998393473762566"
      ]
     },
     "execution_count": 133,
     "metadata": {},
     "output_type": "execute_result"
    }
   ],
   "source": [
    "scores.mean()"
   ]
  },
  {
   "cell_type": "code",
   "execution_count": null,
   "id": "380734c0",
   "metadata": {},
   "outputs": [],
   "source": []
  },
  {
   "cell_type": "code",
   "execution_count": null,
   "id": "917eb3a6",
   "metadata": {},
   "outputs": [],
   "source": []
  },
  {
   "cell_type": "markdown",
   "id": "34ed56d8",
   "metadata": {},
   "source": [
    "# KNeighborsRegressor"
   ]
  },
  {
   "cell_type": "code",
   "execution_count": 134,
   "id": "8b941d13",
   "metadata": {},
   "outputs": [],
   "source": [
    "knc=KNeighborsRegressor()\n"
   ]
  },
  {
   "cell_type": "code",
   "execution_count": 135,
   "id": "15242222",
   "metadata": {},
   "outputs": [
    {
     "data": {
      "text/plain": [
       "KNeighborsRegressor()"
      ]
     },
     "execution_count": 135,
     "metadata": {},
     "output_type": "execute_result"
    }
   ],
   "source": [
    "knc.fit(X_train,y_train)"
   ]
  },
  {
   "cell_type": "code",
   "execution_count": 136,
   "id": "f87ff471",
   "metadata": {},
   "outputs": [],
   "source": [
    "y_pred=knc.predict(X_train)"
   ]
  },
  {
   "cell_type": "code",
   "execution_count": 137,
   "id": "ede5ca49",
   "metadata": {},
   "outputs": [
    {
     "data": {
      "text/plain": [
       "0.9851455052997056"
      ]
     },
     "execution_count": 137,
     "metadata": {},
     "output_type": "execute_result"
    }
   ],
   "source": [
    "r2_score(y_train,y_pred)"
   ]
  },
  {
   "cell_type": "code",
   "execution_count": 138,
   "id": "f90aa9ec",
   "metadata": {},
   "outputs": [],
   "source": [
    "y_pred=knc.predict(X_test)"
   ]
  },
  {
   "cell_type": "code",
   "execution_count": 139,
   "id": "a5af693a",
   "metadata": {},
   "outputs": [
    {
     "data": {
      "text/plain": [
       "0.9810007038356336"
      ]
     },
     "execution_count": 139,
     "metadata": {},
     "output_type": "execute_result"
    }
   ],
   "source": [
    "r2_score(y_test,y_pred)"
   ]
  },
  {
   "cell_type": "code",
   "execution_count": 140,
   "id": "d44d75cc",
   "metadata": {},
   "outputs": [],
   "source": [
    "kf=KFold(5)\n"
   ]
  },
  {
   "cell_type": "code",
   "execution_count": 141,
   "id": "5c9f4bd6",
   "metadata": {},
   "outputs": [],
   "source": [
    "scores=cross_val_score(knc,X_test,y_test,cv=kf)\n"
   ]
  },
  {
   "cell_type": "code",
   "execution_count": 142,
   "id": "58c13050",
   "metadata": {},
   "outputs": [
    {
     "name": "stdout",
     "output_type": "stream",
     "text": [
      "0 0.9656488380189747\n",
      "1 0.9690593166975693\n",
      "2 0.9646642444236966\n",
      "3 0.9615646405761418\n",
      "4 0.9609811460251031\n"
     ]
    }
   ],
   "source": [
    "for idx,val in enumerate(scores):\n",
    "    print(idx,val)"
   ]
  },
  {
   "cell_type": "code",
   "execution_count": 143,
   "id": "2ece6ff1",
   "metadata": {},
   "outputs": [
    {
     "data": {
      "text/plain": [
       "0.9643836371482971"
      ]
     },
     "execution_count": 143,
     "metadata": {},
     "output_type": "execute_result"
    }
   ],
   "source": [
    "scores.mean()"
   ]
  },
  {
   "cell_type": "markdown",
   "id": "38992656",
   "metadata": {},
   "source": [
    "# LinearRegression"
   ]
  },
  {
   "cell_type": "code",
   "execution_count": 144,
   "id": "0bfbc378",
   "metadata": {},
   "outputs": [],
   "source": [
    "lr=LinearRegression()\n"
   ]
  },
  {
   "cell_type": "code",
   "execution_count": 145,
   "id": "06e06938",
   "metadata": {},
   "outputs": [
    {
     "data": {
      "text/plain": [
       "LinearRegression()"
      ]
     },
     "execution_count": 145,
     "metadata": {},
     "output_type": "execute_result"
    }
   ],
   "source": [
    "lr.fit(X_train,y_train)"
   ]
  },
  {
   "cell_type": "code",
   "execution_count": 146,
   "id": "64f92087",
   "metadata": {},
   "outputs": [],
   "source": [
    "y_pred=lr.predict(X_train)\n"
   ]
  },
  {
   "cell_type": "code",
   "execution_count": 147,
   "id": "6cd8ef99",
   "metadata": {},
   "outputs": [
    {
     "data": {
      "text/plain": [
       "0.9984537036638667"
      ]
     },
     "execution_count": 147,
     "metadata": {},
     "output_type": "execute_result"
    }
   ],
   "source": [
    "r2_score(y_train,y_pred)"
   ]
  },
  {
   "cell_type": "code",
   "execution_count": 148,
   "id": "d694f05a",
   "metadata": {},
   "outputs": [],
   "source": [
    "y_pred=lr.predict(X_test)\n"
   ]
  },
  {
   "cell_type": "code",
   "execution_count": 149,
   "id": "ce473490",
   "metadata": {},
   "outputs": [
    {
     "data": {
      "text/plain": [
       "0.9985473622931332"
      ]
     },
     "execution_count": 149,
     "metadata": {},
     "output_type": "execute_result"
    }
   ],
   "source": [
    "r2_score(y_test,y_pred)"
   ]
  },
  {
   "cell_type": "code",
   "execution_count": 150,
   "id": "834f70bd",
   "metadata": {},
   "outputs": [],
   "source": [
    "kf=KFold(5)\n"
   ]
  },
  {
   "cell_type": "code",
   "execution_count": 151,
   "id": "4d000ecf",
   "metadata": {},
   "outputs": [],
   "source": [
    "scores=cross_val_score(lr,X_test,y_test,cv=kf)\n"
   ]
  },
  {
   "cell_type": "code",
   "execution_count": 152,
   "id": "b03626de",
   "metadata": {},
   "outputs": [
    {
     "name": "stdout",
     "output_type": "stream",
     "text": [
      "0 0.9985372815826404\n",
      "1 0.9987132750314703\n",
      "2 0.9986111244430499\n",
      "3 0.9984512307682386\n",
      "4 0.9982777198079319\n"
     ]
    }
   ],
   "source": [
    "for idx,val in enumerate(scores):\n",
    "    print(idx,val)"
   ]
  },
  {
   "cell_type": "code",
   "execution_count": 153,
   "id": "5f12f12c",
   "metadata": {},
   "outputs": [
    {
     "data": {
      "text/plain": [
       "0.9985181263266663"
      ]
     },
     "execution_count": 153,
     "metadata": {},
     "output_type": "execute_result"
    }
   ],
   "source": [
    "scores.mean()"
   ]
  },
  {
   "cell_type": "code",
   "execution_count": null,
   "id": "dcab587e",
   "metadata": {},
   "outputs": [],
   "source": []
  },
  {
   "cell_type": "code",
   "execution_count": null,
   "id": "af67cb8a",
   "metadata": {},
   "outputs": [],
   "source": []
  },
  {
   "cell_type": "code",
   "execution_count": 154,
   "id": "aa05654d",
   "metadata": {},
   "outputs": [],
   "source": [
    "kf=KFold(5)\n"
   ]
  },
  {
   "cell_type": "code",
   "execution_count": 155,
   "id": "932fa314",
   "metadata": {},
   "outputs": [],
   "source": [
    "scores=cross_val_score(knc,X_test,y_test,cv=kf)\n"
   ]
  },
  {
   "cell_type": "code",
   "execution_count": 156,
   "id": "24e09033",
   "metadata": {},
   "outputs": [
    {
     "name": "stdout",
     "output_type": "stream",
     "text": [
      "0 0.9656488380189747\n",
      "1 0.9690593166975693\n",
      "2 0.9646642444236966\n",
      "3 0.9615646405761418\n",
      "4 0.9609811460251031\n"
     ]
    }
   ],
   "source": [
    "for idx,val in enumerate(scores):\n",
    "    print(idx,val)"
   ]
  },
  {
   "cell_type": "code",
   "execution_count": 157,
   "id": "b349e69a",
   "metadata": {},
   "outputs": [
    {
     "data": {
      "text/plain": [
       "0.9643836371482971"
      ]
     },
     "execution_count": 157,
     "metadata": {},
     "output_type": "execute_result"
    }
   ],
   "source": [
    "scores.mean()"
   ]
  },
  {
   "cell_type": "markdown",
   "id": "c5776744",
   "metadata": {},
   "source": [
    "# ANN"
   ]
  },
  {
   "cell_type": "code",
   "execution_count": 158,
   "id": "4911ad5c",
   "metadata": {},
   "outputs": [],
   "source": [
    "model=keras.Sequential([\n",
    "    keras.layers.Dense(15,input_shape=(10,),activation='relu'),\n",
    "    keras.layers.Dense(15,activation='relu'),\n",
    "    keras.layers.Dense(1,activation='linear')     \n",
    "])"
   ]
  },
  {
   "cell_type": "code",
   "execution_count": 161,
   "id": "e73af271",
   "metadata": {},
   "outputs": [],
   "source": [
    "model.compile(optimizer='adam',\n",
    "    loss='mean_squared_error',\n",
    "    metrics=['mse'])"
   ]
  },
  {
   "cell_type": "code",
   "execution_count": 178,
   "id": "bb63bef7",
   "metadata": {},
   "outputs": [
    {
     "name": "stdout",
     "output_type": "stream",
     "text": [
      "Epoch 1/100\n",
      "260/260 [==============================] - 0s 909us/step - loss: 3.0771e-04 - mse: 3.0771e-04\n",
      "Epoch 2/100\n",
      "260/260 [==============================] - 0s 1ms/step - loss: 2.5800e-04 - mse: 2.5800e-04\n",
      "Epoch 3/100\n",
      "260/260 [==============================] - 0s 1ms/step - loss: 2.2694e-04 - mse: 2.2694e-04\n",
      "Epoch 4/100\n",
      "260/260 [==============================] - 0s 1ms/step - loss: 1.9610e-04 - mse: 1.9610e-04\n",
      "Epoch 5/100\n",
      "260/260 [==============================] - 0s 1ms/step - loss: 1.7666e-04 - mse: 1.7666e-04\n",
      "Epoch 6/100\n",
      "260/260 [==============================] - 0s 762us/step - loss: 1.6298e-04 - mse: 1.6298e-04\n",
      "Epoch 7/100\n",
      "260/260 [==============================] - 0s 759us/step - loss: 1.4542e-04 - mse: 1.4542e-04\n",
      "Epoch 8/100\n",
      "260/260 [==============================] - 0s 869us/step - loss: 1.3010e-04 - mse: 1.3010e-04\n",
      "Epoch 9/100\n",
      "260/260 [==============================] - 0s 776us/step - loss: 1.1721e-04 - mse: 1.1721e-04\n",
      "Epoch 10/100\n",
      "260/260 [==============================] - 0s 806us/step - loss: 1.0574e-04 - mse: 1.0574e-04\n",
      "Epoch 11/100\n",
      "260/260 [==============================] - 0s 1ms/step - loss: 9.6599e-05 - mse: 9.6599e-05\n",
      "Epoch 12/100\n",
      "260/260 [==============================] - 0s 1ms/step - loss: 8.8245e-05 - mse: 8.8245e-05\n",
      "Epoch 13/100\n",
      "260/260 [==============================] - 0s 1ms/step - loss: 8.2317e-05 - mse: 8.2317e-05\n",
      "Epoch 14/100\n",
      "260/260 [==============================] - 0s 982us/step - loss: 7.3211e-05 - mse: 7.3211e-05\n",
      "Epoch 15/100\n",
      "260/260 [==============================] - 0s 971us/step - loss: 6.5904e-05 - mse: 6.5904e-05\n",
      "Epoch 16/100\n",
      "260/260 [==============================] - 0s 1ms/step - loss: 6.2949e-05 - mse: 6.2949e-05\n",
      "Epoch 17/100\n",
      "260/260 [==============================] - 0s 1ms/step - loss: 6.0340e-05 - mse: 6.0340e-05\n",
      "Epoch 18/100\n",
      "260/260 [==============================] - 0s 1ms/step - loss: 5.4843e-05 - mse: 5.4843e-05\n",
      "Epoch 19/100\n",
      "260/260 [==============================] - 0s 1ms/step - loss: 5.0028e-05 - mse: 5.0028e-05\n",
      "Epoch 20/100\n",
      "260/260 [==============================] - 0s 1ms/step - loss: 4.3344e-05 - mse: 4.3344e-05\n",
      "Epoch 21/100\n",
      "260/260 [==============================] - 0s 1ms/step - loss: 4.2577e-05 - mse: 4.2577e-05\n",
      "Epoch 22/100\n",
      "260/260 [==============================] - 0s 1ms/step - loss: 3.8548e-05 - mse: 3.8548e-05\n",
      "Epoch 23/100\n",
      "260/260 [==============================] - 0s 1ms/step - loss: 4.1359e-05 - mse: 4.1359e-05\n",
      "Epoch 24/100\n",
      "260/260 [==============================] - 0s 1ms/step - loss: 4.0071e-05 - mse: 4.0071e-05\n",
      "Epoch 25/100\n",
      "260/260 [==============================] - 0s 1ms/step - loss: 3.2057e-05 - mse: 3.2057e-05\n",
      "Epoch 26/100\n",
      "260/260 [==============================] - 0s 1ms/step - loss: 3.2625e-05 - mse: 3.2625e-05\n",
      "Epoch 27/100\n",
      "260/260 [==============================] - 0s 1ms/step - loss: 3.0930e-05 - mse: 3.0930e-05\n",
      "Epoch 28/100\n",
      "260/260 [==============================] - 0s 1ms/step - loss: 2.9739e-05 - mse: 2.9739e-05\n",
      "Epoch 29/100\n",
      "260/260 [==============================] - 0s 1ms/step - loss: 2.9966e-05 - mse: 2.9966e-05\n",
      "Epoch 30/100\n",
      "260/260 [==============================] - 0s 1ms/step - loss: 3.2533e-05 - mse: 3.2533e-05\n",
      "Epoch 31/100\n",
      "260/260 [==============================] - 0s 1ms/step - loss: 3.1211e-05 - mse: 3.1211e-05\n",
      "Epoch 32/100\n",
      "260/260 [==============================] - 0s 1ms/step - loss: 2.8880e-05 - mse: 2.8880e-05\n",
      "Epoch 33/100\n",
      "260/260 [==============================] - 0s 1ms/step - loss: 2.6111e-05 - mse: 2.6111e-05\n",
      "Epoch 34/100\n",
      "260/260 [==============================] - 0s 986us/step - loss: 2.7391e-05 - mse: 2.7391e-05\n",
      "Epoch 35/100\n",
      "260/260 [==============================] - 0s 985us/step - loss: 2.7094e-05 - mse: 2.7094e-05\n",
      "Epoch 36/100\n",
      "260/260 [==============================] - 0s 968us/step - loss: 2.6951e-05 - mse: 2.6951e-05\n",
      "Epoch 37/100\n",
      "260/260 [==============================] - 0s 1ms/step - loss: 2.5340e-05 - mse: 2.5340e-05\n",
      "Epoch 38/100\n",
      "260/260 [==============================] - 0s 1ms/step - loss: 2.7512e-05 - mse: 2.7512e-05\n",
      "Epoch 39/100\n",
      "260/260 [==============================] - 0s 957us/step - loss: 2.5493e-05 - mse: 2.5493e-05\n",
      "Epoch 40/100\n",
      "260/260 [==============================] - 0s 1ms/step - loss: 2.2637e-05 - mse: 2.2637e-05\n",
      "Epoch 41/100\n",
      "260/260 [==============================] - 0s 1ms/step - loss: 2.3972e-05 - mse: 2.3972e-05\n",
      "Epoch 42/100\n",
      "260/260 [==============================] - 0s 1ms/step - loss: 2.5500e-05 - mse: 2.5500e-05\n",
      "Epoch 43/100\n",
      "260/260 [==============================] - 0s 1ms/step - loss: 2.8342e-05 - mse: 2.8342e-05\n",
      "Epoch 44/100\n",
      "260/260 [==============================] - 0s 997us/step - loss: 2.2161e-05 - mse: 2.2161e-05\n",
      "Epoch 45/100\n",
      "260/260 [==============================] - 0s 1ms/step - loss: 2.3503e-05 - mse: 2.3503e-05\n",
      "Epoch 46/100\n",
      "260/260 [==============================] - 0s 997us/step - loss: 2.2646e-05 - mse: 2.2646e-05\n",
      "Epoch 47/100\n",
      "260/260 [==============================] - 0s 970us/step - loss: 2.4219e-05 - mse: 2.4219e-05\n",
      "Epoch 48/100\n",
      "260/260 [==============================] - 0s 914us/step - loss: 2.1236e-05 - mse: 2.1236e-05\n",
      "Epoch 49/100\n",
      "260/260 [==============================] - 0s 989us/step - loss: 2.3212e-05 - mse: 2.3212e-05\n",
      "Epoch 50/100\n",
      "260/260 [==============================] - 0s 1ms/step - loss: 1.9928e-05 - mse: 1.9928e-05\n",
      "Epoch 51/100\n",
      "260/260 [==============================] - 0s 974us/step - loss: 2.1758e-05 - mse: 2.1758e-05\n",
      "Epoch 52/100\n",
      "260/260 [==============================] - 0s 951us/step - loss: 2.2971e-05 - mse: 2.2971e-05\n",
      "Epoch 53/100\n",
      "260/260 [==============================] - 0s 960us/step - loss: 2.2624e-05 - mse: 2.2624e-05\n",
      "Epoch 54/100\n",
      "260/260 [==============================] - 0s 925us/step - loss: 2.1169e-05 - mse: 2.1169e-05\n",
      "Epoch 55/100\n",
      "260/260 [==============================] - 0s 929us/step - loss: 2.0106e-05 - mse: 2.0106e-05\n",
      "Epoch 56/100\n",
      "260/260 [==============================] - 0s 1ms/step - loss: 2.1825e-05 - mse: 2.1825e-05\n",
      "Epoch 57/100\n",
      "260/260 [==============================] - 0s 1ms/step - loss: 2.0247e-05 - mse: 2.0247e-05\n",
      "Epoch 58/100\n",
      "260/260 [==============================] - 0s 1ms/step - loss: 2.0761e-05 - mse: 2.0761e-05\n",
      "Epoch 59/100\n",
      "260/260 [==============================] - 0s 1ms/step - loss: 1.9566e-05 - mse: 1.9566e-05\n",
      "Epoch 60/100\n",
      "260/260 [==============================] - 0s 1ms/step - loss: 2.0272e-05 - mse: 2.0272e-05\n",
      "Epoch 61/100\n",
      "260/260 [==============================] - 0s 1ms/step - loss: 2.1967e-05 - mse: 2.1967e-05\n",
      "Epoch 62/100\n",
      "260/260 [==============================] - 0s 1ms/step - loss: 1.8429e-05 - mse: 1.8429e-05\n",
      "Epoch 63/100\n",
      "260/260 [==============================] - 0s 1ms/step - loss: 1.7506e-05 - mse: 1.7506e-05\n",
      "Epoch 64/100\n",
      "260/260 [==============================] - 0s 966us/step - loss: 1.9147e-05 - mse: 1.9147e-05\n",
      "Epoch 65/100\n",
      "260/260 [==============================] - 0s 1ms/step - loss: 1.7215e-05 - mse: 1.7215e-05\n",
      "Epoch 66/100\n",
      "260/260 [==============================] - 0s 973us/step - loss: 2.0483e-05 - mse: 2.0483e-05\n",
      "Epoch 67/100\n",
      "260/260 [==============================] - 0s 992us/step - loss: 1.7061e-05 - mse: 1.7061e-05\n",
      "Epoch 68/100\n",
      "260/260 [==============================] - 0s 969us/step - loss: 1.6981e-05 - mse: 1.6981e-05\n",
      "Epoch 69/100\n",
      "260/260 [==============================] - 0s 1ms/step - loss: 1.8981e-05 - mse: 1.8981e-05\n",
      "Epoch 70/100\n",
      "260/260 [==============================] - 0s 892us/step - loss: 1.9363e-05 - mse: 1.9363e-05\n",
      "Epoch 71/100\n",
      "260/260 [==============================] - 0s 993us/step - loss: 1.8150e-05 - mse: 1.8150e-05\n",
      "Epoch 72/100\n",
      "260/260 [==============================] - 0s 1ms/step - loss: 1.8361e-05 - mse: 1.8361e-05\n",
      "Epoch 73/100\n",
      "260/260 [==============================] - 0s 989us/step - loss: 1.7607e-05 - mse: 1.7607e-05\n",
      "Epoch 74/100\n",
      "260/260 [==============================] - 0s 951us/step - loss: 1.6098e-05 - mse: 1.6098e-05\n",
      "Epoch 75/100\n",
      "260/260 [==============================] - 0s 967us/step - loss: 1.5493e-05 - mse: 1.5493e-05\n",
      "Epoch 76/100\n",
      "260/260 [==============================] - 0s 922us/step - loss: 1.7901e-05 - mse: 1.7901e-05\n",
      "Epoch 77/100\n",
      "260/260 [==============================] - 0s 951us/step - loss: 1.5594e-05 - mse: 1.5594e-05\n",
      "Epoch 78/100\n",
      "260/260 [==============================] - 0s 844us/step - loss: 1.6002e-05 - mse: 1.6002e-05\n",
      "Epoch 79/100\n",
      "260/260 [==============================] - 0s 1ms/step - loss: 1.4599e-05 - mse: 1.4599e-05\n",
      "Epoch 80/100\n",
      "260/260 [==============================] - 0s 987us/step - loss: 1.6482e-05 - mse: 1.6482e-05\n",
      "Epoch 81/100\n",
      "260/260 [==============================] - 0s 943us/step - loss: 1.5787e-05 - mse: 1.5787e-05\n",
      "Epoch 82/100\n",
      "260/260 [==============================] - 0s 989us/step - loss: 1.6367e-05 - mse: 1.6367e-05\n",
      "Epoch 83/100\n",
      "260/260 [==============================] - 0s 974us/step - loss: 1.3278e-05 - mse: 1.3278e-05\n",
      "Epoch 84/100\n",
      "260/260 [==============================] - 0s 876us/step - loss: 1.3259e-05 - mse: 1.3259e-05\n",
      "Epoch 85/100\n",
      "260/260 [==============================] - 0s 1ms/step - loss: 1.4183e-05 - mse: 1.4183e-05\n",
      "Epoch 86/100\n",
      "260/260 [==============================] - 0s 1ms/step - loss: 1.3467e-05 - mse: 1.3467e-05\n",
      "Epoch 87/100\n",
      "260/260 [==============================] - 0s 970us/step - loss: 1.5769e-05 - mse: 1.5769e-05\n",
      "Epoch 88/100\n",
      "260/260 [==============================] - 0s 978us/step - loss: 1.4456e-05 - mse: 1.4456e-05\n",
      "Epoch 89/100\n",
      "260/260 [==============================] - 0s 999us/step - loss: 1.2740e-05 - mse: 1.2740e-05\n",
      "Epoch 90/100\n",
      "260/260 [==============================] - 0s 924us/step - loss: 1.4530e-05 - mse: 1.4530e-05\n",
      "Epoch 91/100\n",
      "260/260 [==============================] - 0s 994us/step - loss: 1.3819e-05 - mse: 1.3819e-05\n",
      "Epoch 92/100\n",
      "260/260 [==============================] - 0s 1ms/step - loss: 1.3136e-05 - mse: 1.3136e-05\n",
      "Epoch 93/100\n",
      "260/260 [==============================] - 0s 1ms/step - loss: 1.3162e-05 - mse: 1.3162e-05\n",
      "Epoch 94/100\n",
      "260/260 [==============================] - 0s 958us/step - loss: 1.3725e-05 - mse: 1.3725e-05\n",
      "Epoch 95/100\n",
      "260/260 [==============================] - 0s 974us/step - loss: 1.6663e-05 - mse: 1.6663e-05\n",
      "Epoch 96/100\n",
      "260/260 [==============================] - 0s 961us/step - loss: 1.3064e-05 - mse: 1.3064e-05\n",
      "Epoch 97/100\n",
      "260/260 [==============================] - 0s 949us/step - loss: 1.3092e-05 - mse: 1.3092e-05\n",
      "Epoch 98/100\n",
      "260/260 [==============================] - 0s 1ms/step - loss: 1.2786e-05 - mse: 1.2786e-05\n",
      "Epoch 99/100\n",
      "260/260 [==============================] - 0s 968us/step - loss: 1.4376e-05 - mse: 1.4376e-05\n",
      "Epoch 100/100\n",
      "260/260 [==============================] - 0s 1000us/step - loss: 1.3120e-05 - mse: 1.3120e-05\n"
     ]
    },
    {
     "data": {
      "text/plain": [
       "<keras.callbacks.History at 0x211dd409e50>"
      ]
     },
     "execution_count": 178,
     "metadata": {},
     "output_type": "execute_result"
    }
   ],
   "source": [
    "model.fit(X_train,y_train,epochs=100)"
   ]
  },
  {
   "cell_type": "code",
   "execution_count": 179,
   "id": "60371103",
   "metadata": {},
   "outputs": [
    {
     "name": "stdout",
     "output_type": "stream",
     "text": [
      "65/65 [==============================] - 0s 1ms/step - loss: 1.9132e-05 - mse: 1.9132e-05\n"
     ]
    },
    {
     "data": {
      "text/plain": [
       "[1.913213600346353e-05, 1.913213600346353e-05]"
      ]
     },
     "execution_count": 179,
     "metadata": {},
     "output_type": "execute_result"
    }
   ],
   "source": [
    "model.evaluate(X_test,y_test)"
   ]
  },
  {
   "cell_type": "code",
   "execution_count": 180,
   "id": "4bbed2b5",
   "metadata": {},
   "outputs": [
    {
     "name": "stdout",
     "output_type": "stream",
     "text": [
      "65/65 [==============================] - 0s 1ms/step\n"
     ]
    }
   ],
   "source": [
    "y_pred=model.predict(X_test)"
   ]
  },
  {
   "cell_type": "code",
   "execution_count": 181,
   "id": "a7b8b538",
   "metadata": {},
   "outputs": [
    {
     "data": {
      "text/plain": [
       "9259     0.14\n",
       "8509     0.16\n",
       "7919     0.19\n",
       "6432     0.27\n",
       "9317     0.14\n",
       "15065    0.02\n",
       "14086    0.04\n",
       "6735     0.25\n",
       "3205     0.63\n",
       "9019     0.14\n",
       "Name: Global_Sales, dtype: float64"
      ]
     },
     "execution_count": 181,
     "metadata": {},
     "output_type": "execute_result"
    }
   ],
   "source": [
    "y_test[:10]"
   ]
  },
  {
   "cell_type": "code",
   "execution_count": 182,
   "id": "7ad9733e",
   "metadata": {},
   "outputs": [
    {
     "data": {
      "text/plain": [
       "array([[0.1390802 ],\n",
       "       [0.16520393],\n",
       "       [0.18818338],\n",
       "       [0.26664463],\n",
       "       [0.13818857],\n",
       "       [0.02197911],\n",
       "       [0.03592677],\n",
       "       [0.25249398],\n",
       "       [0.6256907 ],\n",
       "       [0.14656445]], dtype=float32)"
      ]
     },
     "execution_count": 182,
     "metadata": {},
     "output_type": "execute_result"
    }
   ],
   "source": [
    "y_pred[:10]"
   ]
  },
  {
   "cell_type": "code",
   "execution_count": 183,
   "id": "69e52ca7",
   "metadata": {},
   "outputs": [
    {
     "data": {
      "text/plain": [
       "0.9988840603469265"
      ]
     },
     "execution_count": 183,
     "metadata": {},
     "output_type": "execute_result"
    }
   ],
   "source": [
    "r2_score(y_test,y_pred)"
   ]
  },
  {
   "cell_type": "code",
   "execution_count": null,
   "id": "121a140e",
   "metadata": {},
   "outputs": [],
   "source": []
  },
  {
   "cell_type": "code",
   "execution_count": null,
   "id": "89d67034",
   "metadata": {},
   "outputs": [],
   "source": []
  }
 ],
 "metadata": {
  "kernelspec": {
   "display_name": "Python 3 (ipykernel)",
   "language": "python",
   "name": "python3"
  },
  "language_info": {
   "codemirror_mode": {
    "name": "ipython",
    "version": 3
   },
   "file_extension": ".py",
   "mimetype": "text/x-python",
   "name": "python",
   "nbconvert_exporter": "python",
   "pygments_lexer": "ipython3",
   "version": "3.9.12"
  }
 },
 "nbformat": 4,
 "nbformat_minor": 5
}
